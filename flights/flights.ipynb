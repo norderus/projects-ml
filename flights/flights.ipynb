{
  "nbformat": 4,
  "nbformat_minor": 0,
  "metadata": {
    "colab": {
      "provenance": [],
      "toc_visible": true
    },
    "kernelspec": {
      "name": "python3",
      "display_name": "Python 3"
    }
  },
  "cells": [
    {
      "cell_type": "markdown",
      "metadata": {
        "id": "DaIkFeK5_UOZ"
      },
      "source": [
        "# **Описание проекта**"
      ]
    },
    {
      "cell_type": "markdown",
      "metadata": {
        "id": "tSmO0xym-5GN"
      },
      "source": [
        "Вы аналитик российской авиакомпании F9, выполняющей внутренние пассажирские перевозки. Важно понять предпочтения пользователей, покупающих билеты на разные направления.\n",
        "\n",
        "Вам предстоит изучить базу данных и проанализировать спрос пассажиров на рейсы в города, где проходят крупнейшие культурные фестивали."
      ]
    },
    {
      "cell_type": "markdown",
      "metadata": {
        "id": "qnI7c9H6A0ks"
      },
      "source": [
        "## **Описание данных**"
      ]
    },
    {
      "cell_type": "markdown",
      "metadata": {
        "id": "sGKTwgSAAS6d"
      },
      "source": [
        "Имеются файлы, в которых содержатся результаты запросов из предыдущих заданий.\n",
        "\n",
        "**query_1.csv** — результат первого запроса. В нём содержится такая информация:\n",
        "\n",
        "- *model* — **модель самолета;\n",
        "- *flights_amount* — количество рейсов для каждой модели самолетов *model* в сентябре 2018 года.\n",
        "\n",
        "**query_3.csv** — результат третьего запроса. В нём содержится такая информация:\n",
        "\n",
        "- *city* — город;\n",
        "- *average_flights* — среднее количество рейсов, прибывающих в город (*city*) за день в сентябре 2018 года.\n",
        "\n",
        "**query_last.csv** — результат последнего запроса. В нём следующая информация:\n",
        "\n",
        "- *week_number* — **номер недели;\n",
        "- *ticket_amount* — количество проданных билетов за неделю;\n",
        "- *festival_week —* есть ли на этой неделе фестиваль;\n",
        "- *festival_name —* название фестиваля."
      ]
    },
    {
      "cell_type": "markdown",
      "metadata": {
        "id": "kbYv1VTm_1Ay"
      },
      "source": [
        "## **Инструкция по выполнению проекта**"
      ]
    },
    {
      "cell_type": "markdown",
      "metadata": {
        "id": "T5zBPA83A4p0"
      },
      "source": [
        "### **Шаг 1. Аналитика средствами Python**"
      ]
    },
    {
      "cell_type": "markdown",
      "metadata": {
        "id": "xUyR0bwvBDmz"
      },
      "source": [
        " Для этих первых двух наборов данных нужно:\n",
        "\n",
        "- импортировать файлы;\n",
        "- изучить данные в них;\n",
        "- проверить типы данных на корректность;\n",
        "- выбрать топ-10 городов по количеству рейсов;\n",
        "- построить графики: модели самолётов и количество рейсов, города и количество рейсов, топ-10 городов и количество рейсов;\n",
        "- сделать выводы по каждому из графиков, пояснить результат."
      ]
    },
    {
      "cell_type": "markdown",
      "metadata": {
        "id": "kV4-MNJmBBE4"
      },
      "source": [
        "### **Шаг 2.  Проверка гипотезы средствами Python**"
      ]
    },
    {
      "cell_type": "markdown",
      "metadata": {
        "id": "gUOgs0w4BFiy"
      },
      "source": [
        "Требуется проверить гипотезу: «Средний спрос на билеты во время фестивалей не отличается от среднего спроса на билеты в обычное время».\n",
        "\n",
        "В качестве данных используется результат последнего запроса.\n",
        "\n",
        "Пороговое значение *alpha* задаётся самостоятельно.\n",
        "\n",
        "Необходимо пояснить:\n",
        "\n",
        "- Как были сформулированы нулевая и альтернативная гипотезы;\n",
        "- Какой критерий использовался для проверки гипотез и почему."
      ]
    },
    {
      "cell_type": "markdown",
      "metadata": {
        "id": "-z3I92_5Caml"
      },
      "source": [
        "# **Импорт библиотек и зависимостей**"
      ]
    },
    {
      "cell_type": "code",
      "metadata": {
        "colab": {
          "base_uri": "https://localhost:8080/"
        },
        "id": "pye1haToC3oS",
        "outputId": "84a61151-efca-46bb-e7fe-77fdae819a59"
      },
      "source": [
        "!pip install plotly"
      ],
      "execution_count": null,
      "outputs": [
        {
          "output_type": "stream",
          "text": [
            "Requirement already satisfied: plotly in /usr/local/lib/python3.6/dist-packages (4.4.1)\n",
            "Requirement already satisfied: retrying>=1.3.3 in /usr/local/lib/python3.6/dist-packages (from plotly) (1.3.3)\n",
            "Requirement already satisfied: six in /usr/local/lib/python3.6/dist-packages (from plotly) (1.15.0)\n"
          ],
          "name": "stdout"
        }
      ]
    },
    {
      "cell_type": "markdown",
      "metadata": {
        "id": "T_ORuGAxDJbJ"
      },
      "source": [
        "Захотелось попробовать данную библиотеку, данных вроде не очень много, надеюсь обойдётся без тормозов."
      ]
    },
    {
      "cell_type": "code",
      "metadata": {
        "id": "A3tP2l73DD3G"
      },
      "source": [
        "# Import Plotly.\n",
        "import plotly\n",
        "import plotly.graph_objs as go\n",
        "import plotly.express as px\n",
        "from plotly.subplots import make_subplots"
      ],
      "execution_count": null,
      "outputs": []
    },
    {
      "cell_type": "code",
      "metadata": {
        "id": "XRxARsMCleKR"
      },
      "source": [
        "# Libraries import.\n",
        "import random\n",
        "import warnings\n",
        "warnings.filterwarnings('ignore')\n",
        "\n",
        "import re\n",
        "import math\n",
        "import pandas as pd\n",
        "import numpy as np\n",
        "import seaborn as sns\n",
        "from matplotlib import pyplot as plt\n",
        "from scipy import stats as st"
      ],
      "execution_count": null,
      "outputs": []
    },
    {
      "cell_type": "markdown",
      "metadata": {
        "id": "teXFfzGoEGI-"
      },
      "source": [
        "# **1. Подготовка и анализ данных**"
      ]
    },
    {
      "cell_type": "markdown",
      "metadata": {
        "id": "Yl57B5_LERje"
      },
      "source": [
        "## **1.1 Импорт данных**"
      ]
    },
    {
      "cell_type": "code",
      "metadata": {
        "id": "U1P5U8NpEYGW"
      },
      "source": [
        "# Data import.\n",
        "try:\n",
        "    airplanes = pd.read_csv('/datasets/query_1.csv')\n",
        "    cities = pd.read_csv('/datasets/query_1.csv')\n",
        "    festivales = pd.read_csv('/datasets/query_1.csv')\n",
        "except:\n",
        "    airplanes = pd.read_csv('/content/drive/My Drive/Colab Notebooks/flights/query_1.csv')\n",
        "    cities = pd.read_csv('/content/drive/My Drive/Colab Notebooks/flights/query_3.csv')\n",
        "    festivales = pd.read_csv('/content/drive/My Drive/Colab Notebooks/flights/query_last.csv')"
      ],
      "execution_count": null,
      "outputs": []
    },
    {
      "cell_type": "code",
      "metadata": {
        "colab": {
          "base_uri": "https://localhost:8080/",
          "height": 277
        },
        "id": "gxhd5lT7FbXc",
        "outputId": "9400ad2c-7eb4-4ac1-f361-09ffc10560df"
      },
      "source": [
        "# Data view.\n",
        "airplanes.head(10)"
      ],
      "execution_count": null,
      "outputs": [
        {
          "output_type": "execute_result",
          "data": {
            "text/html": [
              "<div>\n",
              "<style scoped>\n",
              "    .dataframe tbody tr th:only-of-type {\n",
              "        vertical-align: middle;\n",
              "    }\n",
              "\n",
              "    .dataframe tbody tr th {\n",
              "        vertical-align: top;\n",
              "    }\n",
              "\n",
              "    .dataframe thead th {\n",
              "        text-align: right;\n",
              "    }\n",
              "</style>\n",
              "<table border=\"1\" class=\"dataframe\">\n",
              "  <thead>\n",
              "    <tr style=\"text-align: right;\">\n",
              "      <th></th>\n",
              "      <th>model</th>\n",
              "      <th>flights_amount</th>\n",
              "    </tr>\n",
              "  </thead>\n",
              "  <tbody>\n",
              "    <tr>\n",
              "      <th>0</th>\n",
              "      <td>Airbus A319-100</td>\n",
              "      <td>607</td>\n",
              "    </tr>\n",
              "    <tr>\n",
              "      <th>1</th>\n",
              "      <td>Airbus A321-200</td>\n",
              "      <td>960</td>\n",
              "    </tr>\n",
              "    <tr>\n",
              "      <th>2</th>\n",
              "      <td>Boeing 737-300</td>\n",
              "      <td>630</td>\n",
              "    </tr>\n",
              "    <tr>\n",
              "      <th>3</th>\n",
              "      <td>Boeing 767-300</td>\n",
              "      <td>600</td>\n",
              "    </tr>\n",
              "    <tr>\n",
              "      <th>4</th>\n",
              "      <td>Boeing 777-300</td>\n",
              "      <td>300</td>\n",
              "    </tr>\n",
              "    <tr>\n",
              "      <th>5</th>\n",
              "      <td>Bombardier CRJ-200</td>\n",
              "      <td>4446</td>\n",
              "    </tr>\n",
              "    <tr>\n",
              "      <th>6</th>\n",
              "      <td>Cessna 208 Caravan</td>\n",
              "      <td>4557</td>\n",
              "    </tr>\n",
              "    <tr>\n",
              "      <th>7</th>\n",
              "      <td>Sukhoi SuperJet-100</td>\n",
              "      <td>4185</td>\n",
              "    </tr>\n",
              "  </tbody>\n",
              "</table>\n",
              "</div>"
            ],
            "text/plain": [
              "                 model  flights_amount\n",
              "0      Airbus A319-100             607\n",
              "1      Airbus A321-200             960\n",
              "2       Boeing 737-300             630\n",
              "3       Boeing 767-300             600\n",
              "4       Boeing 777-300             300\n",
              "5   Bombardier CRJ-200            4446\n",
              "6   Cessna 208 Caravan            4557\n",
              "7  Sukhoi SuperJet-100            4185"
            ]
          },
          "metadata": {
            "tags": []
          },
          "execution_count": 5
        }
      ]
    },
    {
      "cell_type": "code",
      "metadata": {
        "colab": {
          "base_uri": "https://localhost:8080/",
          "height": 335
        },
        "id": "Wmm6AYILFnE9",
        "outputId": "6fc2efbe-ec56-46ed-b661-7a44bcb61ece"
      },
      "source": [
        "cities.head(10)"
      ],
      "execution_count": null,
      "outputs": [
        {
          "output_type": "execute_result",
          "data": {
            "text/html": [
              "<div>\n",
              "<style scoped>\n",
              "    .dataframe tbody tr th:only-of-type {\n",
              "        vertical-align: middle;\n",
              "    }\n",
              "\n",
              "    .dataframe tbody tr th {\n",
              "        vertical-align: top;\n",
              "    }\n",
              "\n",
              "    .dataframe thead th {\n",
              "        text-align: right;\n",
              "    }\n",
              "</style>\n",
              "<table border=\"1\" class=\"dataframe\">\n",
              "  <thead>\n",
              "    <tr style=\"text-align: right;\">\n",
              "      <th></th>\n",
              "      <th>city</th>\n",
              "      <th>average_flights</th>\n",
              "    </tr>\n",
              "  </thead>\n",
              "  <tbody>\n",
              "    <tr>\n",
              "      <th>0</th>\n",
              "      <td>Абакан</td>\n",
              "      <td>3.870968</td>\n",
              "    </tr>\n",
              "    <tr>\n",
              "      <th>1</th>\n",
              "      <td>Анадырь</td>\n",
              "      <td>1.000000</td>\n",
              "    </tr>\n",
              "    <tr>\n",
              "      <th>2</th>\n",
              "      <td>Анапа</td>\n",
              "      <td>2.161290</td>\n",
              "    </tr>\n",
              "    <tr>\n",
              "      <th>3</th>\n",
              "      <td>Архангельск</td>\n",
              "      <td>5.354839</td>\n",
              "    </tr>\n",
              "    <tr>\n",
              "      <th>4</th>\n",
              "      <td>Астрахань</td>\n",
              "      <td>2.451613</td>\n",
              "    </tr>\n",
              "    <tr>\n",
              "      <th>5</th>\n",
              "      <td>Барнаул</td>\n",
              "      <td>2.612903</td>\n",
              "    </tr>\n",
              "    <tr>\n",
              "      <th>6</th>\n",
              "      <td>Белгород</td>\n",
              "      <td>6.000000</td>\n",
              "    </tr>\n",
              "    <tr>\n",
              "      <th>7</th>\n",
              "      <td>Белоярский</td>\n",
              "      <td>2.000000</td>\n",
              "    </tr>\n",
              "    <tr>\n",
              "      <th>8</th>\n",
              "      <td>Благовещенск</td>\n",
              "      <td>1.000000</td>\n",
              "    </tr>\n",
              "    <tr>\n",
              "      <th>9</th>\n",
              "      <td>Братск</td>\n",
              "      <td>1.000000</td>\n",
              "    </tr>\n",
              "  </tbody>\n",
              "</table>\n",
              "</div>"
            ],
            "text/plain": [
              "           city  average_flights\n",
              "0        Абакан         3.870968\n",
              "1       Анадырь         1.000000\n",
              "2         Анапа         2.161290\n",
              "3   Архангельск         5.354839\n",
              "4     Астрахань         2.451613\n",
              "5       Барнаул         2.612903\n",
              "6      Белгород         6.000000\n",
              "7    Белоярский         2.000000\n",
              "8  Благовещенск         1.000000\n",
              "9        Братск         1.000000"
            ]
          },
          "metadata": {
            "tags": []
          },
          "execution_count": 6
        }
      ]
    },
    {
      "cell_type": "code",
      "metadata": {
        "colab": {
          "base_uri": "https://localhost:8080/",
          "height": 335
        },
        "id": "aLcUio-aFoim",
        "outputId": "c9ca004f-df5e-4ccb-b47f-6c681fbda6a6"
      },
      "source": [
        "festivales.head(10)"
      ],
      "execution_count": null,
      "outputs": [
        {
          "output_type": "execute_result",
          "data": {
            "text/html": [
              "<div>\n",
              "<style scoped>\n",
              "    .dataframe tbody tr th:only-of-type {\n",
              "        vertical-align: middle;\n",
              "    }\n",
              "\n",
              "    .dataframe tbody tr th {\n",
              "        vertical-align: top;\n",
              "    }\n",
              "\n",
              "    .dataframe thead th {\n",
              "        text-align: right;\n",
              "    }\n",
              "</style>\n",
              "<table border=\"1\" class=\"dataframe\">\n",
              "  <thead>\n",
              "    <tr style=\"text-align: right;\">\n",
              "      <th></th>\n",
              "      <th>week_number</th>\n",
              "      <th>ticket_amount</th>\n",
              "      <th>festival_week</th>\n",
              "      <th>festival_name</th>\n",
              "    </tr>\n",
              "  </thead>\n",
              "  <tbody>\n",
              "    <tr>\n",
              "      <th>0</th>\n",
              "      <td>30</td>\n",
              "      <td>43568</td>\n",
              "      <td>30.0</td>\n",
              "      <td>Park Live</td>\n",
              "    </tr>\n",
              "    <tr>\n",
              "      <th>1</th>\n",
              "      <td>31</td>\n",
              "      <td>51034</td>\n",
              "      <td>31.0</td>\n",
              "      <td>Пикник Афиши</td>\n",
              "    </tr>\n",
              "    <tr>\n",
              "      <th>2</th>\n",
              "      <td>32</td>\n",
              "      <td>51675</td>\n",
              "      <td>NaN</td>\n",
              "      <td>NaN</td>\n",
              "    </tr>\n",
              "    <tr>\n",
              "      <th>3</th>\n",
              "      <td>33</td>\n",
              "      <td>51378</td>\n",
              "      <td>NaN</td>\n",
              "      <td>NaN</td>\n",
              "    </tr>\n",
              "    <tr>\n",
              "      <th>4</th>\n",
              "      <td>34</td>\n",
              "      <td>51492</td>\n",
              "      <td>NaN</td>\n",
              "      <td>NaN</td>\n",
              "    </tr>\n",
              "    <tr>\n",
              "      <th>5</th>\n",
              "      <td>35</td>\n",
              "      <td>51360</td>\n",
              "      <td>NaN</td>\n",
              "      <td>NaN</td>\n",
              "    </tr>\n",
              "    <tr>\n",
              "      <th>6</th>\n",
              "      <td>36</td>\n",
              "      <td>51386</td>\n",
              "      <td>36.0</td>\n",
              "      <td>Видфест</td>\n",
              "    </tr>\n",
              "    <tr>\n",
              "      <th>7</th>\n",
              "      <td>37</td>\n",
              "      <td>51670</td>\n",
              "      <td>NaN</td>\n",
              "      <td>NaN</td>\n",
              "    </tr>\n",
              "    <tr>\n",
              "      <th>8</th>\n",
              "      <td>38</td>\n",
              "      <td>51518</td>\n",
              "      <td>NaN</td>\n",
              "      <td>NaN</td>\n",
              "    </tr>\n",
              "    <tr>\n",
              "      <th>9</th>\n",
              "      <td>39</td>\n",
              "      <td>51623</td>\n",
              "      <td>NaN</td>\n",
              "      <td>NaN</td>\n",
              "    </tr>\n",
              "  </tbody>\n",
              "</table>\n",
              "</div>"
            ],
            "text/plain": [
              "   week_number  ticket_amount  festival_week festival_name\n",
              "0           30          43568           30.0     Park Live\n",
              "1           31          51034           31.0  Пикник Афиши\n",
              "2           32          51675            NaN           NaN\n",
              "3           33          51378            NaN           NaN\n",
              "4           34          51492            NaN           NaN\n",
              "5           35          51360            NaN           NaN\n",
              "6           36          51386           36.0       Видфест\n",
              "7           37          51670            NaN           NaN\n",
              "8           38          51518            NaN           NaN\n",
              "9           39          51623            NaN           NaN"
            ]
          },
          "metadata": {
            "tags": []
          },
          "execution_count": 7
        }
      ]
    },
    {
      "cell_type": "markdown",
      "metadata": {
        "id": "RAKCmyeoGX5v"
      },
      "source": [
        "## **1.2 Явные дубликаты**"
      ]
    },
    {
      "cell_type": "code",
      "metadata": {
        "colab": {
          "base_uri": "https://localhost:8080/"
        },
        "id": "EPqGDuzNFwDH",
        "outputId": "ba91b502-02ea-40aa-d550-9ce8f07ac331"
      },
      "source": [
        "for data, name in zip([airplanes, cities, festivales], ['airplanes', 'cities', 'festivales']):\n",
        "    print(name)\n",
        "    print('Явных дубликатов в выборке: {}'.format(data.duplicated().sum()))\n",
        "    print()"
      ],
      "execution_count": null,
      "outputs": [
        {
          "output_type": "stream",
          "text": [
            "airplanes\n",
            "Явных дубликатов в выборке: 0\n",
            "\n",
            "cities\n",
            "Явных дубликатов в выборке: 0\n",
            "\n",
            "festivales\n",
            "Явных дубликатов в выборке: 0\n",
            "\n"
          ],
          "name": "stdout"
        }
      ]
    },
    {
      "cell_type": "markdown",
      "metadata": {
        "id": "ngQ3dWwxIIlo"
      },
      "source": [
        "## **1.3 Общая информация**"
      ]
    },
    {
      "cell_type": "code",
      "metadata": {
        "colab": {
          "base_uri": "https://localhost:8080/"
        },
        "id": "u7XWZL4OITUa",
        "outputId": "4962b1de-da0a-431c-e6e5-f7ee5e7b1b40"
      },
      "source": [
        "for data, name in zip([airplanes, cities, festivales], ['airplanes', 'cities', 'festivales']):\n",
        "    print(name)\n",
        "    print(data.info())\n",
        "    print()\n",
        "    print('~~~~~~~~~~~~~~~~~~~~~~~~~~~~~~~~~~~~~~~~~~~')\n",
        "    print()\n",
        "\n",
        "del data, name"
      ],
      "execution_count": null,
      "outputs": [
        {
          "output_type": "stream",
          "text": [
            "airplanes\n",
            "<class 'pandas.core.frame.DataFrame'>\n",
            "RangeIndex: 8 entries, 0 to 7\n",
            "Data columns (total 2 columns):\n",
            " #   Column          Non-Null Count  Dtype \n",
            "---  ------          --------------  ----- \n",
            " 0   model           8 non-null      object\n",
            " 1   flights_amount  8 non-null      int64 \n",
            "dtypes: int64(1), object(1)\n",
            "memory usage: 256.0+ bytes\n",
            "None\n",
            "\n",
            "~~~~~~~~~~~~~~~~~~~~~~~~~~~~~~~~~~~~~~~~~~~\n",
            "\n",
            "cities\n",
            "<class 'pandas.core.frame.DataFrame'>\n",
            "RangeIndex: 101 entries, 0 to 100\n",
            "Data columns (total 2 columns):\n",
            " #   Column           Non-Null Count  Dtype  \n",
            "---  ------           --------------  -----  \n",
            " 0   city             101 non-null    object \n",
            " 1   average_flights  101 non-null    float64\n",
            "dtypes: float64(1), object(1)\n",
            "memory usage: 1.7+ KB\n",
            "None\n",
            "\n",
            "~~~~~~~~~~~~~~~~~~~~~~~~~~~~~~~~~~~~~~~~~~~\n",
            "\n",
            "festivales\n",
            "<class 'pandas.core.frame.DataFrame'>\n",
            "RangeIndex: 10 entries, 0 to 9\n",
            "Data columns (total 4 columns):\n",
            " #   Column         Non-Null Count  Dtype  \n",
            "---  ------         --------------  -----  \n",
            " 0   week_number    10 non-null     int64  \n",
            " 1   ticket_amount  10 non-null     int64  \n",
            " 2   festival_week  3 non-null      float64\n",
            " 3   festival_name  3 non-null      object \n",
            "dtypes: float64(1), int64(2), object(1)\n",
            "memory usage: 448.0+ bytes\n",
            "None\n",
            "\n",
            "~~~~~~~~~~~~~~~~~~~~~~~~~~~~~~~~~~~~~~~~~~~\n",
            "\n"
          ],
          "name": "stdout"
        }
      ]
    },
    {
      "cell_type": "markdown",
      "metadata": {
        "id": "MTSVG50DI3iD"
      },
      "source": [
        "В таблице festivales присутствуют пропуски. Пропуски соответствуют неделям без праздников и фестивалей.\n",
        "\n",
        "В целом можно отметить, что данных немного."
      ]
    },
    {
      "cell_type": "markdown",
      "metadata": {
        "id": "Y-sqq4trLEm5"
      },
      "source": [
        "## **1.4 Анализ данных**"
      ]
    },
    {
      "cell_type": "code",
      "metadata": {
        "id": "Xz5faYKAL0mg"
      },
      "source": [
        "def float_data_analyzer(data, columns, bins, round_lim):\n",
        "    '''This function print and plot distribution of float-columns from inputing data.\n",
        "        Input:\n",
        "        data — the intrested data (DataFrame),\n",
        "        columns — list of intrested columns from data,\n",
        "        bins — number of bins for hist,\n",
        "        round_lim — precision of describtion-rounding.\n",
        "\n",
        "        Output:\n",
        "        stat-describtion, boxplot and hist for each column.'''\n",
        "\n",
        "    for column in columns:\n",
        "        print(data[column].describe().round(round_lim))\n",
        "        fig, ax = plt.subplots(1, 2, figsize=(12, 5))\n",
        "        ax[0].set_title(f'Диаграмма размаха {column}')\n",
        "        sns.boxplot(y=column, data=data, ax=ax[0], palette='Blues')\n",
        "        sns.distplot(data[column], bins=bins, color='indigo', ax=ax[1])\n",
        "        ax[1].set_title(f'Распределение {column}')\n",
        "        plt.show()"
      ],
      "execution_count": null,
      "outputs": []
    },
    {
      "cell_type": "markdown",
      "metadata": {
        "id": "RWo69X2KLM_9"
      },
      "source": [
        "### **1.4.1 Airplanes**"
      ]
    },
    {
      "cell_type": "code",
      "metadata": {
        "colab": {
          "base_uri": "https://localhost:8080/",
          "height": 277
        },
        "id": "vYgVZ2iaMH-Z",
        "outputId": "c91591a8-81c7-42ba-e1c8-8e59fb503f29"
      },
      "source": [
        "# Airplanes statistics.\n",
        "airplanes.describe().round(3)"
      ],
      "execution_count": null,
      "outputs": [
        {
          "output_type": "execute_result",
          "data": {
            "text/html": [
              "<div>\n",
              "<style scoped>\n",
              "    .dataframe tbody tr th:only-of-type {\n",
              "        vertical-align: middle;\n",
              "    }\n",
              "\n",
              "    .dataframe tbody tr th {\n",
              "        vertical-align: top;\n",
              "    }\n",
              "\n",
              "    .dataframe thead th {\n",
              "        text-align: right;\n",
              "    }\n",
              "</style>\n",
              "<table border=\"1\" class=\"dataframe\">\n",
              "  <thead>\n",
              "    <tr style=\"text-align: right;\">\n",
              "      <th></th>\n",
              "      <th>flights_amount</th>\n",
              "    </tr>\n",
              "  </thead>\n",
              "  <tbody>\n",
              "    <tr>\n",
              "      <th>count</th>\n",
              "      <td>8.000</td>\n",
              "    </tr>\n",
              "    <tr>\n",
              "      <th>mean</th>\n",
              "      <td>2035.625</td>\n",
              "    </tr>\n",
              "    <tr>\n",
              "      <th>std</th>\n",
              "      <td>1965.204</td>\n",
              "    </tr>\n",
              "    <tr>\n",
              "      <th>min</th>\n",
              "      <td>300.000</td>\n",
              "    </tr>\n",
              "    <tr>\n",
              "      <th>25%</th>\n",
              "      <td>605.250</td>\n",
              "    </tr>\n",
              "    <tr>\n",
              "      <th>50%</th>\n",
              "      <td>795.000</td>\n",
              "    </tr>\n",
              "    <tr>\n",
              "      <th>75%</th>\n",
              "      <td>4250.250</td>\n",
              "    </tr>\n",
              "    <tr>\n",
              "      <th>max</th>\n",
              "      <td>4557.000</td>\n",
              "    </tr>\n",
              "  </tbody>\n",
              "</table>\n",
              "</div>"
            ],
            "text/plain": [
              "       flights_amount\n",
              "count           8.000\n",
              "mean         2035.625\n",
              "std          1965.204\n",
              "min           300.000\n",
              "25%           605.250\n",
              "50%           795.000\n",
              "75%          4250.250\n",
              "max          4557.000"
            ]
          },
          "metadata": {
            "tags": []
          },
          "execution_count": 11
        }
      ]
    },
    {
      "cell_type": "code",
      "metadata": {
        "id": "RMAWCk3VTDgS"
      },
      "source": [
        "def model_grouping(row):\n",
        "    '''This function split airplanes by groups. '''\n",
        "\n",
        "    for elem in row:\n",
        "        elem = row.split(' ')\n",
        "        if 'Boeing' in elem:\n",
        "            return 'Boeing'\n",
        "        elif 'Airbus' in elem:\n",
        "            return 'Airbus'\n",
        "        else:\n",
        "             return 'other'"
      ],
      "execution_count": null,
      "outputs": []
    },
    {
      "cell_type": "code",
      "metadata": {
        "id": "QDdHGpymUAaE"
      },
      "source": [
        "# Group-info extracting.\n",
        "airplanes['group'] = airplanes['model'].apply(model_grouping)"
      ],
      "execution_count": null,
      "outputs": []
    },
    {
      "cell_type": "code",
      "metadata": {
        "colab": {
          "base_uri": "https://localhost:8080/",
          "height": 277
        },
        "id": "xyMql2hPUOd9",
        "outputId": "24d1d103-f555-4b29-f8eb-e8ba2b46c8ad"
      },
      "source": [
        "airplanes"
      ],
      "execution_count": null,
      "outputs": [
        {
          "output_type": "execute_result",
          "data": {
            "text/html": [
              "<div>\n",
              "<style scoped>\n",
              "    .dataframe tbody tr th:only-of-type {\n",
              "        vertical-align: middle;\n",
              "    }\n",
              "\n",
              "    .dataframe tbody tr th {\n",
              "        vertical-align: top;\n",
              "    }\n",
              "\n",
              "    .dataframe thead th {\n",
              "        text-align: right;\n",
              "    }\n",
              "</style>\n",
              "<table border=\"1\" class=\"dataframe\">\n",
              "  <thead>\n",
              "    <tr style=\"text-align: right;\">\n",
              "      <th></th>\n",
              "      <th>model</th>\n",
              "      <th>flights_amount</th>\n",
              "      <th>group</th>\n",
              "    </tr>\n",
              "  </thead>\n",
              "  <tbody>\n",
              "    <tr>\n",
              "      <th>0</th>\n",
              "      <td>Airbus A319-100</td>\n",
              "      <td>607</td>\n",
              "      <td>Airbus</td>\n",
              "    </tr>\n",
              "    <tr>\n",
              "      <th>1</th>\n",
              "      <td>Airbus A321-200</td>\n",
              "      <td>960</td>\n",
              "      <td>Airbus</td>\n",
              "    </tr>\n",
              "    <tr>\n",
              "      <th>2</th>\n",
              "      <td>Boeing 737-300</td>\n",
              "      <td>630</td>\n",
              "      <td>Boeing</td>\n",
              "    </tr>\n",
              "    <tr>\n",
              "      <th>3</th>\n",
              "      <td>Boeing 767-300</td>\n",
              "      <td>600</td>\n",
              "      <td>Boeing</td>\n",
              "    </tr>\n",
              "    <tr>\n",
              "      <th>4</th>\n",
              "      <td>Boeing 777-300</td>\n",
              "      <td>300</td>\n",
              "      <td>Boeing</td>\n",
              "    </tr>\n",
              "    <tr>\n",
              "      <th>5</th>\n",
              "      <td>Bombardier CRJ-200</td>\n",
              "      <td>4446</td>\n",
              "      <td>other</td>\n",
              "    </tr>\n",
              "    <tr>\n",
              "      <th>6</th>\n",
              "      <td>Cessna 208 Caravan</td>\n",
              "      <td>4557</td>\n",
              "      <td>other</td>\n",
              "    </tr>\n",
              "    <tr>\n",
              "      <th>7</th>\n",
              "      <td>Sukhoi SuperJet-100</td>\n",
              "      <td>4185</td>\n",
              "      <td>other</td>\n",
              "    </tr>\n",
              "  </tbody>\n",
              "</table>\n",
              "</div>"
            ],
            "text/plain": [
              "                 model  flights_amount   group\n",
              "0      Airbus A319-100             607  Airbus\n",
              "1      Airbus A321-200             960  Airbus\n",
              "2       Boeing 737-300             630  Boeing\n",
              "3       Boeing 767-300             600  Boeing\n",
              "4       Boeing 777-300             300  Boeing\n",
              "5   Bombardier CRJ-200            4446   other\n",
              "6   Cessna 208 Caravan            4557   other\n",
              "7  Sukhoi SuperJet-100            4185   other"
            ]
          },
          "metadata": {
            "tags": []
          },
          "execution_count": 14
        }
      ]
    },
    {
      "cell_type": "code",
      "metadata": {
        "colab": {
          "base_uri": "https://localhost:8080/",
          "height": 542
        },
        "id": "a5AcGYhMgQhq",
        "outputId": "300a197b-24b7-47a7-8fac-292cdd5577dc"
      },
      "source": [
        "# Pie-subplots making.\n",
        "fig = make_subplots(rows=1, cols=2,\n",
        "                    specs=[[{'type':'domain'}, {'type':'domain'}]],\n",
        "                    subplot_titles=['Моделям', 'Семействам'])\n",
        "\n",
        "# Models.\n",
        "fig.add_trace(go.Pie(values=airplanes['flights_amount'],\n",
        "                    labels=airplanes['model'],\n",
        "                    marker=dict(colors=px.colors.sequential.BuPu_r)),\n",
        "                    row=1, col=1)\n",
        "\n",
        "# Groups.\n",
        "fig.add_trace(go.Pie(values=airplanes['flights_amount'],\n",
        "                     labels=airplanes['group'],\n",
        "                     marker=dict(colors=px.colors.diverging.PRGn)),\n",
        "                     row=1, col=2)\n",
        "\n",
        "# Title.\n",
        "fig.update_layout(title='Распределение рейсов за сентябрь 2018 год по:')\n",
        "fig.show()"
      ],
      "execution_count": null,
      "outputs": [
        {
          "output_type": "display_data",
          "data": {
            "text/html": [
              "<html>\n",
              "<head><meta charset=\"utf-8\" /></head>\n",
              "<body>\n",
              "    <div>\n",
              "            <script src=\"https://cdnjs.cloudflare.com/ajax/libs/mathjax/2.7.5/MathJax.js?config=TeX-AMS-MML_SVG\"></script><script type=\"text/javascript\">if (window.MathJax) {MathJax.Hub.Config({SVG: {font: \"STIX-Web\"}});}</script>\n",
              "                <script type=\"text/javascript\">window.PlotlyConfig = {MathJaxConfig: 'local'};</script>\n",
              "        <script src=\"https://cdn.plot.ly/plotly-latest.min.js\"></script>    \n",
              "            <div id=\"53652bf2-e6a5-4b76-8788-c0ab9cf6f2ad\" class=\"plotly-graph-div\" style=\"height:525px; width:100%;\"></div>\n",
              "            <script type=\"text/javascript\">\n",
              "                \n",
              "                    window.PLOTLYENV=window.PLOTLYENV || {};\n",
              "                    \n",
              "                if (document.getElementById(\"53652bf2-e6a5-4b76-8788-c0ab9cf6f2ad\")) {\n",
              "                    Plotly.newPlot(\n",
              "                        '53652bf2-e6a5-4b76-8788-c0ab9cf6f2ad',\n",
              "                        [{\"domain\": {\"x\": [0.0, 0.45], \"y\": [0.0, 1.0]}, \"labels\": [\"Airbus A319-100\", \"Airbus A321-200\", \"Boeing 737-300\", \"Boeing 767-300\", \"Boeing 777-300\", \"Bombardier CRJ-200\", \"Cessna 208 Caravan\", \"Sukhoi SuperJet-100\"], \"marker\": {\"colors\": [\"rgb(77,0,75)\", \"rgb(129,15,124)\", \"rgb(136,65,157)\", \"rgb(140,107,177)\", \"rgb(140,150,198)\", \"rgb(158,188,218)\", \"rgb(191,211,230)\", \"rgb(224,236,244)\", \"rgb(247,252,253)\"]}, \"type\": \"pie\", \"values\": [607, 960, 630, 600, 300, 4446, 4557, 4185]}, {\"domain\": {\"x\": [0.55, 1.0], \"y\": [0.0, 1.0]}, \"labels\": [\"Airbus\", \"Airbus\", \"Boeing\", \"Boeing\", \"Boeing\", \"other\", \"other\", \"other\"], \"marker\": {\"colors\": [\"rgb(64,0,75)\", \"rgb(118,42,131)\", \"rgb(153,112,171)\", \"rgb(194,165,207)\", \"rgb(231,212,232)\", \"rgb(247,247,247)\", \"rgb(217,240,211)\", \"rgb(166,219,160)\", \"rgb(90,174,97)\", \"rgb(27,120,55)\", \"rgb(0,68,27)\"]}, \"type\": \"pie\", \"values\": [607, 960, 630, 600, 300, 4446, 4557, 4185]}],\n",
              "                        {\"annotations\": [{\"font\": {\"size\": 16}, \"showarrow\": false, \"text\": \"\\u041c\\u043e\\u0434\\u0435\\u043b\\u044f\\u043c\", \"x\": 0.225, \"xanchor\": \"center\", \"xref\": \"paper\", \"y\": 1.0, \"yanchor\": \"bottom\", \"yref\": \"paper\"}, {\"font\": {\"size\": 16}, \"showarrow\": false, \"text\": \"\\u0421\\u0435\\u043c\\u0435\\u0439\\u0441\\u0442\\u0432\\u0430\\u043c\", \"x\": 0.775, \"xanchor\": \"center\", \"xref\": \"paper\", \"y\": 1.0, \"yanchor\": \"bottom\", \"yref\": \"paper\"}], \"template\": {\"data\": {\"bar\": [{\"error_x\": {\"color\": \"#2a3f5f\"}, \"error_y\": {\"color\": \"#2a3f5f\"}, \"marker\": {\"line\": {\"color\": \"#E5ECF6\", \"width\": 0.5}}, \"type\": \"bar\"}], \"barpolar\": [{\"marker\": {\"line\": {\"color\": \"#E5ECF6\", \"width\": 0.5}}, \"type\": \"barpolar\"}], \"carpet\": [{\"aaxis\": {\"endlinecolor\": \"#2a3f5f\", \"gridcolor\": \"white\", \"linecolor\": \"white\", \"minorgridcolor\": \"white\", \"startlinecolor\": \"#2a3f5f\"}, \"baxis\": {\"endlinecolor\": \"#2a3f5f\", \"gridcolor\": \"white\", \"linecolor\": \"white\", \"minorgridcolor\": \"white\", \"startlinecolor\": \"#2a3f5f\"}, \"type\": \"carpet\"}], \"choropleth\": [{\"colorbar\": {\"outlinewidth\": 0, \"ticks\": \"\"}, \"type\": \"choropleth\"}], \"contour\": [{\"colorbar\": {\"outlinewidth\": 0, \"ticks\": \"\"}, \"colorscale\": [[0.0, \"#0d0887\"], [0.1111111111111111, \"#46039f\"], [0.2222222222222222, \"#7201a8\"], [0.3333333333333333, \"#9c179e\"], [0.4444444444444444, \"#bd3786\"], [0.5555555555555556, \"#d8576b\"], [0.6666666666666666, \"#ed7953\"], [0.7777777777777778, \"#fb9f3a\"], [0.8888888888888888, \"#fdca26\"], [1.0, \"#f0f921\"]], \"type\": \"contour\"}], \"contourcarpet\": [{\"colorbar\": {\"outlinewidth\": 0, \"ticks\": \"\"}, \"type\": \"contourcarpet\"}], \"heatmap\": [{\"colorbar\": {\"outlinewidth\": 0, \"ticks\": \"\"}, \"colorscale\": [[0.0, \"#0d0887\"], [0.1111111111111111, \"#46039f\"], [0.2222222222222222, \"#7201a8\"], [0.3333333333333333, \"#9c179e\"], [0.4444444444444444, \"#bd3786\"], [0.5555555555555556, \"#d8576b\"], [0.6666666666666666, \"#ed7953\"], [0.7777777777777778, \"#fb9f3a\"], [0.8888888888888888, \"#fdca26\"], [1.0, \"#f0f921\"]], \"type\": \"heatmap\"}], \"heatmapgl\": [{\"colorbar\": {\"outlinewidth\": 0, \"ticks\": \"\"}, \"colorscale\": [[0.0, \"#0d0887\"], [0.1111111111111111, \"#46039f\"], [0.2222222222222222, \"#7201a8\"], [0.3333333333333333, \"#9c179e\"], [0.4444444444444444, \"#bd3786\"], [0.5555555555555556, \"#d8576b\"], [0.6666666666666666, \"#ed7953\"], [0.7777777777777778, \"#fb9f3a\"], [0.8888888888888888, \"#fdca26\"], [1.0, \"#f0f921\"]], \"type\": \"heatmapgl\"}], \"histogram\": [{\"marker\": {\"colorbar\": {\"outlinewidth\": 0, \"ticks\": \"\"}}, \"type\": \"histogram\"}], \"histogram2d\": [{\"colorbar\": {\"outlinewidth\": 0, \"ticks\": \"\"}, \"colorscale\": [[0.0, \"#0d0887\"], [0.1111111111111111, \"#46039f\"], [0.2222222222222222, \"#7201a8\"], [0.3333333333333333, \"#9c179e\"], [0.4444444444444444, \"#bd3786\"], [0.5555555555555556, \"#d8576b\"], [0.6666666666666666, \"#ed7953\"], [0.7777777777777778, \"#fb9f3a\"], [0.8888888888888888, \"#fdca26\"], [1.0, \"#f0f921\"]], \"type\": \"histogram2d\"}], \"histogram2dcontour\": [{\"colorbar\": {\"outlinewidth\": 0, \"ticks\": \"\"}, \"colorscale\": [[0.0, \"#0d0887\"], [0.1111111111111111, \"#46039f\"], [0.2222222222222222, \"#7201a8\"], [0.3333333333333333, \"#9c179e\"], [0.4444444444444444, \"#bd3786\"], [0.5555555555555556, \"#d8576b\"], [0.6666666666666666, \"#ed7953\"], [0.7777777777777778, \"#fb9f3a\"], [0.8888888888888888, \"#fdca26\"], [1.0, \"#f0f921\"]], \"type\": \"histogram2dcontour\"}], \"mesh3d\": [{\"colorbar\": {\"outlinewidth\": 0, \"ticks\": \"\"}, \"type\": \"mesh3d\"}], \"parcoords\": [{\"line\": {\"colorbar\": {\"outlinewidth\": 0, \"ticks\": \"\"}}, \"type\": \"parcoords\"}], \"pie\": [{\"automargin\": true, \"type\": \"pie\"}], \"scatter\": [{\"marker\": {\"colorbar\": {\"outlinewidth\": 0, \"ticks\": \"\"}}, \"type\": \"scatter\"}], \"scatter3d\": [{\"line\": {\"colorbar\": {\"outlinewidth\": 0, \"ticks\": \"\"}}, \"marker\": {\"colorbar\": {\"outlinewidth\": 0, \"ticks\": \"\"}}, \"type\": \"scatter3d\"}], \"scattercarpet\": [{\"marker\": {\"colorbar\": {\"outlinewidth\": 0, \"ticks\": \"\"}}, \"type\": \"scattercarpet\"}], \"scattergeo\": [{\"marker\": {\"colorbar\": {\"outlinewidth\": 0, \"ticks\": \"\"}}, \"type\": \"scattergeo\"}], \"scattergl\": [{\"marker\": {\"colorbar\": {\"outlinewidth\": 0, \"ticks\": \"\"}}, \"type\": \"scattergl\"}], \"scattermapbox\": [{\"marker\": {\"colorbar\": {\"outlinewidth\": 0, \"ticks\": \"\"}}, \"type\": \"scattermapbox\"}], \"scatterpolar\": [{\"marker\": {\"colorbar\": {\"outlinewidth\": 0, \"ticks\": \"\"}}, \"type\": \"scatterpolar\"}], \"scatterpolargl\": [{\"marker\": {\"colorbar\": {\"outlinewidth\": 0, \"ticks\": \"\"}}, \"type\": \"scatterpolargl\"}], \"scatterternary\": [{\"marker\": {\"colorbar\": {\"outlinewidth\": 0, \"ticks\": \"\"}}, \"type\": \"scatterternary\"}], \"surface\": [{\"colorbar\": {\"outlinewidth\": 0, \"ticks\": \"\"}, \"colorscale\": [[0.0, \"#0d0887\"], [0.1111111111111111, \"#46039f\"], [0.2222222222222222, \"#7201a8\"], [0.3333333333333333, \"#9c179e\"], [0.4444444444444444, \"#bd3786\"], [0.5555555555555556, \"#d8576b\"], [0.6666666666666666, \"#ed7953\"], [0.7777777777777778, \"#fb9f3a\"], [0.8888888888888888, \"#fdca26\"], [1.0, \"#f0f921\"]], \"type\": \"surface\"}], \"table\": [{\"cells\": {\"fill\": {\"color\": \"#EBF0F8\"}, \"line\": {\"color\": \"white\"}}, \"header\": {\"fill\": {\"color\": \"#C8D4E3\"}, \"line\": {\"color\": \"white\"}}, \"type\": \"table\"}]}, \"layout\": {\"annotationdefaults\": {\"arrowcolor\": \"#2a3f5f\", \"arrowhead\": 0, \"arrowwidth\": 1}, \"coloraxis\": {\"colorbar\": {\"outlinewidth\": 0, \"ticks\": \"\"}}, \"colorscale\": {\"diverging\": [[0, \"#8e0152\"], [0.1, \"#c51b7d\"], [0.2, \"#de77ae\"], [0.3, \"#f1b6da\"], [0.4, \"#fde0ef\"], [0.5, \"#f7f7f7\"], [0.6, \"#e6f5d0\"], [0.7, \"#b8e186\"], [0.8, \"#7fbc41\"], [0.9, \"#4d9221\"], [1, \"#276419\"]], \"sequential\": [[0.0, \"#0d0887\"], [0.1111111111111111, \"#46039f\"], [0.2222222222222222, \"#7201a8\"], [0.3333333333333333, \"#9c179e\"], [0.4444444444444444, \"#bd3786\"], [0.5555555555555556, \"#d8576b\"], [0.6666666666666666, \"#ed7953\"], [0.7777777777777778, \"#fb9f3a\"], [0.8888888888888888, \"#fdca26\"], [1.0, \"#f0f921\"]], \"sequentialminus\": [[0.0, \"#0d0887\"], [0.1111111111111111, \"#46039f\"], [0.2222222222222222, \"#7201a8\"], [0.3333333333333333, \"#9c179e\"], [0.4444444444444444, \"#bd3786\"], [0.5555555555555556, \"#d8576b\"], [0.6666666666666666, \"#ed7953\"], [0.7777777777777778, \"#fb9f3a\"], [0.8888888888888888, \"#fdca26\"], [1.0, \"#f0f921\"]]}, \"colorway\": [\"#636efa\", \"#EF553B\", \"#00cc96\", \"#ab63fa\", \"#FFA15A\", \"#19d3f3\", \"#FF6692\", \"#B6E880\", \"#FF97FF\", \"#FECB52\"], \"font\": {\"color\": \"#2a3f5f\"}, \"geo\": {\"bgcolor\": \"white\", \"lakecolor\": \"white\", \"landcolor\": \"#E5ECF6\", \"showlakes\": true, \"showland\": true, \"subunitcolor\": \"white\"}, \"hoverlabel\": {\"align\": \"left\"}, \"hovermode\": \"closest\", \"mapbox\": {\"style\": \"light\"}, \"paper_bgcolor\": \"white\", \"plot_bgcolor\": \"#E5ECF6\", \"polar\": {\"angularaxis\": {\"gridcolor\": \"white\", \"linecolor\": \"white\", \"ticks\": \"\"}, \"bgcolor\": \"#E5ECF6\", \"radialaxis\": {\"gridcolor\": \"white\", \"linecolor\": \"white\", \"ticks\": \"\"}}, \"scene\": {\"xaxis\": {\"backgroundcolor\": \"#E5ECF6\", \"gridcolor\": \"white\", \"gridwidth\": 2, \"linecolor\": \"white\", \"showbackground\": true, \"ticks\": \"\", \"zerolinecolor\": \"white\"}, \"yaxis\": {\"backgroundcolor\": \"#E5ECF6\", \"gridcolor\": \"white\", \"gridwidth\": 2, \"linecolor\": \"white\", \"showbackground\": true, \"ticks\": \"\", \"zerolinecolor\": \"white\"}, \"zaxis\": {\"backgroundcolor\": \"#E5ECF6\", \"gridcolor\": \"white\", \"gridwidth\": 2, \"linecolor\": \"white\", \"showbackground\": true, \"ticks\": \"\", \"zerolinecolor\": \"white\"}}, \"shapedefaults\": {\"line\": {\"color\": \"#2a3f5f\"}}, \"ternary\": {\"aaxis\": {\"gridcolor\": \"white\", \"linecolor\": \"white\", \"ticks\": \"\"}, \"baxis\": {\"gridcolor\": \"white\", \"linecolor\": \"white\", \"ticks\": \"\"}, \"bgcolor\": \"#E5ECF6\", \"caxis\": {\"gridcolor\": \"white\", \"linecolor\": \"white\", \"ticks\": \"\"}}, \"title\": {\"x\": 0.05}, \"xaxis\": {\"automargin\": true, \"gridcolor\": \"white\", \"linecolor\": \"white\", \"ticks\": \"\", \"title\": {\"standoff\": 15}, \"zerolinecolor\": \"white\", \"zerolinewidth\": 2}, \"yaxis\": {\"automargin\": true, \"gridcolor\": \"white\", \"linecolor\": \"white\", \"ticks\": \"\", \"title\": {\"standoff\": 15}, \"zerolinecolor\": \"white\", \"zerolinewidth\": 2}}}, \"title\": {\"text\": \"\\u0420\\u0430\\u0441\\u043f\\u0440\\u0435\\u0434\\u0435\\u043b\\u0435\\u043d\\u0438\\u0435 \\u0440\\u0435\\u0439\\u0441\\u043e\\u0432 \\u0437\\u0430 \\u0441\\u0435\\u043d\\u0442\\u044f\\u0431\\u0440\\u044c 2018 \\u0433\\u043e\\u0434 \\u043f\\u043e:\"}},\n",
              "                        {\"responsive\": true}\n",
              "                    ).then(function(){\n",
              "                            \n",
              "var gd = document.getElementById('53652bf2-e6a5-4b76-8788-c0ab9cf6f2ad');\n",
              "var x = new MutationObserver(function (mutations, observer) {{\n",
              "        var display = window.getComputedStyle(gd).display;\n",
              "        if (!display || display === 'none') {{\n",
              "            console.log([gd, 'removed!']);\n",
              "            Plotly.purge(gd);\n",
              "            observer.disconnect();\n",
              "        }}\n",
              "}});\n",
              "\n",
              "// Listen for the removal of the full notebook cells\n",
              "var notebookContainer = gd.closest('#notebook-container');\n",
              "if (notebookContainer) {{\n",
              "    x.observe(notebookContainer, {childList: true});\n",
              "}}\n",
              "\n",
              "// Listen for the clearing of the current output cell\n",
              "var outputEl = gd.closest('.output');\n",
              "if (outputEl) {{\n",
              "    x.observe(outputEl, {childList: true});\n",
              "}}\n",
              "\n",
              "                        })\n",
              "                };\n",
              "                \n",
              "            </script>\n",
              "        </div>\n",
              "</body>\n",
              "</html>"
            ]
          },
          "metadata": {
            "tags": []
          }
        }
      ]
    },
    {
      "cell_type": "code",
      "metadata": {
        "colab": {
          "base_uri": "https://localhost:8080/"
        },
        "id": "yYDSqbYwuQcO",
        "outputId": "cd7e07ac-37f9-49ec-ca4c-778ce0414ac7"
      },
      "source": [
        "print('Общее количество рейсов: {}'.format(airplanes['flights_amount'].sum()))\n",
        "print('Среднее количество рейсов в день: {}'.format(airplanes['flights_amount'].sum() / 30))"
      ],
      "execution_count": null,
      "outputs": [
        {
          "output_type": "stream",
          "text": [
            "Общее количество рейсов: 16285\n",
            "Среднее количество рейсов в день: 542.8333333333334\n"
          ],
          "name": "stdout"
        }
      ]
    },
    {
      "cell_type": "markdown",
      "metadata": {
        "id": "gvMITlS3tfXV"
      },
      "source": [
        "Самыми популярными моделями являются Cessna 208 Caravan, Bombardier CRJ-200 и Sukhoi SuperJet-100 ненамного отстают. Доля рейсов на каждой из этих моделей превышает общую долю рейсов на Boeing и Airbus.\n",
        "\n",
        "В среднем в сентябре 2018 года на самолётах компании F9 ежедневно совершалось 542 рейса."
      ]
    },
    {
      "cell_type": "markdown",
      "metadata": {
        "id": "iQG0hWZDByKv"
      },
      "source": [
        "Согласно дополнительным источникам ([1](https://ru.wikipedia.org/wiki/Cessna_208), [2](https://ru.wikipedia.org/wiki/Sukhoi_Superjet_100), [3](https://ru.wikipedia.org/wiki/Bombardier_CRJ200), [4](https://ru.wikipedia.org/wiki/Boeing_777), [5](https://ru.wikipedia.org/wiki/Boeing_767), [6](https://ru.wikipedia.org/wiki/Boeing_737), [7](https://ru.wikipedia.org/wiki/Airbus_A320)) таблицу можно дополнить данными о максимальном количестве пассажиров для каждой модели."
      ]
    },
    {
      "cell_type": "code",
      "metadata": {
        "id": "XYbqLeaEBxSx"
      },
      "source": [
        "def seats_filling(row):\n",
        "    '''This function add info about seats for each model. '''\n",
        "\n",
        "    if row == 'Boeing 737-300':\n",
        "        return 149\n",
        "    elif row == 'Boeing 767-300':\n",
        "        return 375\n",
        "    elif row == 'Boeing 777-300':\n",
        "        return 550\n",
        "    elif row == 'Airbus A319-100':\n",
        "        return 116\n",
        "    elif row == 'Airbus A321-200':\n",
        "        return 180\n",
        "    elif row == 'Bombardier CRJ-200':\n",
        "        return 50\n",
        "    elif row == 'Cessna 208 Caravan':\n",
        "        return 13\n",
        "    elif row == 'Sukhoi SuperJet-100':\n",
        "        return 98"
      ],
      "execution_count": null,
      "outputs": []
    },
    {
      "cell_type": "code",
      "metadata": {
        "id": "THUaEKdbHYjW"
      },
      "source": [
        "# Group-info extracting.\n",
        "airplanes['seats'] = airplanes['model'].apply(seats_filling)"
      ],
      "execution_count": null,
      "outputs": []
    },
    {
      "cell_type": "code",
      "metadata": {
        "colab": {
          "base_uri": "https://localhost:8080/",
          "height": 277
        },
        "id": "0lQfM5HIIDfP",
        "outputId": "8bdef7cc-283b-480b-9942-b47a2fa8504b"
      },
      "source": [
        "airplanes"
      ],
      "execution_count": null,
      "outputs": [
        {
          "output_type": "execute_result",
          "data": {
            "text/html": [
              "<div>\n",
              "<style scoped>\n",
              "    .dataframe tbody tr th:only-of-type {\n",
              "        vertical-align: middle;\n",
              "    }\n",
              "\n",
              "    .dataframe tbody tr th {\n",
              "        vertical-align: top;\n",
              "    }\n",
              "\n",
              "    .dataframe thead th {\n",
              "        text-align: right;\n",
              "    }\n",
              "</style>\n",
              "<table border=\"1\" class=\"dataframe\">\n",
              "  <thead>\n",
              "    <tr style=\"text-align: right;\">\n",
              "      <th></th>\n",
              "      <th>model</th>\n",
              "      <th>flights_amount</th>\n",
              "      <th>group</th>\n",
              "      <th>seats</th>\n",
              "    </tr>\n",
              "  </thead>\n",
              "  <tbody>\n",
              "    <tr>\n",
              "      <th>0</th>\n",
              "      <td>Airbus A319-100</td>\n",
              "      <td>607</td>\n",
              "      <td>Airbus</td>\n",
              "      <td>116</td>\n",
              "    </tr>\n",
              "    <tr>\n",
              "      <th>1</th>\n",
              "      <td>Airbus A321-200</td>\n",
              "      <td>960</td>\n",
              "      <td>Airbus</td>\n",
              "      <td>180</td>\n",
              "    </tr>\n",
              "    <tr>\n",
              "      <th>2</th>\n",
              "      <td>Boeing 737-300</td>\n",
              "      <td>630</td>\n",
              "      <td>Boeing</td>\n",
              "      <td>149</td>\n",
              "    </tr>\n",
              "    <tr>\n",
              "      <th>3</th>\n",
              "      <td>Boeing 767-300</td>\n",
              "      <td>600</td>\n",
              "      <td>Boeing</td>\n",
              "      <td>375</td>\n",
              "    </tr>\n",
              "    <tr>\n",
              "      <th>4</th>\n",
              "      <td>Boeing 777-300</td>\n",
              "      <td>300</td>\n",
              "      <td>Boeing</td>\n",
              "      <td>550</td>\n",
              "    </tr>\n",
              "    <tr>\n",
              "      <th>5</th>\n",
              "      <td>Bombardier CRJ-200</td>\n",
              "      <td>4446</td>\n",
              "      <td>other</td>\n",
              "      <td>50</td>\n",
              "    </tr>\n",
              "    <tr>\n",
              "      <th>6</th>\n",
              "      <td>Cessna 208 Caravan</td>\n",
              "      <td>4557</td>\n",
              "      <td>other</td>\n",
              "      <td>13</td>\n",
              "    </tr>\n",
              "    <tr>\n",
              "      <th>7</th>\n",
              "      <td>Sukhoi SuperJet-100</td>\n",
              "      <td>4185</td>\n",
              "      <td>other</td>\n",
              "      <td>98</td>\n",
              "    </tr>\n",
              "  </tbody>\n",
              "</table>\n",
              "</div>"
            ],
            "text/plain": [
              "                 model  flights_amount   group  seats\n",
              "0      Airbus A319-100             607  Airbus    116\n",
              "1      Airbus A321-200             960  Airbus    180\n",
              "2       Boeing 737-300             630  Boeing    149\n",
              "3       Boeing 767-300             600  Boeing    375\n",
              "4       Boeing 777-300             300  Boeing    550\n",
              "5   Bombardier CRJ-200            4446   other     50\n",
              "6   Cessna 208 Caravan            4557   other     13\n",
              "7  Sukhoi SuperJet-100            4185   other     98"
            ]
          },
          "metadata": {
            "tags": []
          },
          "execution_count": 19
        }
      ]
    },
    {
      "cell_type": "code",
      "metadata": {
        "colab": {
          "base_uri": "https://localhost:8080/",
          "height": 542
        },
        "id": "3PxJ51jlIX55",
        "outputId": "5e8ef087-db83-44bb-cd47-d4b189e0fb1e"
      },
      "source": [
        "fig = px.scatter(airplanes,\n",
        "                 x='seats',\n",
        "                 y='flights_amount',\n",
        "                 color='model',\n",
        "                 color_discrete_sequence=px.colors.sequential.Inferno,\n",
        "                 title='Диаграмма рассеяния количества рейсов и посадочных мест для каждой модели')\n",
        "fig.show()"
      ],
      "execution_count": null,
      "outputs": [
        {
          "output_type": "display_data",
          "data": {
            "text/html": [
              "<html>\n",
              "<head><meta charset=\"utf-8\" /></head>\n",
              "<body>\n",
              "    <div>\n",
              "            <script src=\"https://cdnjs.cloudflare.com/ajax/libs/mathjax/2.7.5/MathJax.js?config=TeX-AMS-MML_SVG\"></script><script type=\"text/javascript\">if (window.MathJax) {MathJax.Hub.Config({SVG: {font: \"STIX-Web\"}});}</script>\n",
              "                <script type=\"text/javascript\">window.PlotlyConfig = {MathJaxConfig: 'local'};</script>\n",
              "        <script src=\"https://cdn.plot.ly/plotly-latest.min.js\"></script>    \n",
              "            <div id=\"5686ff7a-242a-4546-851a-521eeee5e45b\" class=\"plotly-graph-div\" style=\"height:525px; width:100%;\"></div>\n",
              "            <script type=\"text/javascript\">\n",
              "                \n",
              "                    window.PLOTLYENV=window.PLOTLYENV || {};\n",
              "                    \n",
              "                if (document.getElementById(\"5686ff7a-242a-4546-851a-521eeee5e45b\")) {\n",
              "                    Plotly.newPlot(\n",
              "                        '5686ff7a-242a-4546-851a-521eeee5e45b',\n",
              "                        [{\"hoverlabel\": {\"namelength\": 0}, \"hovertemplate\": \"model=Airbus A319-100<br>seats=%{x}<br>flights_amount=%{y}\", \"legendgroup\": \"model=Airbus A319-100\", \"marker\": {\"color\": \"#000004\", \"symbol\": \"circle\"}, \"mode\": \"markers\", \"name\": \"model=Airbus A319-100\", \"showlegend\": true, \"type\": \"scatter\", \"x\": [116], \"xaxis\": \"x\", \"y\": [607], \"yaxis\": \"y\"}, {\"hoverlabel\": {\"namelength\": 0}, \"hovertemplate\": \"model=Airbus A321-200<br>seats=%{x}<br>flights_amount=%{y}\", \"legendgroup\": \"model=Airbus A321-200\", \"marker\": {\"color\": \"#1b0c41\", \"symbol\": \"circle\"}, \"mode\": \"markers\", \"name\": \"model=Airbus A321-200\", \"showlegend\": true, \"type\": \"scatter\", \"x\": [180], \"xaxis\": \"x\", \"y\": [960], \"yaxis\": \"y\"}, {\"hoverlabel\": {\"namelength\": 0}, \"hovertemplate\": \"model=Boeing 737-300<br>seats=%{x}<br>flights_amount=%{y}\", \"legendgroup\": \"model=Boeing 737-300\", \"marker\": {\"color\": \"#4a0c6b\", \"symbol\": \"circle\"}, \"mode\": \"markers\", \"name\": \"model=Boeing 737-300\", \"showlegend\": true, \"type\": \"scatter\", \"x\": [149], \"xaxis\": \"x\", \"y\": [630], \"yaxis\": \"y\"}, {\"hoverlabel\": {\"namelength\": 0}, \"hovertemplate\": \"model=Boeing 767-300<br>seats=%{x}<br>flights_amount=%{y}\", \"legendgroup\": \"model=Boeing 767-300\", \"marker\": {\"color\": \"#781c6d\", \"symbol\": \"circle\"}, \"mode\": \"markers\", \"name\": \"model=Boeing 767-300\", \"showlegend\": true, \"type\": \"scatter\", \"x\": [375], \"xaxis\": \"x\", \"y\": [600], \"yaxis\": \"y\"}, {\"hoverlabel\": {\"namelength\": 0}, \"hovertemplate\": \"model=Boeing 777-300<br>seats=%{x}<br>flights_amount=%{y}\", \"legendgroup\": \"model=Boeing 777-300\", \"marker\": {\"color\": \"#a52c60\", \"symbol\": \"circle\"}, \"mode\": \"markers\", \"name\": \"model=Boeing 777-300\", \"showlegend\": true, \"type\": \"scatter\", \"x\": [550], \"xaxis\": \"x\", \"y\": [300], \"yaxis\": \"y\"}, {\"hoverlabel\": {\"namelength\": 0}, \"hovertemplate\": \"model=Bombardier CRJ-200<br>seats=%{x}<br>flights_amount=%{y}\", \"legendgroup\": \"model=Bombardier CRJ-200\", \"marker\": {\"color\": \"#cf4446\", \"symbol\": \"circle\"}, \"mode\": \"markers\", \"name\": \"model=Bombardier CRJ-200\", \"showlegend\": true, \"type\": \"scatter\", \"x\": [50], \"xaxis\": \"x\", \"y\": [4446], \"yaxis\": \"y\"}, {\"hoverlabel\": {\"namelength\": 0}, \"hovertemplate\": \"model=Cessna 208 Caravan<br>seats=%{x}<br>flights_amount=%{y}\", \"legendgroup\": \"model=Cessna 208 Caravan\", \"marker\": {\"color\": \"#ed6925\", \"symbol\": \"circle\"}, \"mode\": \"markers\", \"name\": \"model=Cessna 208 Caravan\", \"showlegend\": true, \"type\": \"scatter\", \"x\": [13], \"xaxis\": \"x\", \"y\": [4557], \"yaxis\": \"y\"}, {\"hoverlabel\": {\"namelength\": 0}, \"hovertemplate\": \"model=Sukhoi SuperJet-100<br>seats=%{x}<br>flights_amount=%{y}\", \"legendgroup\": \"model=Sukhoi SuperJet-100\", \"marker\": {\"color\": \"#fb9b06\", \"symbol\": \"circle\"}, \"mode\": \"markers\", \"name\": \"model=Sukhoi SuperJet-100\", \"showlegend\": true, \"type\": \"scatter\", \"x\": [98], \"xaxis\": \"x\", \"y\": [4185], \"yaxis\": \"y\"}],\n",
              "                        {\"legend\": {\"tracegroupgap\": 0}, \"template\": {\"data\": {\"bar\": [{\"error_x\": {\"color\": \"#2a3f5f\"}, \"error_y\": {\"color\": \"#2a3f5f\"}, \"marker\": {\"line\": {\"color\": \"#E5ECF6\", \"width\": 0.5}}, \"type\": \"bar\"}], \"barpolar\": [{\"marker\": {\"line\": {\"color\": \"#E5ECF6\", \"width\": 0.5}}, \"type\": \"barpolar\"}], \"carpet\": [{\"aaxis\": {\"endlinecolor\": \"#2a3f5f\", \"gridcolor\": \"white\", \"linecolor\": \"white\", \"minorgridcolor\": \"white\", \"startlinecolor\": \"#2a3f5f\"}, \"baxis\": {\"endlinecolor\": \"#2a3f5f\", \"gridcolor\": \"white\", \"linecolor\": \"white\", \"minorgridcolor\": \"white\", \"startlinecolor\": \"#2a3f5f\"}, \"type\": \"carpet\"}], \"choropleth\": [{\"colorbar\": {\"outlinewidth\": 0, \"ticks\": \"\"}, \"type\": \"choropleth\"}], \"contour\": [{\"colorbar\": {\"outlinewidth\": 0, \"ticks\": \"\"}, \"colorscale\": [[0.0, \"#0d0887\"], [0.1111111111111111, \"#46039f\"], [0.2222222222222222, \"#7201a8\"], [0.3333333333333333, \"#9c179e\"], [0.4444444444444444, \"#bd3786\"], [0.5555555555555556, \"#d8576b\"], [0.6666666666666666, \"#ed7953\"], [0.7777777777777778, \"#fb9f3a\"], [0.8888888888888888, \"#fdca26\"], [1.0, \"#f0f921\"]], \"type\": \"contour\"}], \"contourcarpet\": [{\"colorbar\": {\"outlinewidth\": 0, \"ticks\": \"\"}, \"type\": \"contourcarpet\"}], \"heatmap\": [{\"colorbar\": {\"outlinewidth\": 0, \"ticks\": \"\"}, \"colorscale\": [[0.0, \"#0d0887\"], [0.1111111111111111, \"#46039f\"], [0.2222222222222222, \"#7201a8\"], [0.3333333333333333, \"#9c179e\"], [0.4444444444444444, \"#bd3786\"], [0.5555555555555556, \"#d8576b\"], [0.6666666666666666, \"#ed7953\"], [0.7777777777777778, \"#fb9f3a\"], [0.8888888888888888, \"#fdca26\"], [1.0, \"#f0f921\"]], \"type\": \"heatmap\"}], \"heatmapgl\": [{\"colorbar\": {\"outlinewidth\": 0, \"ticks\": \"\"}, \"colorscale\": [[0.0, \"#0d0887\"], [0.1111111111111111, \"#46039f\"], [0.2222222222222222, \"#7201a8\"], [0.3333333333333333, \"#9c179e\"], [0.4444444444444444, \"#bd3786\"], [0.5555555555555556, \"#d8576b\"], [0.6666666666666666, \"#ed7953\"], [0.7777777777777778, \"#fb9f3a\"], [0.8888888888888888, \"#fdca26\"], [1.0, \"#f0f921\"]], \"type\": \"heatmapgl\"}], \"histogram\": [{\"marker\": {\"colorbar\": {\"outlinewidth\": 0, \"ticks\": \"\"}}, \"type\": \"histogram\"}], \"histogram2d\": [{\"colorbar\": {\"outlinewidth\": 0, \"ticks\": \"\"}, \"colorscale\": [[0.0, \"#0d0887\"], [0.1111111111111111, \"#46039f\"], [0.2222222222222222, \"#7201a8\"], [0.3333333333333333, \"#9c179e\"], [0.4444444444444444, \"#bd3786\"], [0.5555555555555556, \"#d8576b\"], [0.6666666666666666, \"#ed7953\"], [0.7777777777777778, \"#fb9f3a\"], [0.8888888888888888, \"#fdca26\"], [1.0, \"#f0f921\"]], \"type\": \"histogram2d\"}], \"histogram2dcontour\": [{\"colorbar\": {\"outlinewidth\": 0, \"ticks\": \"\"}, \"colorscale\": [[0.0, \"#0d0887\"], [0.1111111111111111, \"#46039f\"], [0.2222222222222222, \"#7201a8\"], [0.3333333333333333, \"#9c179e\"], [0.4444444444444444, \"#bd3786\"], [0.5555555555555556, \"#d8576b\"], [0.6666666666666666, \"#ed7953\"], [0.7777777777777778, \"#fb9f3a\"], [0.8888888888888888, \"#fdca26\"], [1.0, \"#f0f921\"]], \"type\": \"histogram2dcontour\"}], \"mesh3d\": [{\"colorbar\": {\"outlinewidth\": 0, \"ticks\": \"\"}, \"type\": \"mesh3d\"}], \"parcoords\": [{\"line\": {\"colorbar\": {\"outlinewidth\": 0, \"ticks\": \"\"}}, \"type\": \"parcoords\"}], \"pie\": [{\"automargin\": true, \"type\": \"pie\"}], \"scatter\": [{\"marker\": {\"colorbar\": {\"outlinewidth\": 0, \"ticks\": \"\"}}, \"type\": \"scatter\"}], \"scatter3d\": [{\"line\": {\"colorbar\": {\"outlinewidth\": 0, \"ticks\": \"\"}}, \"marker\": {\"colorbar\": {\"outlinewidth\": 0, \"ticks\": \"\"}}, \"type\": \"scatter3d\"}], \"scattercarpet\": [{\"marker\": {\"colorbar\": {\"outlinewidth\": 0, \"ticks\": \"\"}}, \"type\": \"scattercarpet\"}], \"scattergeo\": [{\"marker\": {\"colorbar\": {\"outlinewidth\": 0, \"ticks\": \"\"}}, \"type\": \"scattergeo\"}], \"scattergl\": [{\"marker\": {\"colorbar\": {\"outlinewidth\": 0, \"ticks\": \"\"}}, \"type\": \"scattergl\"}], \"scattermapbox\": [{\"marker\": {\"colorbar\": {\"outlinewidth\": 0, \"ticks\": \"\"}}, \"type\": \"scattermapbox\"}], \"scatterpolar\": [{\"marker\": {\"colorbar\": {\"outlinewidth\": 0, \"ticks\": \"\"}}, \"type\": \"scatterpolar\"}], \"scatterpolargl\": [{\"marker\": {\"colorbar\": {\"outlinewidth\": 0, \"ticks\": \"\"}}, \"type\": \"scatterpolargl\"}], \"scatterternary\": [{\"marker\": {\"colorbar\": {\"outlinewidth\": 0, \"ticks\": \"\"}}, \"type\": \"scatterternary\"}], \"surface\": [{\"colorbar\": {\"outlinewidth\": 0, \"ticks\": \"\"}, \"colorscale\": [[0.0, \"#0d0887\"], [0.1111111111111111, \"#46039f\"], [0.2222222222222222, \"#7201a8\"], [0.3333333333333333, \"#9c179e\"], [0.4444444444444444, \"#bd3786\"], [0.5555555555555556, \"#d8576b\"], [0.6666666666666666, \"#ed7953\"], [0.7777777777777778, \"#fb9f3a\"], [0.8888888888888888, \"#fdca26\"], [1.0, \"#f0f921\"]], \"type\": \"surface\"}], \"table\": [{\"cells\": {\"fill\": {\"color\": \"#EBF0F8\"}, \"line\": {\"color\": \"white\"}}, \"header\": {\"fill\": {\"color\": \"#C8D4E3\"}, \"line\": {\"color\": \"white\"}}, \"type\": \"table\"}]}, \"layout\": {\"annotationdefaults\": {\"arrowcolor\": \"#2a3f5f\", \"arrowhead\": 0, \"arrowwidth\": 1}, \"coloraxis\": {\"colorbar\": {\"outlinewidth\": 0, \"ticks\": \"\"}}, \"colorscale\": {\"diverging\": [[0, \"#8e0152\"], [0.1, \"#c51b7d\"], [0.2, \"#de77ae\"], [0.3, \"#f1b6da\"], [0.4, \"#fde0ef\"], [0.5, \"#f7f7f7\"], [0.6, \"#e6f5d0\"], [0.7, \"#b8e186\"], [0.8, \"#7fbc41\"], [0.9, \"#4d9221\"], [1, \"#276419\"]], \"sequential\": [[0.0, \"#0d0887\"], [0.1111111111111111, \"#46039f\"], [0.2222222222222222, \"#7201a8\"], [0.3333333333333333, \"#9c179e\"], [0.4444444444444444, \"#bd3786\"], [0.5555555555555556, \"#d8576b\"], [0.6666666666666666, \"#ed7953\"], [0.7777777777777778, \"#fb9f3a\"], [0.8888888888888888, \"#fdca26\"], [1.0, \"#f0f921\"]], \"sequentialminus\": [[0.0, \"#0d0887\"], [0.1111111111111111, \"#46039f\"], [0.2222222222222222, \"#7201a8\"], [0.3333333333333333, \"#9c179e\"], [0.4444444444444444, \"#bd3786\"], [0.5555555555555556, \"#d8576b\"], [0.6666666666666666, \"#ed7953\"], [0.7777777777777778, \"#fb9f3a\"], [0.8888888888888888, \"#fdca26\"], [1.0, \"#f0f921\"]]}, \"colorway\": [\"#636efa\", \"#EF553B\", \"#00cc96\", \"#ab63fa\", \"#FFA15A\", \"#19d3f3\", \"#FF6692\", \"#B6E880\", \"#FF97FF\", \"#FECB52\"], \"font\": {\"color\": \"#2a3f5f\"}, \"geo\": {\"bgcolor\": \"white\", \"lakecolor\": \"white\", \"landcolor\": \"#E5ECF6\", \"showlakes\": true, \"showland\": true, \"subunitcolor\": \"white\"}, \"hoverlabel\": {\"align\": \"left\"}, \"hovermode\": \"closest\", \"mapbox\": {\"style\": \"light\"}, \"paper_bgcolor\": \"white\", \"plot_bgcolor\": \"#E5ECF6\", \"polar\": {\"angularaxis\": {\"gridcolor\": \"white\", \"linecolor\": \"white\", \"ticks\": \"\"}, \"bgcolor\": \"#E5ECF6\", \"radialaxis\": {\"gridcolor\": \"white\", \"linecolor\": \"white\", \"ticks\": \"\"}}, \"scene\": {\"xaxis\": {\"backgroundcolor\": \"#E5ECF6\", \"gridcolor\": \"white\", \"gridwidth\": 2, \"linecolor\": \"white\", \"showbackground\": true, \"ticks\": \"\", \"zerolinecolor\": \"white\"}, \"yaxis\": {\"backgroundcolor\": \"#E5ECF6\", \"gridcolor\": \"white\", \"gridwidth\": 2, \"linecolor\": \"white\", \"showbackground\": true, \"ticks\": \"\", \"zerolinecolor\": \"white\"}, \"zaxis\": {\"backgroundcolor\": \"#E5ECF6\", \"gridcolor\": \"white\", \"gridwidth\": 2, \"linecolor\": \"white\", \"showbackground\": true, \"ticks\": \"\", \"zerolinecolor\": \"white\"}}, \"shapedefaults\": {\"line\": {\"color\": \"#2a3f5f\"}}, \"ternary\": {\"aaxis\": {\"gridcolor\": \"white\", \"linecolor\": \"white\", \"ticks\": \"\"}, \"baxis\": {\"gridcolor\": \"white\", \"linecolor\": \"white\", \"ticks\": \"\"}, \"bgcolor\": \"#E5ECF6\", \"caxis\": {\"gridcolor\": \"white\", \"linecolor\": \"white\", \"ticks\": \"\"}}, \"title\": {\"x\": 0.05}, \"xaxis\": {\"automargin\": true, \"gridcolor\": \"white\", \"linecolor\": \"white\", \"ticks\": \"\", \"title\": {\"standoff\": 15}, \"zerolinecolor\": \"white\", \"zerolinewidth\": 2}, \"yaxis\": {\"automargin\": true, \"gridcolor\": \"white\", \"linecolor\": \"white\", \"ticks\": \"\", \"title\": {\"standoff\": 15}, \"zerolinecolor\": \"white\", \"zerolinewidth\": 2}}}, \"title\": {\"text\": \"\\u0414\\u0438\\u0430\\u0433\\u0440\\u0430\\u043c\\u043c\\u0430 \\u0440\\u0430\\u0441\\u0441\\u0435\\u044f\\u043d\\u0438\\u044f \\u043a\\u043e\\u043b\\u0438\\u0447\\u0435\\u0441\\u0442\\u0432\\u0430 \\u0440\\u0435\\u0439\\u0441\\u043e\\u0432 \\u0438 \\u043f\\u043e\\u0441\\u0430\\u0434\\u043e\\u0447\\u043d\\u044b\\u0445 \\u043c\\u0435\\u0441\\u0442 \\u0434\\u043b\\u044f \\u043a\\u0430\\u0436\\u0434\\u043e\\u0439 \\u043c\\u043e\\u0434\\u0435\\u043b\\u0438\"}, \"xaxis\": {\"anchor\": \"y\", \"domain\": [0.0, 1.0], \"title\": {\"text\": \"seats\"}}, \"yaxis\": {\"anchor\": \"x\", \"domain\": [0.0, 1.0], \"title\": {\"text\": \"flights_amount\"}}},\n",
              "                        {\"responsive\": true}\n",
              "                    ).then(function(){\n",
              "                            \n",
              "var gd = document.getElementById('5686ff7a-242a-4546-851a-521eeee5e45b');\n",
              "var x = new MutationObserver(function (mutations, observer) {{\n",
              "        var display = window.getComputedStyle(gd).display;\n",
              "        if (!display || display === 'none') {{\n",
              "            console.log([gd, 'removed!']);\n",
              "            Plotly.purge(gd);\n",
              "            observer.disconnect();\n",
              "        }}\n",
              "}});\n",
              "\n",
              "// Listen for the removal of the full notebook cells\n",
              "var notebookContainer = gd.closest('#notebook-container');\n",
              "if (notebookContainer) {{\n",
              "    x.observe(notebookContainer, {childList: true});\n",
              "}}\n",
              "\n",
              "// Listen for the clearing of the current output cell\n",
              "var outputEl = gd.closest('.output');\n",
              "if (outputEl) {{\n",
              "    x.observe(outputEl, {childList: true});\n",
              "}}\n",
              "\n",
              "                        })\n",
              "                };\n",
              "                \n",
              "            </script>\n",
              "        </div>\n",
              "</body>\n",
              "</html>"
            ]
          },
          "metadata": {
            "tags": []
          }
        }
      ]
    },
    {
      "cell_type": "markdown",
      "metadata": {
        "id": "dFyWnUXiNGV3"
      },
      "source": [
        "Как видно из полученной диаграммы, наиболее часто летают модели с небольшим количеством пассажиров, а реже всего титаны-боинги, вмещающие сразу по несколько сотен человек.\n",
        "\n",
        "Также можно выделить среднюю группу, в которую входят Суперджет, Airbus A319 и A320, а также Boeing 737. Суперджет имеет многократное превосходство по количеству проведённых рейсов среди самолётов с сопоставимым количеством посадочных мест. Это может быть связано с несколькими факторами:\n",
        "\n",
        "1.   Суперджет является отечественной разработкой, обслуживание и приобретение этих моделей является более экономически выгодным;\n",
        "2.   Суперджеты являются более новым молодым семейством. Вероятно заказчик проводит/провёл обновление тех.парка.\n",
        "3. Количество рейсов связано с количеством экземпляров моделей, имеющихся у заказчика. В исходном запросе такова информация отсутсвует.\n",
        "\n"
      ]
    },
    {
      "cell_type": "markdown",
      "metadata": {
        "id": "M7PvjKvIT2Yd"
      },
      "source": [
        "Предлагается приближённо оценить эффективность перевозок для каждой модели самолётов. Для этого предлагается рассчитать количество перевезённых за месяц людей при заданных коэффициентах заполнения самолётов. Тогда при приблизительно одинаковой стоимости билета на каждую модель самолёта самой эффективной окажется та модель, для которой количество перевезённых оказалось наибольшим."
      ]
    },
    {
      "cell_type": "code",
      "metadata": {
        "id": "LluWqwh6NlcR"
      },
      "source": [
        "# Calculating the count of transported people if filling coef. is in np.arange(0.1, 1.1, 0.1).\n",
        "air_fill_stats = pd.DataFrame()\n",
        "\n",
        "for fill_factor in np.arange(0.1, 1.1, 0.1):\n",
        "    air_fill_stats['{:.0%}'.format(fill_factor)] = \\\n",
        "    airplanes['flights_amount'] * ((airplanes['seats'] * fill_factor).apply(math.floor))"
      ],
      "execution_count": null,
      "outputs": []
    },
    {
      "cell_type": "code",
      "metadata": {
        "colab": {
          "base_uri": "https://localhost:8080/",
          "height": 277
        },
        "id": "4D7SVveORf-C",
        "outputId": "eadfbfc4-2f41-49d9-f60d-db4aff95b2a4"
      },
      "source": [
        "airplanes"
      ],
      "execution_count": null,
      "outputs": [
        {
          "output_type": "execute_result",
          "data": {
            "text/html": [
              "<div>\n",
              "<style scoped>\n",
              "    .dataframe tbody tr th:only-of-type {\n",
              "        vertical-align: middle;\n",
              "    }\n",
              "\n",
              "    .dataframe tbody tr th {\n",
              "        vertical-align: top;\n",
              "    }\n",
              "\n",
              "    .dataframe thead th {\n",
              "        text-align: right;\n",
              "    }\n",
              "</style>\n",
              "<table border=\"1\" class=\"dataframe\">\n",
              "  <thead>\n",
              "    <tr style=\"text-align: right;\">\n",
              "      <th></th>\n",
              "      <th>model</th>\n",
              "      <th>flights_amount</th>\n",
              "      <th>group</th>\n",
              "      <th>seats</th>\n",
              "    </tr>\n",
              "  </thead>\n",
              "  <tbody>\n",
              "    <tr>\n",
              "      <th>0</th>\n",
              "      <td>Airbus A319-100</td>\n",
              "      <td>607</td>\n",
              "      <td>Airbus</td>\n",
              "      <td>116</td>\n",
              "    </tr>\n",
              "    <tr>\n",
              "      <th>1</th>\n",
              "      <td>Airbus A321-200</td>\n",
              "      <td>960</td>\n",
              "      <td>Airbus</td>\n",
              "      <td>180</td>\n",
              "    </tr>\n",
              "    <tr>\n",
              "      <th>2</th>\n",
              "      <td>Boeing 737-300</td>\n",
              "      <td>630</td>\n",
              "      <td>Boeing</td>\n",
              "      <td>149</td>\n",
              "    </tr>\n",
              "    <tr>\n",
              "      <th>3</th>\n",
              "      <td>Boeing 767-300</td>\n",
              "      <td>600</td>\n",
              "      <td>Boeing</td>\n",
              "      <td>375</td>\n",
              "    </tr>\n",
              "    <tr>\n",
              "      <th>4</th>\n",
              "      <td>Boeing 777-300</td>\n",
              "      <td>300</td>\n",
              "      <td>Boeing</td>\n",
              "      <td>550</td>\n",
              "    </tr>\n",
              "    <tr>\n",
              "      <th>5</th>\n",
              "      <td>Bombardier CRJ-200</td>\n",
              "      <td>4446</td>\n",
              "      <td>other</td>\n",
              "      <td>50</td>\n",
              "    </tr>\n",
              "    <tr>\n",
              "      <th>6</th>\n",
              "      <td>Cessna 208 Caravan</td>\n",
              "      <td>4557</td>\n",
              "      <td>other</td>\n",
              "      <td>13</td>\n",
              "    </tr>\n",
              "    <tr>\n",
              "      <th>7</th>\n",
              "      <td>Sukhoi SuperJet-100</td>\n",
              "      <td>4185</td>\n",
              "      <td>other</td>\n",
              "      <td>98</td>\n",
              "    </tr>\n",
              "  </tbody>\n",
              "</table>\n",
              "</div>"
            ],
            "text/plain": [
              "                 model  flights_amount   group  seats\n",
              "0      Airbus A319-100             607  Airbus    116\n",
              "1      Airbus A321-200             960  Airbus    180\n",
              "2       Boeing 737-300             630  Boeing    149\n",
              "3       Boeing 767-300             600  Boeing    375\n",
              "4       Boeing 777-300             300  Boeing    550\n",
              "5   Bombardier CRJ-200            4446   other     50\n",
              "6   Cessna 208 Caravan            4557   other     13\n",
              "7  Sukhoi SuperJet-100            4185   other     98"
            ]
          },
          "metadata": {
            "tags": []
          },
          "execution_count": 22
        }
      ]
    },
    {
      "cell_type": "code",
      "metadata": {
        "id": "3MjObAYOVGNy"
      },
      "source": [
        "# Some transponse for plots.\n",
        "air_fill_stats = air_fill_stats.transpose()\n",
        "air_fill_stats.columns = airplanes['model'].values\n",
        "air_fill_stats.sort_values('100%', axis=1, inplace=True)"
      ],
      "execution_count": null,
      "outputs": []
    },
    {
      "cell_type": "code",
      "metadata": {
        "colab": {
          "base_uri": "https://localhost:8080/",
          "height": 335
        },
        "id": "s_hs3NycXA4-",
        "outputId": "e7ebd4e9-d340-4eef-b089-1d17da07c3ba"
      },
      "source": [
        "air_fill_stats"
      ],
      "execution_count": null,
      "outputs": [
        {
          "output_type": "execute_result",
          "data": {
            "text/html": [
              "<div>\n",
              "<style scoped>\n",
              "    .dataframe tbody tr th:only-of-type {\n",
              "        vertical-align: middle;\n",
              "    }\n",
              "\n",
              "    .dataframe tbody tr th {\n",
              "        vertical-align: top;\n",
              "    }\n",
              "\n",
              "    .dataframe thead th {\n",
              "        text-align: right;\n",
              "    }\n",
              "</style>\n",
              "<table border=\"1\" class=\"dataframe\">\n",
              "  <thead>\n",
              "    <tr style=\"text-align: right;\">\n",
              "      <th></th>\n",
              "      <th>Cessna 208 Caravan</th>\n",
              "      <th>Airbus A319-100</th>\n",
              "      <th>Boeing 737-300</th>\n",
              "      <th>Boeing 777-300</th>\n",
              "      <th>Airbus A321-200</th>\n",
              "      <th>Bombardier CRJ-200</th>\n",
              "      <th>Boeing 767-300</th>\n",
              "      <th>Sukhoi SuperJet-100</th>\n",
              "    </tr>\n",
              "  </thead>\n",
              "  <tbody>\n",
              "    <tr>\n",
              "      <th>10%</th>\n",
              "      <td>4557</td>\n",
              "      <td>6677</td>\n",
              "      <td>8820</td>\n",
              "      <td>16500</td>\n",
              "      <td>17280</td>\n",
              "      <td>22230</td>\n",
              "      <td>22200</td>\n",
              "      <td>37665</td>\n",
              "    </tr>\n",
              "    <tr>\n",
              "      <th>20%</th>\n",
              "      <td>9114</td>\n",
              "      <td>13961</td>\n",
              "      <td>18270</td>\n",
              "      <td>33000</td>\n",
              "      <td>34560</td>\n",
              "      <td>44460</td>\n",
              "      <td>45000</td>\n",
              "      <td>79515</td>\n",
              "    </tr>\n",
              "    <tr>\n",
              "      <th>30%</th>\n",
              "      <td>13671</td>\n",
              "      <td>20638</td>\n",
              "      <td>27720</td>\n",
              "      <td>49500</td>\n",
              "      <td>51840</td>\n",
              "      <td>66690</td>\n",
              "      <td>67200</td>\n",
              "      <td>121365</td>\n",
              "    </tr>\n",
              "    <tr>\n",
              "      <th>40%</th>\n",
              "      <td>22785</td>\n",
              "      <td>27922</td>\n",
              "      <td>37170</td>\n",
              "      <td>66000</td>\n",
              "      <td>69120</td>\n",
              "      <td>88920</td>\n",
              "      <td>90000</td>\n",
              "      <td>163215</td>\n",
              "    </tr>\n",
              "    <tr>\n",
              "      <th>50%</th>\n",
              "      <td>27342</td>\n",
              "      <td>35206</td>\n",
              "      <td>46620</td>\n",
              "      <td>82500</td>\n",
              "      <td>86400</td>\n",
              "      <td>111150</td>\n",
              "      <td>112200</td>\n",
              "      <td>205065</td>\n",
              "    </tr>\n",
              "    <tr>\n",
              "      <th>60%</th>\n",
              "      <td>31899</td>\n",
              "      <td>41883</td>\n",
              "      <td>56070</td>\n",
              "      <td>99000</td>\n",
              "      <td>103680</td>\n",
              "      <td>133380</td>\n",
              "      <td>135000</td>\n",
              "      <td>242730</td>\n",
              "    </tr>\n",
              "    <tr>\n",
              "      <th>70%</th>\n",
              "      <td>41013</td>\n",
              "      <td>49167</td>\n",
              "      <td>65520</td>\n",
              "      <td>115500</td>\n",
              "      <td>120960</td>\n",
              "      <td>155610</td>\n",
              "      <td>157200</td>\n",
              "      <td>284580</td>\n",
              "    </tr>\n",
              "    <tr>\n",
              "      <th>80%</th>\n",
              "      <td>45570</td>\n",
              "      <td>55844</td>\n",
              "      <td>74970</td>\n",
              "      <td>132000</td>\n",
              "      <td>138240</td>\n",
              "      <td>177840</td>\n",
              "      <td>180000</td>\n",
              "      <td>326430</td>\n",
              "    </tr>\n",
              "    <tr>\n",
              "      <th>90%</th>\n",
              "      <td>50127</td>\n",
              "      <td>63128</td>\n",
              "      <td>84420</td>\n",
              "      <td>148500</td>\n",
              "      <td>155520</td>\n",
              "      <td>200070</td>\n",
              "      <td>202200</td>\n",
              "      <td>368280</td>\n",
              "    </tr>\n",
              "    <tr>\n",
              "      <th>100%</th>\n",
              "      <td>59241</td>\n",
              "      <td>70412</td>\n",
              "      <td>93870</td>\n",
              "      <td>165000</td>\n",
              "      <td>172800</td>\n",
              "      <td>222300</td>\n",
              "      <td>225000</td>\n",
              "      <td>410130</td>\n",
              "    </tr>\n",
              "  </tbody>\n",
              "</table>\n",
              "</div>"
            ],
            "text/plain": [
              "      Cessna 208 Caravan  Airbus A319-100  ...  Boeing 767-300  Sukhoi SuperJet-100\n",
              "10%                 4557             6677  ...           22200                37665\n",
              "20%                 9114            13961  ...           45000                79515\n",
              "30%                13671            20638  ...           67200               121365\n",
              "40%                22785            27922  ...           90000               163215\n",
              "50%                27342            35206  ...          112200               205065\n",
              "60%                31899            41883  ...          135000               242730\n",
              "70%                41013            49167  ...          157200               284580\n",
              "80%                45570            55844  ...          180000               326430\n",
              "90%                50127            63128  ...          202200               368280\n",
              "100%               59241            70412  ...          225000               410130\n",
              "\n",
              "[10 rows x 8 columns]"
            ]
          },
          "metadata": {
            "tags": []
          },
          "execution_count": 24
        }
      ]
    },
    {
      "cell_type": "code",
      "metadata": {
        "colab": {
          "base_uri": "https://localhost:8080/",
          "height": 542
        },
        "id": "GNsqKFzPXzS4",
        "outputId": "55dd60cc-3d19-4eb6-be95-5fb6edd9a915"
      },
      "source": [
        "# Filling plot-stats.\n",
        "fig = go.Figure()\n",
        "\n",
        "# Set colors.\n",
        "colors = ['OrangeRed', 'Orange', 'YellowGreen', 'ForestGreen', 'RoyalBlue', 'DarkBlue', 'MediumPurple', 'FireBrick']\n",
        "\n",
        "for model, color in zip(air_fill_stats.columns, colors):\n",
        "    fig.add_trace(go.Scatter(x=air_fill_stats.index,\n",
        "                            y=air_fill_stats[model],\n",
        "                            mode='lines+markers',\n",
        "                            name=model,\n",
        "                            marker=dict(color=color)))\n",
        "\n",
        "fig.update_layout(title='Сравнительная эффективность различных моделей в зависимости от коэффициента заполняемости',\n",
        "                  yaxis_title='transported_amount',\n",
        "                  xaxis_title='fill_coef')\n",
        "fig.show()"
      ],
      "execution_count": null,
      "outputs": [
        {
          "output_type": "display_data",
          "data": {
            "text/html": [
              "<html>\n",
              "<head><meta charset=\"utf-8\" /></head>\n",
              "<body>\n",
              "    <div>\n",
              "            <script src=\"https://cdnjs.cloudflare.com/ajax/libs/mathjax/2.7.5/MathJax.js?config=TeX-AMS-MML_SVG\"></script><script type=\"text/javascript\">if (window.MathJax) {MathJax.Hub.Config({SVG: {font: \"STIX-Web\"}});}</script>\n",
              "                <script type=\"text/javascript\">window.PlotlyConfig = {MathJaxConfig: 'local'};</script>\n",
              "        <script src=\"https://cdn.plot.ly/plotly-latest.min.js\"></script>    \n",
              "            <div id=\"7a7424c4-eeac-4409-aea2-1dbc877bcb0e\" class=\"plotly-graph-div\" style=\"height:525px; width:100%;\"></div>\n",
              "            <script type=\"text/javascript\">\n",
              "                \n",
              "                    window.PLOTLYENV=window.PLOTLYENV || {};\n",
              "                    \n",
              "                if (document.getElementById(\"7a7424c4-eeac-4409-aea2-1dbc877bcb0e\")) {\n",
              "                    Plotly.newPlot(\n",
              "                        '7a7424c4-eeac-4409-aea2-1dbc877bcb0e',\n",
              "                        [{\"marker\": {\"color\": \"OrangeRed\"}, \"mode\": \"lines+markers\", \"name\": \"Cessna 208 Caravan\", \"type\": \"scatter\", \"x\": [\"10%\", \"20%\", \"30%\", \"40%\", \"50%\", \"60%\", \"70%\", \"80%\", \"90%\", \"100%\"], \"y\": [4557, 9114, 13671, 22785, 27342, 31899, 41013, 45570, 50127, 59241]}, {\"marker\": {\"color\": \"Orange\"}, \"mode\": \"lines+markers\", \"name\": \"Airbus A319-100\", \"type\": \"scatter\", \"x\": [\"10%\", \"20%\", \"30%\", \"40%\", \"50%\", \"60%\", \"70%\", \"80%\", \"90%\", \"100%\"], \"y\": [6677, 13961, 20638, 27922, 35206, 41883, 49167, 55844, 63128, 70412]}, {\"marker\": {\"color\": \"YellowGreen\"}, \"mode\": \"lines+markers\", \"name\": \"Boeing 737-300\", \"type\": \"scatter\", \"x\": [\"10%\", \"20%\", \"30%\", \"40%\", \"50%\", \"60%\", \"70%\", \"80%\", \"90%\", \"100%\"], \"y\": [8820, 18270, 27720, 37170, 46620, 56070, 65520, 74970, 84420, 93870]}, {\"marker\": {\"color\": \"ForestGreen\"}, \"mode\": \"lines+markers\", \"name\": \"Boeing 777-300\", \"type\": \"scatter\", \"x\": [\"10%\", \"20%\", \"30%\", \"40%\", \"50%\", \"60%\", \"70%\", \"80%\", \"90%\", \"100%\"], \"y\": [16500, 33000, 49500, 66000, 82500, 99000, 115500, 132000, 148500, 165000]}, {\"marker\": {\"color\": \"RoyalBlue\"}, \"mode\": \"lines+markers\", \"name\": \"Airbus A321-200\", \"type\": \"scatter\", \"x\": [\"10%\", \"20%\", \"30%\", \"40%\", \"50%\", \"60%\", \"70%\", \"80%\", \"90%\", \"100%\"], \"y\": [17280, 34560, 51840, 69120, 86400, 103680, 120960, 138240, 155520, 172800]}, {\"marker\": {\"color\": \"DarkBlue\"}, \"mode\": \"lines+markers\", \"name\": \"Bombardier CRJ-200\", \"type\": \"scatter\", \"x\": [\"10%\", \"20%\", \"30%\", \"40%\", \"50%\", \"60%\", \"70%\", \"80%\", \"90%\", \"100%\"], \"y\": [22230, 44460, 66690, 88920, 111150, 133380, 155610, 177840, 200070, 222300]}, {\"marker\": {\"color\": \"MediumPurple\"}, \"mode\": \"lines+markers\", \"name\": \"Boeing 767-300\", \"type\": \"scatter\", \"x\": [\"10%\", \"20%\", \"30%\", \"40%\", \"50%\", \"60%\", \"70%\", \"80%\", \"90%\", \"100%\"], \"y\": [22200, 45000, 67200, 90000, 112200, 135000, 157200, 180000, 202200, 225000]}, {\"marker\": {\"color\": \"FireBrick\"}, \"mode\": \"lines+markers\", \"name\": \"Sukhoi SuperJet-100\", \"type\": \"scatter\", \"x\": [\"10%\", \"20%\", \"30%\", \"40%\", \"50%\", \"60%\", \"70%\", \"80%\", \"90%\", \"100%\"], \"y\": [37665, 79515, 121365, 163215, 205065, 242730, 284580, 326430, 368280, 410130]}],\n",
              "                        {\"template\": {\"data\": {\"bar\": [{\"error_x\": {\"color\": \"#2a3f5f\"}, \"error_y\": {\"color\": \"#2a3f5f\"}, \"marker\": {\"line\": {\"color\": \"#E5ECF6\", \"width\": 0.5}}, \"type\": \"bar\"}], \"barpolar\": [{\"marker\": {\"line\": {\"color\": \"#E5ECF6\", \"width\": 0.5}}, \"type\": \"barpolar\"}], \"carpet\": [{\"aaxis\": {\"endlinecolor\": \"#2a3f5f\", \"gridcolor\": \"white\", \"linecolor\": \"white\", \"minorgridcolor\": \"white\", \"startlinecolor\": \"#2a3f5f\"}, \"baxis\": {\"endlinecolor\": \"#2a3f5f\", \"gridcolor\": \"white\", \"linecolor\": \"white\", \"minorgridcolor\": \"white\", \"startlinecolor\": \"#2a3f5f\"}, \"type\": \"carpet\"}], \"choropleth\": [{\"colorbar\": {\"outlinewidth\": 0, \"ticks\": \"\"}, \"type\": \"choropleth\"}], \"contour\": [{\"colorbar\": {\"outlinewidth\": 0, \"ticks\": \"\"}, \"colorscale\": [[0.0, \"#0d0887\"], [0.1111111111111111, \"#46039f\"], [0.2222222222222222, \"#7201a8\"], [0.3333333333333333, \"#9c179e\"], [0.4444444444444444, \"#bd3786\"], [0.5555555555555556, \"#d8576b\"], [0.6666666666666666, \"#ed7953\"], [0.7777777777777778, \"#fb9f3a\"], [0.8888888888888888, \"#fdca26\"], [1.0, \"#f0f921\"]], \"type\": \"contour\"}], \"contourcarpet\": [{\"colorbar\": {\"outlinewidth\": 0, \"ticks\": \"\"}, \"type\": \"contourcarpet\"}], \"heatmap\": [{\"colorbar\": {\"outlinewidth\": 0, \"ticks\": \"\"}, \"colorscale\": [[0.0, \"#0d0887\"], [0.1111111111111111, \"#46039f\"], [0.2222222222222222, \"#7201a8\"], [0.3333333333333333, \"#9c179e\"], [0.4444444444444444, \"#bd3786\"], [0.5555555555555556, \"#d8576b\"], [0.6666666666666666, \"#ed7953\"], [0.7777777777777778, \"#fb9f3a\"], [0.8888888888888888, \"#fdca26\"], [1.0, \"#f0f921\"]], \"type\": \"heatmap\"}], \"heatmapgl\": [{\"colorbar\": {\"outlinewidth\": 0, \"ticks\": \"\"}, \"colorscale\": [[0.0, \"#0d0887\"], [0.1111111111111111, \"#46039f\"], [0.2222222222222222, \"#7201a8\"], [0.3333333333333333, \"#9c179e\"], [0.4444444444444444, \"#bd3786\"], [0.5555555555555556, \"#d8576b\"], [0.6666666666666666, \"#ed7953\"], [0.7777777777777778, \"#fb9f3a\"], [0.8888888888888888, \"#fdca26\"], [1.0, \"#f0f921\"]], \"type\": \"heatmapgl\"}], \"histogram\": [{\"marker\": {\"colorbar\": {\"outlinewidth\": 0, \"ticks\": \"\"}}, \"type\": \"histogram\"}], \"histogram2d\": [{\"colorbar\": {\"outlinewidth\": 0, \"ticks\": \"\"}, \"colorscale\": [[0.0, \"#0d0887\"], [0.1111111111111111, \"#46039f\"], [0.2222222222222222, \"#7201a8\"], [0.3333333333333333, \"#9c179e\"], [0.4444444444444444, \"#bd3786\"], [0.5555555555555556, \"#d8576b\"], [0.6666666666666666, \"#ed7953\"], [0.7777777777777778, \"#fb9f3a\"], [0.8888888888888888, \"#fdca26\"], [1.0, \"#f0f921\"]], \"type\": \"histogram2d\"}], \"histogram2dcontour\": [{\"colorbar\": {\"outlinewidth\": 0, \"ticks\": \"\"}, \"colorscale\": [[0.0, \"#0d0887\"], [0.1111111111111111, \"#46039f\"], [0.2222222222222222, \"#7201a8\"], [0.3333333333333333, \"#9c179e\"], [0.4444444444444444, \"#bd3786\"], [0.5555555555555556, \"#d8576b\"], [0.6666666666666666, \"#ed7953\"], [0.7777777777777778, \"#fb9f3a\"], [0.8888888888888888, \"#fdca26\"], [1.0, \"#f0f921\"]], \"type\": \"histogram2dcontour\"}], \"mesh3d\": [{\"colorbar\": {\"outlinewidth\": 0, \"ticks\": \"\"}, \"type\": \"mesh3d\"}], \"parcoords\": [{\"line\": {\"colorbar\": {\"outlinewidth\": 0, \"ticks\": \"\"}}, \"type\": \"parcoords\"}], \"pie\": [{\"automargin\": true, \"type\": \"pie\"}], \"scatter\": [{\"marker\": {\"colorbar\": {\"outlinewidth\": 0, \"ticks\": \"\"}}, \"type\": \"scatter\"}], \"scatter3d\": [{\"line\": {\"colorbar\": {\"outlinewidth\": 0, \"ticks\": \"\"}}, \"marker\": {\"colorbar\": {\"outlinewidth\": 0, \"ticks\": \"\"}}, \"type\": \"scatter3d\"}], \"scattercarpet\": [{\"marker\": {\"colorbar\": {\"outlinewidth\": 0, \"ticks\": \"\"}}, \"type\": \"scattercarpet\"}], \"scattergeo\": [{\"marker\": {\"colorbar\": {\"outlinewidth\": 0, \"ticks\": \"\"}}, \"type\": \"scattergeo\"}], \"scattergl\": [{\"marker\": {\"colorbar\": {\"outlinewidth\": 0, \"ticks\": \"\"}}, \"type\": \"scattergl\"}], \"scattermapbox\": [{\"marker\": {\"colorbar\": {\"outlinewidth\": 0, \"ticks\": \"\"}}, \"type\": \"scattermapbox\"}], \"scatterpolar\": [{\"marker\": {\"colorbar\": {\"outlinewidth\": 0, \"ticks\": \"\"}}, \"type\": \"scatterpolar\"}], \"scatterpolargl\": [{\"marker\": {\"colorbar\": {\"outlinewidth\": 0, \"ticks\": \"\"}}, \"type\": \"scatterpolargl\"}], \"scatterternary\": [{\"marker\": {\"colorbar\": {\"outlinewidth\": 0, \"ticks\": \"\"}}, \"type\": \"scatterternary\"}], \"surface\": [{\"colorbar\": {\"outlinewidth\": 0, \"ticks\": \"\"}, \"colorscale\": [[0.0, \"#0d0887\"], [0.1111111111111111, \"#46039f\"], [0.2222222222222222, \"#7201a8\"], [0.3333333333333333, \"#9c179e\"], [0.4444444444444444, \"#bd3786\"], [0.5555555555555556, \"#d8576b\"], [0.6666666666666666, \"#ed7953\"], [0.7777777777777778, \"#fb9f3a\"], [0.8888888888888888, \"#fdca26\"], [1.0, \"#f0f921\"]], \"type\": \"surface\"}], \"table\": [{\"cells\": {\"fill\": {\"color\": \"#EBF0F8\"}, \"line\": {\"color\": \"white\"}}, \"header\": {\"fill\": {\"color\": \"#C8D4E3\"}, \"line\": {\"color\": \"white\"}}, \"type\": \"table\"}]}, \"layout\": {\"annotationdefaults\": {\"arrowcolor\": \"#2a3f5f\", \"arrowhead\": 0, \"arrowwidth\": 1}, \"coloraxis\": {\"colorbar\": {\"outlinewidth\": 0, \"ticks\": \"\"}}, \"colorscale\": {\"diverging\": [[0, \"#8e0152\"], [0.1, \"#c51b7d\"], [0.2, \"#de77ae\"], [0.3, \"#f1b6da\"], [0.4, \"#fde0ef\"], [0.5, \"#f7f7f7\"], [0.6, \"#e6f5d0\"], [0.7, \"#b8e186\"], [0.8, \"#7fbc41\"], [0.9, \"#4d9221\"], [1, \"#276419\"]], \"sequential\": [[0.0, \"#0d0887\"], [0.1111111111111111, \"#46039f\"], [0.2222222222222222, \"#7201a8\"], [0.3333333333333333, \"#9c179e\"], [0.4444444444444444, \"#bd3786\"], [0.5555555555555556, \"#d8576b\"], [0.6666666666666666, \"#ed7953\"], [0.7777777777777778, \"#fb9f3a\"], [0.8888888888888888, \"#fdca26\"], [1.0, \"#f0f921\"]], \"sequentialminus\": [[0.0, \"#0d0887\"], [0.1111111111111111, \"#46039f\"], [0.2222222222222222, \"#7201a8\"], [0.3333333333333333, \"#9c179e\"], [0.4444444444444444, \"#bd3786\"], [0.5555555555555556, \"#d8576b\"], [0.6666666666666666, \"#ed7953\"], [0.7777777777777778, \"#fb9f3a\"], [0.8888888888888888, \"#fdca26\"], [1.0, \"#f0f921\"]]}, \"colorway\": [\"#636efa\", \"#EF553B\", \"#00cc96\", \"#ab63fa\", \"#FFA15A\", \"#19d3f3\", \"#FF6692\", \"#B6E880\", \"#FF97FF\", \"#FECB52\"], \"font\": {\"color\": \"#2a3f5f\"}, \"geo\": {\"bgcolor\": \"white\", \"lakecolor\": \"white\", \"landcolor\": \"#E5ECF6\", \"showlakes\": true, \"showland\": true, \"subunitcolor\": \"white\"}, \"hoverlabel\": {\"align\": \"left\"}, \"hovermode\": \"closest\", \"mapbox\": {\"style\": \"light\"}, \"paper_bgcolor\": \"white\", \"plot_bgcolor\": \"#E5ECF6\", \"polar\": {\"angularaxis\": {\"gridcolor\": \"white\", \"linecolor\": \"white\", \"ticks\": \"\"}, \"bgcolor\": \"#E5ECF6\", \"radialaxis\": {\"gridcolor\": \"white\", \"linecolor\": \"white\", \"ticks\": \"\"}}, \"scene\": {\"xaxis\": {\"backgroundcolor\": \"#E5ECF6\", \"gridcolor\": \"white\", \"gridwidth\": 2, \"linecolor\": \"white\", \"showbackground\": true, \"ticks\": \"\", \"zerolinecolor\": \"white\"}, \"yaxis\": {\"backgroundcolor\": \"#E5ECF6\", \"gridcolor\": \"white\", \"gridwidth\": 2, \"linecolor\": \"white\", \"showbackground\": true, \"ticks\": \"\", \"zerolinecolor\": \"white\"}, \"zaxis\": {\"backgroundcolor\": \"#E5ECF6\", \"gridcolor\": \"white\", \"gridwidth\": 2, \"linecolor\": \"white\", \"showbackground\": true, \"ticks\": \"\", \"zerolinecolor\": \"white\"}}, \"shapedefaults\": {\"line\": {\"color\": \"#2a3f5f\"}}, \"ternary\": {\"aaxis\": {\"gridcolor\": \"white\", \"linecolor\": \"white\", \"ticks\": \"\"}, \"baxis\": {\"gridcolor\": \"white\", \"linecolor\": \"white\", \"ticks\": \"\"}, \"bgcolor\": \"#E5ECF6\", \"caxis\": {\"gridcolor\": \"white\", \"linecolor\": \"white\", \"ticks\": \"\"}}, \"title\": {\"x\": 0.05}, \"xaxis\": {\"automargin\": true, \"gridcolor\": \"white\", \"linecolor\": \"white\", \"ticks\": \"\", \"title\": {\"standoff\": 15}, \"zerolinecolor\": \"white\", \"zerolinewidth\": 2}, \"yaxis\": {\"automargin\": true, \"gridcolor\": \"white\", \"linecolor\": \"white\", \"ticks\": \"\", \"title\": {\"standoff\": 15}, \"zerolinecolor\": \"white\", \"zerolinewidth\": 2}}}, \"title\": {\"text\": \"\\u0421\\u0440\\u0430\\u0432\\u043d\\u0438\\u0442\\u0435\\u043b\\u044c\\u043d\\u0430\\u044f \\u044d\\u0444\\u0444\\u0435\\u043a\\u0442\\u0438\\u0432\\u043d\\u043e\\u0441\\u0442\\u044c \\u0440\\u0430\\u0437\\u043b\\u0438\\u0447\\u043d\\u044b\\u0445 \\u043c\\u043e\\u0434\\u0435\\u043b\\u0435\\u0439 \\u0432 \\u0437\\u0430\\u0432\\u0438\\u0441\\u0438\\u043c\\u043e\\u0441\\u0442\\u0438 \\u043e\\u0442 \\u043a\\u043e\\u044d\\u0444\\u0444\\u0438\\u0446\\u0438\\u0435\\u043d\\u0442\\u0430 \\u0437\\u0430\\u043f\\u043e\\u043b\\u043d\\u044f\\u0435\\u043c\\u043e\\u0441\\u0442\\u0438\"}, \"xaxis\": {\"title\": {\"text\": \"fill_coef\"}}, \"yaxis\": {\"title\": {\"text\": \"transported_amount\"}}},\n",
              "                        {\"responsive\": true}\n",
              "                    ).then(function(){\n",
              "                            \n",
              "var gd = document.getElementById('7a7424c4-eeac-4409-aea2-1dbc877bcb0e');\n",
              "var x = new MutationObserver(function (mutations, observer) {{\n",
              "        var display = window.getComputedStyle(gd).display;\n",
              "        if (!display || display === 'none') {{\n",
              "            console.log([gd, 'removed!']);\n",
              "            Plotly.purge(gd);\n",
              "            observer.disconnect();\n",
              "        }}\n",
              "}});\n",
              "\n",
              "// Listen for the removal of the full notebook cells\n",
              "var notebookContainer = gd.closest('#notebook-container');\n",
              "if (notebookContainer) {{\n",
              "    x.observe(notebookContainer, {childList: true});\n",
              "}}\n",
              "\n",
              "// Listen for the clearing of the current output cell\n",
              "var outputEl = gd.closest('.output');\n",
              "if (outputEl) {{\n",
              "    x.observe(outputEl, {childList: true});\n",
              "}}\n",
              "\n",
              "                        })\n",
              "                };\n",
              "                \n",
              "            </script>\n",
              "        </div>\n",
              "</body>\n",
              "</html>"
            ]
          },
          "metadata": {
            "tags": []
          }
        }
      ]
    },
    {
      "cell_type": "markdown",
      "metadata": {
        "id": "EsnYFAuS-Y6F"
      },
      "source": [
        "Количество рейсов на Cessna 208 Caravan велико, но даже с учётом этого общее количество перевезённых пассажиров оказывается наименьшим. Если бы билеты стоили одинаково для всех моделей, то полёты на маломестных самолётов имели бы мало смысла.\n",
        "\n",
        "Однако данный график даёт возможность сравнить различные модели по количеству перевезённых людей. Видно, что при текущей задействованности Boeing 767-300 переносит перевозит почти столько же людей, сколько и Bombardier CRJ-200, хотя даные самолёты из разных \"весовых категорий\".\n",
        "\n",
        "Большая часть пассажиров доставляется с помощью Superjet, Boeing 767 и Bombardier CRJ-200."
      ]
    },
    {
      "cell_type": "markdown",
      "metadata": {
        "id": "TSdwXSW4RYnr"
      },
      "source": [
        "### **1.4.2 Cities**"
      ]
    },
    {
      "cell_type": "code",
      "metadata": {
        "colab": {
          "base_uri": "https://localhost:8080/",
          "height": 497
        },
        "id": "s_zuNJxJwNi0",
        "outputId": "6f1ae53f-3f71-4175-ea96-17328ae96362"
      },
      "source": [
        "# Cities statistics.\n",
        "float_data_analyzer(cities, ['average_flights'], 100, 3)"
      ],
      "execution_count": null,
      "outputs": [
        {
          "output_type": "stream",
          "text": [
            "count    101.000\n",
            "mean       5.494\n",
            "std       13.120\n",
            "min        1.000\n",
            "25%        2.000\n",
            "50%        3.000\n",
            "75%        5.871\n",
            "max      129.774\n",
            "Name: average_flights, dtype: float64\n"
          ],
          "name": "stdout"
        },
        {
          "output_type": "display_data",
          "data": {
            "image/png": "[encoded data removed]",
            "text/plain": [
              "<Figure size 864x360 with 2 Axes>"
            ]
          },
          "metadata": {
            "tags": [],
            "needs_background": "light"
          }
        }
      ]
    },
    {
      "cell_type": "markdown",
      "metadata": {
        "id": "bomBSjmww27f"
      },
      "source": [
        "Среднее значение 'average_flights' по всем городам близко к медианному значению.\n",
        "\n",
        "Минимальное значение — единица — сильно отличается от максимального, приблизительно равного 130. В результате стандартное отклонение больше среднего значения на порядок.\n",
        "\n",
        "Основная масса объектов находится в диапазоне от 0 до 8 рейсов."
      ]
    },
    {
      "cell_type": "code",
      "metadata": {
        "colab": {
          "base_uri": "https://localhost:8080/",
          "height": 497
        },
        "id": "nXDTyqQWyzCi",
        "outputId": "03c69a6e-cc02-4c57-80d7-95d103698687"
      },
      "source": [
        "# Kernel of objects.\n",
        "float_data_analyzer(cities[cities['average_flights'] < 8],\n",
        "                    ['average_flights'],\n",
        "                    8,\n",
        "                    3)"
      ],
      "execution_count": null,
      "outputs": [
        {
          "output_type": "stream",
          "text": [
            "count    87.000\n",
            "mean      3.101\n",
            "std       1.747\n",
            "min       1.000\n",
            "25%       1.804\n",
            "50%       2.742\n",
            "75%       4.065\n",
            "max       7.742\n",
            "Name: average_flights, dtype: float64\n"
          ],
          "name": "stdout"
        },
        {
          "output_type": "display_data",
          "data": {
            "image/png": "[encoded data removed]",
            "text/plain": [
              "<Figure size 864x360 with 2 Axes>"
            ]
          },
          "metadata": {
            "tags": [],
            "needs_background": "light"
          }
        }
      ]
    },
    {
      "cell_type": "code",
      "metadata": {
        "colab": {
          "base_uri": "https://localhost:8080/",
          "height": 335
        },
        "id": "NkSv6uUsyDZc",
        "outputId": "c8d8b40b-72cf-4f03-814f-549c1c9b7e27"
      },
      "source": [
        "# Top-10 popular city.\n",
        "cities.sort_values('average_flights', ascending=False).head(10)"
      ],
      "execution_count": null,
      "outputs": [
        {
          "output_type": "execute_result",
          "data": {
            "text/html": [
              "<div>\n",
              "<style scoped>\n",
              "    .dataframe tbody tr th:only-of-type {\n",
              "        vertical-align: middle;\n",
              "    }\n",
              "\n",
              "    .dataframe tbody tr th {\n",
              "        vertical-align: top;\n",
              "    }\n",
              "\n",
              "    .dataframe thead th {\n",
              "        text-align: right;\n",
              "    }\n",
              "</style>\n",
              "<table border=\"1\" class=\"dataframe\">\n",
              "  <thead>\n",
              "    <tr style=\"text-align: right;\">\n",
              "      <th></th>\n",
              "      <th>city</th>\n",
              "      <th>average_flights</th>\n",
              "    </tr>\n",
              "  </thead>\n",
              "  <tbody>\n",
              "    <tr>\n",
              "      <th>43</th>\n",
              "      <td>Москва</td>\n",
              "      <td>129.774194</td>\n",
              "    </tr>\n",
              "    <tr>\n",
              "      <th>70</th>\n",
              "      <td>Санкт-Петербург</td>\n",
              "      <td>31.161290</td>\n",
              "    </tr>\n",
              "    <tr>\n",
              "      <th>54</th>\n",
              "      <td>Новосибирск</td>\n",
              "      <td>17.322581</td>\n",
              "    </tr>\n",
              "    <tr>\n",
              "      <th>33</th>\n",
              "      <td>Красноярск</td>\n",
              "      <td>11.580645</td>\n",
              "    </tr>\n",
              "    <tr>\n",
              "      <th>20</th>\n",
              "      <td>Екатеринбург</td>\n",
              "      <td>11.322581</td>\n",
              "    </tr>\n",
              "    <tr>\n",
              "      <th>67</th>\n",
              "      <td>Ростов-на-Дону</td>\n",
              "      <td>10.193548</td>\n",
              "    </tr>\n",
              "    <tr>\n",
              "      <th>63</th>\n",
              "      <td>Пермь</td>\n",
              "      <td>10.129032</td>\n",
              "    </tr>\n",
              "    <tr>\n",
              "      <th>10</th>\n",
              "      <td>Брянск</td>\n",
              "      <td>10.000000</td>\n",
              "    </tr>\n",
              "    <tr>\n",
              "      <th>74</th>\n",
              "      <td>Сочи</td>\n",
              "      <td>9.612903</td>\n",
              "    </tr>\n",
              "    <tr>\n",
              "      <th>84</th>\n",
              "      <td>Ульяновск</td>\n",
              "      <td>9.580645</td>\n",
              "    </tr>\n",
              "  </tbody>\n",
              "</table>\n",
              "</div>"
            ],
            "text/plain": [
              "               city  average_flights\n",
              "43           Москва       129.774194\n",
              "70  Санкт-Петербург        31.161290\n",
              "54      Новосибирск        17.322581\n",
              "33       Красноярск        11.580645\n",
              "20     Екатеринбург        11.322581\n",
              "67   Ростов-на-Дону        10.193548\n",
              "63            Пермь        10.129032\n",
              "10           Брянск        10.000000\n",
              "74             Сочи         9.612903\n",
              "84        Ульяновск         9.580645"
            ]
          },
          "metadata": {
            "tags": []
          },
          "execution_count": 28
        }
      ]
    },
    {
      "cell_type": "code",
      "metadata": {
        "colab": {
          "base_uri": "https://localhost:8080/",
          "height": 542
        },
        "id": "qHd6gc_r0VRo",
        "outputId": "531a1407-5ed7-4968-e56a-2816fc4e6fb1"
      },
      "source": [
        "# Top-10 bar.\n",
        "fig = px.bar(cities.sort_values('average_flights', ascending=False).head(10),\n",
        "             x=\"city\",\n",
        "             y=\"average_flights\",\n",
        "             color=\"city\",\n",
        "             color_discrete_sequence=px.colors.sequential.Inferno_r,\n",
        "             title=\"Топ-10 самых популярных пунктов назначения\")\n",
        "fig.show()"
      ],
      "execution_count": null,
      "outputs": [
        {
          "output_type": "display_data",
          "data": {
            "text/html": [
              "<html>\n",
              "<head><meta charset=\"utf-8\" /></head>\n",
              "<body>\n",
              "    <div>\n",
              "            <script src=\"https://cdnjs.cloudflare.com/ajax/libs/mathjax/2.7.5/MathJax.js?config=TeX-AMS-MML_SVG\"></script><script type=\"text/javascript\">if (window.MathJax) {MathJax.Hub.Config({SVG: {font: \"STIX-Web\"}});}</script>\n",
              "                <script type=\"text/javascript\">window.PlotlyConfig = {MathJaxConfig: 'local'};</script>\n",
              "        <script src=\"https://cdn.plot.ly/plotly-latest.min.js\"></script>    \n",
              "            <div id=\"f05e1204-b12f-4bdd-b4f9-361aca8be506\" class=\"plotly-graph-div\" style=\"height:525px; width:100%;\"></div>\n",
              "            <script type=\"text/javascript\">\n",
              "                \n",
              "                    window.PLOTLYENV=window.PLOTLYENV || {};\n",
              "                    \n",
              "                if (document.getElementById(\"f05e1204-b12f-4bdd-b4f9-361aca8be506\")) {\n",
              "                    Plotly.newPlot(\n",
              "                        'f05e1204-b12f-4bdd-b4f9-361aca8be506',\n",
              "                        [{\"alignmentgroup\": \"True\", \"hoverlabel\": {\"namelength\": 0}, \"hovertemplate\": \"city=%{x}<br>average_flights=%{y}\", \"legendgroup\": \"city=\\u041c\\u043e\\u0441\\u043a\\u0432\\u0430\", \"marker\": {\"color\": \"#fcffa4\"}, \"name\": \"city=\\u041c\\u043e\\u0441\\u043a\\u0432\\u0430\", \"offsetgroup\": \"city=\\u041c\\u043e\\u0441\\u043a\\u0432\\u0430\", \"orientation\": \"v\", \"showlegend\": true, \"textposition\": \"auto\", \"type\": \"bar\", \"x\": [\"\\u041c\\u043e\\u0441\\u043a\\u0432\\u0430\"], \"xaxis\": \"x\", \"y\": [129.77419354838707], \"yaxis\": \"y\"}, {\"alignmentgroup\": \"True\", \"hoverlabel\": {\"namelength\": 0}, \"hovertemplate\": \"city=%{x}<br>average_flights=%{y}\", \"legendgroup\": \"city=\\u0421\\u0430\\u043d\\u043a\\u0442-\\u041f\\u0435\\u0442\\u0435\\u0440\\u0431\\u0443\\u0440\\u0433\", \"marker\": {\"color\": \"#f7d13d\"}, \"name\": \"city=\\u0421\\u0430\\u043d\\u043a\\u0442-\\u041f\\u0435\\u0442\\u0435\\u0440\\u0431\\u0443\\u0440\\u0433\", \"offsetgroup\": \"city=\\u0421\\u0430\\u043d\\u043a\\u0442-\\u041f\\u0435\\u0442\\u0435\\u0440\\u0431\\u0443\\u0440\\u0433\", \"orientation\": \"v\", \"showlegend\": true, \"textposition\": \"auto\", \"type\": \"bar\", \"x\": [\"\\u0421\\u0430\\u043d\\u043a\\u0442-\\u041f\\u0435\\u0442\\u0435\\u0440\\u0431\\u0443\\u0440\\u0433\"], \"xaxis\": \"x\", \"y\": [31.161290322580648], \"yaxis\": \"y\"}, {\"alignmentgroup\": \"True\", \"hoverlabel\": {\"namelength\": 0}, \"hovertemplate\": \"city=%{x}<br>average_flights=%{y}\", \"legendgroup\": \"city=\\u041d\\u043e\\u0432\\u043e\\u0441\\u0438\\u0431\\u0438\\u0440\\u0441\\u043a\", \"marker\": {\"color\": \"#fb9b06\"}, \"name\": \"city=\\u041d\\u043e\\u0432\\u043e\\u0441\\u0438\\u0431\\u0438\\u0440\\u0441\\u043a\", \"offsetgroup\": \"city=\\u041d\\u043e\\u0432\\u043e\\u0441\\u0438\\u0431\\u0438\\u0440\\u0441\\u043a\", \"orientation\": \"v\", \"showlegend\": true, \"textposition\": \"auto\", \"type\": \"bar\", \"x\": [\"\\u041d\\u043e\\u0432\\u043e\\u0441\\u0438\\u0431\\u0438\\u0440\\u0441\\u043a\"], \"xaxis\": \"x\", \"y\": [17.32258064516129], \"yaxis\": \"y\"}, {\"alignmentgroup\": \"True\", \"hoverlabel\": {\"namelength\": 0}, \"hovertemplate\": \"city=%{x}<br>average_flights=%{y}\", \"legendgroup\": \"city=\\u041a\\u0440\\u0430\\u0441\\u043d\\u043e\\u044f\\u0440\\u0441\\u043a\", \"marker\": {\"color\": \"#ed6925\"}, \"name\": \"city=\\u041a\\u0440\\u0430\\u0441\\u043d\\u043e\\u044f\\u0440\\u0441\\u043a\", \"offsetgroup\": \"city=\\u041a\\u0440\\u0430\\u0441\\u043d\\u043e\\u044f\\u0440\\u0441\\u043a\", \"orientation\": \"v\", \"showlegend\": true, \"textposition\": \"auto\", \"type\": \"bar\", \"x\": [\"\\u041a\\u0440\\u0430\\u0441\\u043d\\u043e\\u044f\\u0440\\u0441\\u043a\"], \"xaxis\": \"x\", \"y\": [11.580645161290322], \"yaxis\": \"y\"}, {\"alignmentgroup\": \"True\", \"hoverlabel\": {\"namelength\": 0}, \"hovertemplate\": \"city=%{x}<br>average_flights=%{y}\", \"legendgroup\": \"city=\\u0415\\u043a\\u0430\\u0442\\u0435\\u0440\\u0438\\u043d\\u0431\\u0443\\u0440\\u0433\", \"marker\": {\"color\": \"#cf4446\"}, \"name\": \"city=\\u0415\\u043a\\u0430\\u0442\\u0435\\u0440\\u0438\\u043d\\u0431\\u0443\\u0440\\u0433\", \"offsetgroup\": \"city=\\u0415\\u043a\\u0430\\u0442\\u0435\\u0440\\u0438\\u043d\\u0431\\u0443\\u0440\\u0433\", \"orientation\": \"v\", \"showlegend\": true, \"textposition\": \"auto\", \"type\": \"bar\", \"x\": [\"\\u0415\\u043a\\u0430\\u0442\\u0435\\u0440\\u0438\\u043d\\u0431\\u0443\\u0440\\u0433\"], \"xaxis\": \"x\", \"y\": [11.32258064516129], \"yaxis\": \"y\"}, {\"alignmentgroup\": \"True\", \"hoverlabel\": {\"namelength\": 0}, \"hovertemplate\": \"city=%{x}<br>average_flights=%{y}\", \"legendgroup\": \"city=\\u0420\\u043e\\u0441\\u0442\\u043e\\u0432-\\u043d\\u0430-\\u0414\\u043e\\u043d\\u0443\", \"marker\": {\"color\": \"#a52c60\"}, \"name\": \"city=\\u0420\\u043e\\u0441\\u0442\\u043e\\u0432-\\u043d\\u0430-\\u0414\\u043e\\u043d\\u0443\", \"offsetgroup\": \"city=\\u0420\\u043e\\u0441\\u0442\\u043e\\u0432-\\u043d\\u0430-\\u0414\\u043e\\u043d\\u0443\", \"orientation\": \"v\", \"showlegend\": true, \"textposition\": \"auto\", \"type\": \"bar\", \"x\": [\"\\u0420\\u043e\\u0441\\u0442\\u043e\\u0432-\\u043d\\u0430-\\u0414\\u043e\\u043d\\u0443\"], \"xaxis\": \"x\", \"y\": [10.193548387096774], \"yaxis\": \"y\"}, {\"alignmentgroup\": \"True\", \"hoverlabel\": {\"namelength\": 0}, \"hovertemplate\": \"city=%{x}<br>average_flights=%{y}\", \"legendgroup\": \"city=\\u041f\\u0435\\u0440\\u043c\\u044c\", \"marker\": {\"color\": \"#781c6d\"}, \"name\": \"city=\\u041f\\u0435\\u0440\\u043c\\u044c\", \"offsetgroup\": \"city=\\u041f\\u0435\\u0440\\u043c\\u044c\", \"orientation\": \"v\", \"showlegend\": true, \"textposition\": \"auto\", \"type\": \"bar\", \"x\": [\"\\u041f\\u0435\\u0440\\u043c\\u044c\"], \"xaxis\": \"x\", \"y\": [10.129032258064516], \"yaxis\": \"y\"}, {\"alignmentgroup\": \"True\", \"hoverlabel\": {\"namelength\": 0}, \"hovertemplate\": \"city=%{x}<br>average_flights=%{y}\", \"legendgroup\": \"city=\\u0411\\u0440\\u044f\\u043d\\u0441\\u043a\", \"marker\": {\"color\": \"#4a0c6b\"}, \"name\": \"city=\\u0411\\u0440\\u044f\\u043d\\u0441\\u043a\", \"offsetgroup\": \"city=\\u0411\\u0440\\u044f\\u043d\\u0441\\u043a\", \"orientation\": \"v\", \"showlegend\": true, \"textposition\": \"auto\", \"type\": \"bar\", \"x\": [\"\\u0411\\u0440\\u044f\\u043d\\u0441\\u043a\"], \"xaxis\": \"x\", \"y\": [10.0], \"yaxis\": \"y\"}, {\"alignmentgroup\": \"True\", \"hoverlabel\": {\"namelength\": 0}, \"hovertemplate\": \"city=%{x}<br>average_flights=%{y}\", \"legendgroup\": \"city=\\u0421\\u043e\\u0447\\u0438\", \"marker\": {\"color\": \"#1b0c41\"}, \"name\": \"city=\\u0421\\u043e\\u0447\\u0438\", \"offsetgroup\": \"city=\\u0421\\u043e\\u0447\\u0438\", \"orientation\": \"v\", \"showlegend\": true, \"textposition\": \"auto\", \"type\": \"bar\", \"x\": [\"\\u0421\\u043e\\u0447\\u0438\"], \"xaxis\": \"x\", \"y\": [9.612903225806452], \"yaxis\": \"y\"}, {\"alignmentgroup\": \"True\", \"hoverlabel\": {\"namelength\": 0}, \"hovertemplate\": \"city=%{x}<br>average_flights=%{y}\", \"legendgroup\": \"city=\\u0423\\u043b\\u044c\\u044f\\u043d\\u043e\\u0432\\u0441\\u043a\", \"marker\": {\"color\": \"#000004\"}, \"name\": \"city=\\u0423\\u043b\\u044c\\u044f\\u043d\\u043e\\u0432\\u0441\\u043a\", \"offsetgroup\": \"city=\\u0423\\u043b\\u044c\\u044f\\u043d\\u043e\\u0432\\u0441\\u043a\", \"orientation\": \"v\", \"showlegend\": true, \"textposition\": \"auto\", \"type\": \"bar\", \"x\": [\"\\u0423\\u043b\\u044c\\u044f\\u043d\\u043e\\u0432\\u0441\\u043a\"], \"xaxis\": \"x\", \"y\": [9.580645161290322], \"yaxis\": \"y\"}],\n",
              "                        {\"barmode\": \"relative\", \"legend\": {\"tracegroupgap\": 0}, \"template\": {\"data\": {\"bar\": [{\"error_x\": {\"color\": \"#2a3f5f\"}, \"error_y\": {\"color\": \"#2a3f5f\"}, \"marker\": {\"line\": {\"color\": \"#E5ECF6\", \"width\": 0.5}}, \"type\": \"bar\"}], \"barpolar\": [{\"marker\": {\"line\": {\"color\": \"#E5ECF6\", \"width\": 0.5}}, \"type\": \"barpolar\"}], \"carpet\": [{\"aaxis\": {\"endlinecolor\": \"#2a3f5f\", \"gridcolor\": \"white\", \"linecolor\": \"white\", \"minorgridcolor\": \"white\", \"startlinecolor\": \"#2a3f5f\"}, \"baxis\": {\"endlinecolor\": \"#2a3f5f\", \"gridcolor\": \"white\", \"linecolor\": \"white\", \"minorgridcolor\": \"white\", \"startlinecolor\": \"#2a3f5f\"}, \"type\": \"carpet\"}], \"choropleth\": [{\"colorbar\": {\"outlinewidth\": 0, \"ticks\": \"\"}, \"type\": \"choropleth\"}], \"contour\": [{\"colorbar\": {\"outlinewidth\": 0, \"ticks\": \"\"}, \"colorscale\": [[0.0, \"#0d0887\"], [0.1111111111111111, \"#46039f\"], [0.2222222222222222, \"#7201a8\"], [0.3333333333333333, \"#9c179e\"], [0.4444444444444444, \"#bd3786\"], [0.5555555555555556, \"#d8576b\"], [0.6666666666666666, \"#ed7953\"], [0.7777777777777778, \"#fb9f3a\"], [0.8888888888888888, \"#fdca26\"], [1.0, \"#f0f921\"]], \"type\": \"contour\"}], \"contourcarpet\": [{\"colorbar\": {\"outlinewidth\": 0, \"ticks\": \"\"}, \"type\": \"contourcarpet\"}], \"heatmap\": [{\"colorbar\": {\"outlinewidth\": 0, \"ticks\": \"\"}, \"colorscale\": [[0.0, \"#0d0887\"], [0.1111111111111111, \"#46039f\"], [0.2222222222222222, \"#7201a8\"], [0.3333333333333333, \"#9c179e\"], [0.4444444444444444, \"#bd3786\"], [0.5555555555555556, \"#d8576b\"], [0.6666666666666666, \"#ed7953\"], [0.7777777777777778, \"#fb9f3a\"], [0.8888888888888888, \"#fdca26\"], [1.0, \"#f0f921\"]], \"type\": \"heatmap\"}], \"heatmapgl\": [{\"colorbar\": {\"outlinewidth\": 0, \"ticks\": \"\"}, \"colorscale\": [[0.0, \"#0d0887\"], [0.1111111111111111, \"#46039f\"], [0.2222222222222222, \"#7201a8\"], [0.3333333333333333, \"#9c179e\"], [0.4444444444444444, \"#bd3786\"], [0.5555555555555556, \"#d8576b\"], [0.6666666666666666, \"#ed7953\"], [0.7777777777777778, \"#fb9f3a\"], [0.8888888888888888, \"#fdca26\"], [1.0, \"#f0f921\"]], \"type\": \"heatmapgl\"}], \"histogram\": [{\"marker\": {\"colorbar\": {\"outlinewidth\": 0, \"ticks\": \"\"}}, \"type\": \"histogram\"}], \"histogram2d\": [{\"colorbar\": {\"outlinewidth\": 0, \"ticks\": \"\"}, \"colorscale\": [[0.0, \"#0d0887\"], [0.1111111111111111, \"#46039f\"], [0.2222222222222222, \"#7201a8\"], [0.3333333333333333, \"#9c179e\"], [0.4444444444444444, \"#bd3786\"], [0.5555555555555556, \"#d8576b\"], [0.6666666666666666, \"#ed7953\"], [0.7777777777777778, \"#fb9f3a\"], [0.8888888888888888, \"#fdca26\"], [1.0, \"#f0f921\"]], \"type\": \"histogram2d\"}], \"histogram2dcontour\": [{\"colorbar\": {\"outlinewidth\": 0, \"ticks\": \"\"}, \"colorscale\": [[0.0, \"#0d0887\"], [0.1111111111111111, \"#46039f\"], [0.2222222222222222, \"#7201a8\"], [0.3333333333333333, \"#9c179e\"], [0.4444444444444444, \"#bd3786\"], [0.5555555555555556, \"#d8576b\"], [0.6666666666666666, \"#ed7953\"], [0.7777777777777778, \"#fb9f3a\"], [0.8888888888888888, \"#fdca26\"], [1.0, \"#f0f921\"]], \"type\": \"histogram2dcontour\"}], \"mesh3d\": [{\"colorbar\": {\"outlinewidth\": 0, \"ticks\": \"\"}, \"type\": \"mesh3d\"}], \"parcoords\": [{\"line\": {\"colorbar\": {\"outlinewidth\": 0, \"ticks\": \"\"}}, \"type\": \"parcoords\"}], \"pie\": [{\"automargin\": true, \"type\": \"pie\"}], \"scatter\": [{\"marker\": {\"colorbar\": {\"outlinewidth\": 0, \"ticks\": \"\"}}, \"type\": \"scatter\"}], \"scatter3d\": [{\"line\": {\"colorbar\": {\"outlinewidth\": 0, \"ticks\": \"\"}}, \"marker\": {\"colorbar\": {\"outlinewidth\": 0, \"ticks\": \"\"}}, \"type\": \"scatter3d\"}], \"scattercarpet\": [{\"marker\": {\"colorbar\": {\"outlinewidth\": 0, \"ticks\": \"\"}}, \"type\": \"scattercarpet\"}], \"scattergeo\": [{\"marker\": {\"colorbar\": {\"outlinewidth\": 0, \"ticks\": \"\"}}, \"type\": \"scattergeo\"}], \"scattergl\": [{\"marker\": {\"colorbar\": {\"outlinewidth\": 0, \"ticks\": \"\"}}, \"type\": \"scattergl\"}], \"scattermapbox\": [{\"marker\": {\"colorbar\": {\"outlinewidth\": 0, \"ticks\": \"\"}}, \"type\": \"scattermapbox\"}], \"scatterpolar\": [{\"marker\": {\"colorbar\": {\"outlinewidth\": 0, \"ticks\": \"\"}}, \"type\": \"scatterpolar\"}], \"scatterpolargl\": [{\"marker\": {\"colorbar\": {\"outlinewidth\": 0, \"ticks\": \"\"}}, \"type\": \"scatterpolargl\"}], \"scatterternary\": [{\"marker\": {\"colorbar\": {\"outlinewidth\": 0, \"ticks\": \"\"}}, \"type\": \"scatterternary\"}], \"surface\": [{\"colorbar\": {\"outlinewidth\": 0, \"ticks\": \"\"}, \"colorscale\": [[0.0, \"#0d0887\"], [0.1111111111111111, \"#46039f\"], [0.2222222222222222, \"#7201a8\"], [0.3333333333333333, \"#9c179e\"], [0.4444444444444444, \"#bd3786\"], [0.5555555555555556, \"#d8576b\"], [0.6666666666666666, \"#ed7953\"], [0.7777777777777778, \"#fb9f3a\"], [0.8888888888888888, \"#fdca26\"], [1.0, \"#f0f921\"]], \"type\": \"surface\"}], \"table\": [{\"cells\": {\"fill\": {\"color\": \"#EBF0F8\"}, \"line\": {\"color\": \"white\"}}, \"header\": {\"fill\": {\"color\": \"#C8D4E3\"}, \"line\": {\"color\": \"white\"}}, \"type\": \"table\"}]}, \"layout\": {\"annotationdefaults\": {\"arrowcolor\": \"#2a3f5f\", \"arrowhead\": 0, \"arrowwidth\": 1}, \"coloraxis\": {\"colorbar\": {\"outlinewidth\": 0, \"ticks\": \"\"}}, \"colorscale\": {\"diverging\": [[0, \"#8e0152\"], [0.1, \"#c51b7d\"], [0.2, \"#de77ae\"], [0.3, \"#f1b6da\"], [0.4, \"#fde0ef\"], [0.5, \"#f7f7f7\"], [0.6, \"#e6f5d0\"], [0.7, \"#b8e186\"], [0.8, \"#7fbc41\"], [0.9, \"#4d9221\"], [1, \"#276419\"]], \"sequential\": [[0.0, \"#0d0887\"], [0.1111111111111111, \"#46039f\"], [0.2222222222222222, \"#7201a8\"], [0.3333333333333333, \"#9c179e\"], [0.4444444444444444, \"#bd3786\"], [0.5555555555555556, \"#d8576b\"], [0.6666666666666666, \"#ed7953\"], [0.7777777777777778, \"#fb9f3a\"], [0.8888888888888888, \"#fdca26\"], [1.0, \"#f0f921\"]], \"sequentialminus\": [[0.0, \"#0d0887\"], [0.1111111111111111, \"#46039f\"], [0.2222222222222222, \"#7201a8\"], [0.3333333333333333, \"#9c179e\"], [0.4444444444444444, \"#bd3786\"], [0.5555555555555556, \"#d8576b\"], [0.6666666666666666, \"#ed7953\"], [0.7777777777777778, \"#fb9f3a\"], [0.8888888888888888, \"#fdca26\"], [1.0, \"#f0f921\"]]}, \"colorway\": [\"#636efa\", \"#EF553B\", \"#00cc96\", \"#ab63fa\", \"#FFA15A\", \"#19d3f3\", \"#FF6692\", \"#B6E880\", \"#FF97FF\", \"#FECB52\"], \"font\": {\"color\": \"#2a3f5f\"}, \"geo\": {\"bgcolor\": \"white\", \"lakecolor\": \"white\", \"landcolor\": \"#E5ECF6\", \"showlakes\": true, \"showland\": true, \"subunitcolor\": \"white\"}, \"hoverlabel\": {\"align\": \"left\"}, \"hovermode\": \"closest\", \"mapbox\": {\"style\": \"light\"}, \"paper_bgcolor\": \"white\", \"plot_bgcolor\": \"#E5ECF6\", \"polar\": {\"angularaxis\": {\"gridcolor\": \"white\", \"linecolor\": \"white\", \"ticks\": \"\"}, \"bgcolor\": \"#E5ECF6\", \"radialaxis\": {\"gridcolor\": \"white\", \"linecolor\": \"white\", \"ticks\": \"\"}}, \"scene\": {\"xaxis\": {\"backgroundcolor\": \"#E5ECF6\", \"gridcolor\": \"white\", \"gridwidth\": 2, \"linecolor\": \"white\", \"showbackground\": true, \"ticks\": \"\", \"zerolinecolor\": \"white\"}, \"yaxis\": {\"backgroundcolor\": \"#E5ECF6\", \"gridcolor\": \"white\", \"gridwidth\": 2, \"linecolor\": \"white\", \"showbackground\": true, \"ticks\": \"\", \"zerolinecolor\": \"white\"}, \"zaxis\": {\"backgroundcolor\": \"#E5ECF6\", \"gridcolor\": \"white\", \"gridwidth\": 2, \"linecolor\": \"white\", \"showbackground\": true, \"ticks\": \"\", \"zerolinecolor\": \"white\"}}, \"shapedefaults\": {\"line\": {\"color\": \"#2a3f5f\"}}, \"ternary\": {\"aaxis\": {\"gridcolor\": \"white\", \"linecolor\": \"white\", \"ticks\": \"\"}, \"baxis\": {\"gridcolor\": \"white\", \"linecolor\": \"white\", \"ticks\": \"\"}, \"bgcolor\": \"#E5ECF6\", \"caxis\": {\"gridcolor\": \"white\", \"linecolor\": \"white\", \"ticks\": \"\"}}, \"title\": {\"x\": 0.05}, \"xaxis\": {\"automargin\": true, \"gridcolor\": \"white\", \"linecolor\": \"white\", \"ticks\": \"\", \"title\": {\"standoff\": 15}, \"zerolinecolor\": \"white\", \"zerolinewidth\": 2}, \"yaxis\": {\"automargin\": true, \"gridcolor\": \"white\", \"linecolor\": \"white\", \"ticks\": \"\", \"title\": {\"standoff\": 15}, \"zerolinecolor\": \"white\", \"zerolinewidth\": 2}}}, \"title\": {\"text\": \"\\u0422\\u043e\\u043f-10 \\u0441\\u0430\\u043c\\u044b\\u0445 \\u043f\\u043e\\u043f\\u0443\\u043b\\u044f\\u0440\\u043d\\u044b\\u0445 \\u043f\\u0443\\u043d\\u043a\\u0442\\u043e\\u0432 \\u043d\\u0430\\u0437\\u043d\\u0430\\u0447\\u0435\\u043d\\u0438\\u044f\"}, \"xaxis\": {\"anchor\": \"y\", \"categoryarray\": [\"\\u041c\\u043e\\u0441\\u043a\\u0432\\u0430\", \"\\u0421\\u0430\\u043d\\u043a\\u0442-\\u041f\\u0435\\u0442\\u0435\\u0440\\u0431\\u0443\\u0440\\u0433\", \"\\u041d\\u043e\\u0432\\u043e\\u0441\\u0438\\u0431\\u0438\\u0440\\u0441\\u043a\", \"\\u041a\\u0440\\u0430\\u0441\\u043d\\u043e\\u044f\\u0440\\u0441\\u043a\", \"\\u0415\\u043a\\u0430\\u0442\\u0435\\u0440\\u0438\\u043d\\u0431\\u0443\\u0440\\u0433\", \"\\u0420\\u043e\\u0441\\u0442\\u043e\\u0432-\\u043d\\u0430-\\u0414\\u043e\\u043d\\u0443\", \"\\u041f\\u0435\\u0440\\u043c\\u044c\", \"\\u0411\\u0440\\u044f\\u043d\\u0441\\u043a\", \"\\u0421\\u043e\\u0447\\u0438\", \"\\u0423\\u043b\\u044c\\u044f\\u043d\\u043e\\u0432\\u0441\\u043a\"], \"categoryorder\": \"array\", \"domain\": [0.0, 1.0], \"title\": {\"text\": \"city\"}}, \"yaxis\": {\"anchor\": \"x\", \"domain\": [0.0, 1.0], \"title\": {\"text\": \"average_flights\"}}},\n",
              "                        {\"responsive\": true}\n",
              "                    ).then(function(){\n",
              "                            \n",
              "var gd = document.getElementById('f05e1204-b12f-4bdd-b4f9-361aca8be506');\n",
              "var x = new MutationObserver(function (mutations, observer) {{\n",
              "        var display = window.getComputedStyle(gd).display;\n",
              "        if (!display || display === 'none') {{\n",
              "            console.log([gd, 'removed!']);\n",
              "            Plotly.purge(gd);\n",
              "            observer.disconnect();\n",
              "        }}\n",
              "}});\n",
              "\n",
              "// Listen for the removal of the full notebook cells\n",
              "var notebookContainer = gd.closest('#notebook-container');\n",
              "if (notebookContainer) {{\n",
              "    x.observe(notebookContainer, {childList: true});\n",
              "}}\n",
              "\n",
              "// Listen for the clearing of the current output cell\n",
              "var outputEl = gd.closest('.output');\n",
              "if (outputEl) {{\n",
              "    x.observe(outputEl, {childList: true});\n",
              "}}\n",
              "\n",
              "                        })\n",
              "                };\n",
              "                \n",
              "            </script>\n",
              "        </div>\n",
              "</body>\n",
              "</html>"
            ]
          },
          "metadata": {
            "tags": []
          }
        }
      ]
    },
    {
      "cell_type": "code",
      "metadata": {
        "colab": {
          "base_uri": "https://localhost:8080/",
          "height": 542
        },
        "id": "2htd8ayX09iK",
        "outputId": "fd2dd94d-571f-45a1-ef93-d40e4244a137"
      },
      "source": [
        "# Common bar.\n",
        "fig = px.bar(cities.sort_values('average_flights', ascending=False),\n",
        "             x=\"city\",\n",
        "             y=\"average_flights\",\n",
        "             color=\"city\",\n",
        "             color_discrete_sequence=px.colors.sequential.Inferno_r,\n",
        "             title=\"График популярности различных пунктов назначения\")\n",
        "fig.show()"
      ],
      "execution_count": null,
      "outputs": [
        {
          "output_type": "display_data",
          "data": {
            "text/html": [
              "<html>\n",
              "<head><meta charset=\"utf-8\" /></head>\n",
              "<body>\n",
              "    <div>\n",
              "            <script src=\"https://cdnjs.cloudflare.com/ajax/libs/mathjax/2.7.5/MathJax.js?config=TeX-AMS-MML_SVG\"></script><script type=\"text/javascript\">if (window.MathJax) {MathJax.Hub.Config({SVG: {font: \"STIX-Web\"}});}</script>\n",
              "                <script type=\"text/javascript\">window.PlotlyConfig = {MathJaxConfig: 'local'};</script>\n",
              "        <script src=\"https://cdn.plot.ly/plotly-latest.min.js\"></script>    \n",
              "            <div id=\"44108ed7-e33c-4d38-acaf-13196463dc18\" class=\"plotly-graph-div\" style=\"height:525px; width:100%;\"></div>\n",
              "            <script type=\"text/javascript\">\n",
              "                \n",
              "                    window.PLOTLYENV=window.PLOTLYENV || {};\n",
              "                    \n",
              "                if (document.getElementById(\"44108ed7-e33c-4d38-acaf-13196463dc18\")) {\n",
              "                    Plotly.newPlot(\n",
              "                        '44108ed7-e33c-4d38-acaf-13196463dc18',\n",
              "                        [{\"alignmentgroup\": \"True\", \"hoverlabel\": {\"namelength\": 0}, \"hovertemplate\": \"city=%{x}<br>average_flights=%{y}\", \"legendgroup\": \"city=\\u041c\\u043e\\u0441\\u043a\\u0432\\u0430\", \"marker\": {\"color\": \"#fcffa4\"}, \"name\": \"city=\\u041c\\u043e\\u0441\\u043a\\u0432\\u0430\", \"offsetgroup\": \"city=\\u041c\\u043e\\u0441\\u043a\\u0432\\u0430\", \"orientation\": \"v\", \"showlegend\": true, \"textposition\": \"auto\", \"type\": \"bar\", \"x\": [\"\\u041c\\u043e\\u0441\\u043a\\u0432\\u0430\"], \"xaxis\": \"x\", \"y\": [129.77419354838707], \"yaxis\": \"y\"}, {\"alignmentgroup\": \"True\", \"hoverlabel\": {\"namelength\": 0}, \"hovertemplate\": \"city=%{x}<br>average_flights=%{y}\", \"legendgroup\": \"city=\\u0421\\u0430\\u043d\\u043a\\u0442-\\u041f\\u0435\\u0442\\u0435\\u0440\\u0431\\u0443\\u0440\\u0433\", \"marker\": {\"color\": \"#f7d13d\"}, \"name\": \"city=\\u0421\\u0430\\u043d\\u043a\\u0442-\\u041f\\u0435\\u0442\\u0435\\u0440\\u0431\\u0443\\u0440\\u0433\", \"offsetgroup\": \"city=\\u0421\\u0430\\u043d\\u043a\\u0442-\\u041f\\u0435\\u0442\\u0435\\u0440\\u0431\\u0443\\u0440\\u0433\", \"orientation\": \"v\", \"showlegend\": true, \"textposition\": \"auto\", \"type\": \"bar\", \"x\": [\"\\u0421\\u0430\\u043d\\u043a\\u0442-\\u041f\\u0435\\u0442\\u0435\\u0440\\u0431\\u0443\\u0440\\u0433\"], \"xaxis\": \"x\", \"y\": [31.161290322580648], \"yaxis\": \"y\"}, {\"alignmentgroup\": \"True\", \"hoverlabel\": {\"namelength\": 0}, \"hovertemplate\": \"city=%{x}<br>average_flights=%{y}\", \"legendgroup\": \"city=\\u041d\\u043e\\u0432\\u043e\\u0441\\u0438\\u0431\\u0438\\u0440\\u0441\\u043a\", \"marker\": {\"color\": \"#fb9b06\"}, \"name\": \"city=\\u041d\\u043e\\u0432\\u043e\\u0441\\u0438\\u0431\\u0438\\u0440\\u0441\\u043a\", \"offsetgroup\": \"city=\\u041d\\u043e\\u0432\\u043e\\u0441\\u0438\\u0431\\u0438\\u0440\\u0441\\u043a\", \"orientation\": \"v\", \"showlegend\": true, \"textposition\": \"auto\", \"type\": \"bar\", \"x\": [\"\\u041d\\u043e\\u0432\\u043e\\u0441\\u0438\\u0431\\u0438\\u0440\\u0441\\u043a\"], \"xaxis\": \"x\", \"y\": [17.32258064516129], \"yaxis\": \"y\"}, {\"alignmentgroup\": \"True\", \"hoverlabel\": {\"namelength\": 0}, \"hovertemplate\": \"city=%{x}<br>average_flights=%{y}\", \"legendgroup\": \"city=\\u041a\\u0440\\u0430\\u0441\\u043d\\u043e\\u044f\\u0440\\u0441\\u043a\", \"marker\": {\"color\": \"#ed6925\"}, \"name\": \"city=\\u041a\\u0440\\u0430\\u0441\\u043d\\u043e\\u044f\\u0440\\u0441\\u043a\", \"offsetgroup\": \"city=\\u041a\\u0440\\u0430\\u0441\\u043d\\u043e\\u044f\\u0440\\u0441\\u043a\", \"orientation\": \"v\", \"showlegend\": true, \"textposition\": \"auto\", \"type\": \"bar\", \"x\": [\"\\u041a\\u0440\\u0430\\u0441\\u043d\\u043e\\u044f\\u0440\\u0441\\u043a\"], \"xaxis\": \"x\", \"y\": [11.580645161290322], \"yaxis\": \"y\"}, {\"alignmentgroup\": \"True\", \"hoverlabel\": {\"namelength\": 0}, \"hovertemplate\": \"city=%{x}<br>average_flights=%{y}\", \"legendgroup\": \"city=\\u0415\\u043a\\u0430\\u0442\\u0435\\u0440\\u0438\\u043d\\u0431\\u0443\\u0440\\u0433\", \"marker\": {\"color\": \"#cf4446\"}, \"name\": \"city=\\u0415\\u043a\\u0430\\u0442\\u0435\\u0440\\u0438\\u043d\\u0431\\u0443\\u0440\\u0433\", \"offsetgroup\": \"city=\\u0415\\u043a\\u0430\\u0442\\u0435\\u0440\\u0438\\u043d\\u0431\\u0443\\u0440\\u0433\", \"orientation\": \"v\", \"showlegend\": true, \"textposition\": \"auto\", \"type\": \"bar\", \"x\": [\"\\u0415\\u043a\\u0430\\u0442\\u0435\\u0440\\u0438\\u043d\\u0431\\u0443\\u0440\\u0433\"], \"xaxis\": \"x\", \"y\": [11.32258064516129], \"yaxis\": \"y\"}, {\"alignmentgroup\": \"True\", \"hoverlabel\": {\"namelength\": 0}, \"hovertemplate\": \"city=%{x}<br>average_flights=%{y}\", \"legendgroup\": \"city=\\u0420\\u043e\\u0441\\u0442\\u043e\\u0432-\\u043d\\u0430-\\u0414\\u043e\\u043d\\u0443\", \"marker\": {\"color\": \"#a52c60\"}, \"name\": \"city=\\u0420\\u043e\\u0441\\u0442\\u043e\\u0432-\\u043d\\u0430-\\u0414\\u043e\\u043d\\u0443\", \"offsetgroup\": \"city=\\u0420\\u043e\\u0441\\u0442\\u043e\\u0432-\\u043d\\u0430-\\u0414\\u043e\\u043d\\u0443\", \"orientation\": \"v\", \"showlegend\": true, \"textposition\": \"auto\", \"type\": \"bar\", \"x\": [\"\\u0420\\u043e\\u0441\\u0442\\u043e\\u0432-\\u043d\\u0430-\\u0414\\u043e\\u043d\\u0443\"], \"xaxis\": \"x\", \"y\": [10.193548387096774], \"yaxis\": \"y\"}, {\"alignmentgroup\": \"True\", \"hoverlabel\": {\"namelength\": 0}, \"hovertemplate\": \"city=%{x}<br>average_flights=%{y}\", \"legendgroup\": \"city=\\u041f\\u0435\\u0440\\u043c\\u044c\", \"marker\": {\"color\": \"#781c6d\"}, \"name\": \"city=\\u041f\\u0435\\u0440\\u043c\\u044c\", \"offsetgroup\": \"city=\\u041f\\u0435\\u0440\\u043c\\u044c\", \"orientation\": \"v\", \"showlegend\": true, \"textposition\": \"auto\", \"type\": \"bar\", \"x\": [\"\\u041f\\u0435\\u0440\\u043c\\u044c\"], \"xaxis\": \"x\", \"y\": [10.129032258064516], \"yaxis\": \"y\"}, {\"alignmentgroup\": \"True\", \"hoverlabel\": {\"namelength\": 0}, \"hovertemplate\": \"city=%{x}<br>average_flights=%{y}\", \"legendgroup\": \"city=\\u0411\\u0440\\u044f\\u043d\\u0441\\u043a\", \"marker\": {\"color\": \"#4a0c6b\"}, \"name\": \"city=\\u0411\\u0440\\u044f\\u043d\\u0441\\u043a\", \"offsetgroup\": \"city=\\u0411\\u0440\\u044f\\u043d\\u0441\\u043a\", \"orientation\": \"v\", \"showlegend\": true, \"textposition\": \"auto\", \"type\": \"bar\", \"x\": [\"\\u0411\\u0440\\u044f\\u043d\\u0441\\u043a\"], \"xaxis\": \"x\", \"y\": [10.0], \"yaxis\": \"y\"}, {\"alignmentgroup\": \"True\", \"hoverlabel\": {\"namelength\": 0}, \"hovertemplate\": \"city=%{x}<br>average_flights=%{y}\", \"legendgroup\": \"city=\\u0421\\u043e\\u0447\\u0438\", \"marker\": {\"color\": \"#1b0c41\"}, \"name\": \"city=\\u0421\\u043e\\u0447\\u0438\", \"offsetgroup\": \"city=\\u0421\\u043e\\u0447\\u0438\", \"orientation\": \"v\", \"showlegend\": true, \"textposition\": \"auto\", \"type\": \"bar\", \"x\": [\"\\u0421\\u043e\\u0447\\u0438\"], \"xaxis\": \"x\", \"y\": [9.612903225806452], \"yaxis\": \"y\"}, {\"alignmentgroup\": \"True\", \"hoverlabel\": {\"namelength\": 0}, \"hovertemplate\": \"city=%{x}<br>average_flights=%{y}\", \"legendgroup\": \"city=\\u0423\\u043b\\u044c\\u044f\\u043d\\u043e\\u0432\\u0441\\u043a\", \"marker\": {\"color\": \"#000004\"}, \"name\": \"city=\\u0423\\u043b\\u044c\\u044f\\u043d\\u043e\\u0432\\u0441\\u043a\", \"offsetgroup\": \"city=\\u0423\\u043b\\u044c\\u044f\\u043d\\u043e\\u0432\\u0441\\u043a\", \"orientation\": \"v\", \"showlegend\": true, \"textposition\": \"auto\", \"type\": \"bar\", \"x\": [\"\\u0423\\u043b\\u044c\\u044f\\u043d\\u043e\\u0432\\u0441\\u043a\"], \"xaxis\": \"x\", \"y\": [9.580645161290322], \"yaxis\": \"y\"}, {\"alignmentgroup\": \"True\", \"hoverlabel\": {\"namelength\": 0}, \"hovertemplate\": \"city=%{x}<br>average_flights=%{y}\", \"legendgroup\": \"city=\\u0421\\u043e\\u0432\\u0435\\u0442\\u0441\\u043a\\u0438\\u0439\", \"marker\": {\"color\": \"#fcffa4\"}, \"name\": \"city=\\u0421\\u043e\\u0432\\u0435\\u0442\\u0441\\u043a\\u0438\\u0439\", \"offsetgroup\": \"city=\\u0421\\u043e\\u0432\\u0435\\u0442\\u0441\\u043a\\u0438\\u0439\", \"orientation\": \"v\", \"showlegend\": true, \"textposition\": \"auto\", \"type\": \"bar\", \"x\": [\"\\u0421\\u043e\\u0432\\u0435\\u0442\\u0441\\u043a\\u0438\\u0439\"], \"xaxis\": \"x\", \"y\": [9.0], \"yaxis\": \"y\"}, {\"alignmentgroup\": \"True\", \"hoverlabel\": {\"namelength\": 0}, \"hovertemplate\": \"city=%{x}<br>average_flights=%{y}\", \"legendgroup\": \"city=\\u0421\\u0443\\u0440\\u0433\\u0443\\u0442\", \"marker\": {\"color\": \"#f7d13d\"}, \"name\": \"city=\\u0421\\u0443\\u0440\\u0433\\u0443\\u0442\", \"offsetgroup\": \"city=\\u0421\\u0443\\u0440\\u0433\\u0443\\u0442\", \"orientation\": \"v\", \"showlegend\": true, \"textposition\": \"auto\", \"type\": \"bar\", \"x\": [\"\\u0421\\u0443\\u0440\\u0433\\u0443\\u0442\"], \"xaxis\": \"x\", \"y\": [8.741935483870966], \"yaxis\": \"y\"}, {\"alignmentgroup\": \"True\", \"hoverlabel\": {\"namelength\": 0}, \"hovertemplate\": \"city=%{x}<br>average_flights=%{y}\", \"legendgroup\": \"city=\\u0425\\u0430\\u043d\\u0442\\u044b-\\u041c\\u0430\\u043d\\u0441\\u0438\\u0439\\u0441\\u043a\", \"marker\": {\"color\": \"#fb9b06\"}, \"name\": \"city=\\u0425\\u0430\\u043d\\u0442\\u044b-\\u041c\\u0430\\u043d\\u0441\\u0438\\u0439\\u0441\\u043a\", \"offsetgroup\": \"city=\\u0425\\u0430\\u043d\\u0442\\u044b-\\u041c\\u0430\\u043d\\u0441\\u0438\\u0439\\u0441\\u043a\", \"orientation\": \"v\", \"showlegend\": true, \"textposition\": \"auto\", \"type\": \"bar\", \"x\": [\"\\u0425\\u0430\\u043d\\u0442\\u044b-\\u041c\\u0430\\u043d\\u0441\\u0438\\u0439\\u0441\\u043a\"], \"xaxis\": \"x\", \"y\": [8.419354838709676], \"yaxis\": \"y\"}, {\"alignmentgroup\": \"True\", \"hoverlabel\": {\"namelength\": 0}, \"hovertemplate\": \"city=%{x}<br>average_flights=%{y}\", \"legendgroup\": \"city=\\u041d\\u043e\\u0432\\u044b\\u0439 \\u0423\\u0440\\u0435\\u043d\\u0433\\u043e\\u0439\", \"marker\": {\"color\": \"#ed6925\"}, \"name\": \"city=\\u041d\\u043e\\u0432\\u044b\\u0439 \\u0423\\u0440\\u0435\\u043d\\u0433\\u043e\\u0439\", \"offsetgroup\": \"city=\\u041d\\u043e\\u0432\\u044b\\u0439 \\u0423\\u0440\\u0435\\u043d\\u0433\\u043e\\u0439\", \"orientation\": \"v\", \"showlegend\": true, \"textposition\": \"auto\", \"type\": \"bar\", \"x\": [\"\\u041d\\u043e\\u0432\\u044b\\u0439 \\u0423\\u0440\\u0435\\u043d\\u0433\\u043e\\u0439\"], \"xaxis\": \"x\", \"y\": [8.290322580645162], \"yaxis\": \"y\"}, {\"alignmentgroup\": \"True\", \"hoverlabel\": {\"namelength\": 0}, \"hovertemplate\": \"city=%{x}<br>average_flights=%{y}\", \"legendgroup\": \"city=\\u041a\\u0430\\u0437\\u0430\\u043d\\u044c\", \"marker\": {\"color\": \"#cf4446\"}, \"name\": \"city=\\u041a\\u0430\\u0437\\u0430\\u043d\\u044c\", \"offsetgroup\": \"city=\\u041a\\u0430\\u0437\\u0430\\u043d\\u044c\", \"orientation\": \"v\", \"showlegend\": true, \"textposition\": \"auto\", \"type\": \"bar\", \"x\": [\"\\u041a\\u0430\\u0437\\u0430\\u043d\\u044c\"], \"xaxis\": \"x\", \"y\": [7.741935483870966], \"yaxis\": \"y\"}, {\"alignmentgroup\": \"True\", \"hoverlabel\": {\"namelength\": 0}, \"hovertemplate\": \"city=%{x}<br>average_flights=%{y}\", \"legendgroup\": \"city=\\u0422\\u044e\\u043c\\u0435\\u043d\\u044c\", \"marker\": {\"color\": \"#a52c60\"}, \"name\": \"city=\\u0422\\u044e\\u043c\\u0435\\u043d\\u044c\", \"offsetgroup\": \"city=\\u0422\\u044e\\u043c\\u0435\\u043d\\u044c\", \"orientation\": \"v\", \"showlegend\": true, \"textposition\": \"auto\", \"type\": \"bar\", \"x\": [\"\\u0422\\u044e\\u043c\\u0435\\u043d\\u044c\"], \"xaxis\": \"x\", \"y\": [6.967741935483871], \"yaxis\": \"y\"}, {\"alignmentgroup\": \"True\", \"hoverlabel\": {\"namelength\": 0}, \"hovertemplate\": \"city=%{x}<br>average_flights=%{y}\", \"legendgroup\": \"city=\\u0427\\u0435\\u043b\\u044f\\u0431\\u0438\\u043d\\u0441\\u043a\", \"marker\": {\"color\": \"#781c6d\"}, \"name\": \"city=\\u0427\\u0435\\u043b\\u044f\\u0431\\u0438\\u043d\\u0441\\u043a\", \"offsetgroup\": \"city=\\u0427\\u0435\\u043b\\u044f\\u0431\\u0438\\u043d\\u0441\\u043a\", \"orientation\": \"v\", \"showlegend\": true, \"textposition\": \"auto\", \"type\": \"bar\", \"x\": [\"\\u0427\\u0435\\u043b\\u044f\\u0431\\u0438\\u043d\\u0441\\u043a\"], \"xaxis\": \"x\", \"y\": [6.709677419354839], \"yaxis\": \"y\"}, {\"alignmentgroup\": \"True\", \"hoverlabel\": {\"namelength\": 0}, \"hovertemplate\": \"city=%{x}<br>average_flights=%{y}\", \"legendgroup\": \"city=\\u0425\\u0430\\u0431\\u0430\\u0440\\u043e\\u0432\\u0441\\u043a\", \"marker\": {\"color\": \"#4a0c6b\"}, \"name\": \"city=\\u0425\\u0430\\u0431\\u0430\\u0440\\u043e\\u0432\\u0441\\u043a\", \"offsetgroup\": \"city=\\u0425\\u0430\\u0431\\u0430\\u0440\\u043e\\u0432\\u0441\\u043a\", \"orientation\": \"v\", \"showlegend\": true, \"textposition\": \"auto\", \"type\": \"bar\", \"x\": [\"\\u0425\\u0430\\u0431\\u0430\\u0440\\u043e\\u0432\\u0441\\u043a\"], \"xaxis\": \"x\", \"y\": [6.548387096774194], \"yaxis\": \"y\"}, {\"alignmentgroup\": \"True\", \"hoverlabel\": {\"namelength\": 0}, \"hovertemplate\": \"city=%{x}<br>average_flights=%{y}\", \"legendgroup\": \"city=\\u0423\\u0444\\u0430\", \"marker\": {\"color\": \"#1b0c41\"}, \"name\": \"city=\\u0423\\u0444\\u0430\", \"offsetgroup\": \"city=\\u0423\\u0444\\u0430\", \"orientation\": \"v\", \"showlegend\": true, \"textposition\": \"auto\", \"type\": \"bar\", \"x\": [\"\\u0423\\u0444\\u0430\"], \"xaxis\": \"x\", \"y\": [6.290322580645161], \"yaxis\": \"y\"}, {\"alignmentgroup\": \"True\", \"hoverlabel\": {\"namelength\": 0}, \"hovertemplate\": \"city=%{x}<br>average_flights=%{y}\", \"legendgroup\": \"city=\\u041c\\u0438\\u0440\\u043d\\u044b\\u0439\", \"marker\": {\"color\": \"#000004\"}, \"name\": \"city=\\u041c\\u0438\\u0440\\u043d\\u044b\\u0439\", \"offsetgroup\": \"city=\\u041c\\u0438\\u0440\\u043d\\u044b\\u0439\", \"orientation\": \"v\", \"showlegend\": true, \"textposition\": \"auto\", \"type\": \"bar\", \"x\": [\"\\u041c\\u0438\\u0440\\u043d\\u044b\\u0439\"], \"xaxis\": \"x\", \"y\": [6.290322580645161], \"yaxis\": \"y\"}, {\"alignmentgroup\": \"True\", \"hoverlabel\": {\"namelength\": 0}, \"hovertemplate\": \"city=%{x}<br>average_flights=%{y}\", \"legendgroup\": \"city=\\u041d\\u043e\\u0432\\u043e\\u043a\\u0443\\u0437\\u043d\\u0435\\u0446\\u043a\", \"marker\": {\"color\": \"#fcffa4\"}, \"name\": \"city=\\u041d\\u043e\\u0432\\u043e\\u043a\\u0443\\u0437\\u043d\\u0435\\u0446\\u043a\", \"offsetgroup\": \"city=\\u041d\\u043e\\u0432\\u043e\\u043a\\u0443\\u0437\\u043d\\u0435\\u0446\\u043a\", \"orientation\": \"v\", \"showlegend\": true, \"textposition\": \"auto\", \"type\": \"bar\", \"x\": [\"\\u041d\\u043e\\u0432\\u043e\\u043a\\u0443\\u0437\\u043d\\u0435\\u0446\\u043a\"], \"xaxis\": \"x\", \"y\": [6.032258064516129], \"yaxis\": \"y\"}, {\"alignmentgroup\": \"True\", \"hoverlabel\": {\"namelength\": 0}, \"hovertemplate\": \"city=%{x}<br>average_flights=%{y}\", \"legendgroup\": \"city=\\u0418\\u0440\\u043a\\u0443\\u0442\\u0441\\u043a\", \"marker\": {\"color\": \"#f7d13d\"}, \"name\": \"city=\\u0418\\u0440\\u043a\\u0443\\u0442\\u0441\\u043a\", \"offsetgroup\": \"city=\\u0418\\u0440\\u043a\\u0443\\u0442\\u0441\\u043a\", \"orientation\": \"v\", \"showlegend\": true, \"textposition\": \"auto\", \"type\": \"bar\", \"x\": [\"\\u0418\\u0440\\u043a\\u0443\\u0442\\u0441\\u043a\"], \"xaxis\": \"x\", \"y\": [6.032258064516129], \"yaxis\": \"y\"}, {\"alignmentgroup\": \"True\", \"hoverlabel\": {\"namelength\": 0}, \"hovertemplate\": \"city=%{x}<br>average_flights=%{y}\", \"legendgroup\": \"city=\\u0411\\u0435\\u043b\\u0433\\u043e\\u0440\\u043e\\u0434\", \"marker\": {\"color\": \"#fb9b06\"}, \"name\": \"city=\\u0411\\u0435\\u043b\\u0433\\u043e\\u0440\\u043e\\u0434\", \"offsetgroup\": \"city=\\u0411\\u0435\\u043b\\u0433\\u043e\\u0440\\u043e\\u0434\", \"orientation\": \"v\", \"showlegend\": true, \"textposition\": \"auto\", \"type\": \"bar\", \"x\": [\"\\u0411\\u0435\\u043b\\u0433\\u043e\\u0440\\u043e\\u0434\"], \"xaxis\": \"x\", \"y\": [6.0], \"yaxis\": \"y\"}, {\"alignmentgroup\": \"True\", \"hoverlabel\": {\"namelength\": 0}, \"hovertemplate\": \"city=%{x}<br>average_flights=%{y}\", \"legendgroup\": \"city=\\u041a\\u0438\\u0440\\u043e\\u0432\", \"marker\": {\"color\": \"#ed6925\"}, \"name\": \"city=\\u041a\\u0438\\u0440\\u043e\\u0432\", \"offsetgroup\": \"city=\\u041a\\u0438\\u0440\\u043e\\u0432\", \"orientation\": \"v\", \"showlegend\": true, \"textposition\": \"auto\", \"type\": \"bar\", \"x\": [\"\\u041a\\u0438\\u0440\\u043e\\u0432\"], \"xaxis\": \"x\", \"y\": [6.0], \"yaxis\": \"y\"}, {\"alignmentgroup\": \"True\", \"hoverlabel\": {\"namelength\": 0}, \"hovertemplate\": \"city=%{x}<br>average_flights=%{y}\", \"legendgroup\": \"city=\\u041d\\u0438\\u0436\\u043d\\u0438\\u0439 \\u041d\\u043e\\u0432\\u0433\\u043e\\u0440\\u043e\\u0434\", \"marker\": {\"color\": \"#cf4446\"}, \"name\": \"city=\\u041d\\u0438\\u0436\\u043d\\u0438\\u0439 \\u041d\\u043e\\u0432\\u0433\\u043e\\u0440\\u043e\\u0434\", \"offsetgroup\": \"city=\\u041d\\u0438\\u0436\\u043d\\u0438\\u0439 \\u041d\\u043e\\u0432\\u0433\\u043e\\u0440\\u043e\\u0434\", \"orientation\": \"v\", \"showlegend\": true, \"textposition\": \"auto\", \"type\": \"bar\", \"x\": [\"\\u041d\\u0438\\u0436\\u043d\\u0438\\u0439 \\u041d\\u043e\\u0432\\u0433\\u043e\\u0440\\u043e\\u0434\"], \"xaxis\": \"x\", \"y\": [5.870967741935484], \"yaxis\": \"y\"}, {\"alignmentgroup\": \"True\", \"hoverlabel\": {\"namelength\": 0}, \"hovertemplate\": \"city=%{x}<br>average_flights=%{y}\", \"legendgroup\": \"city=\\u041f\\u0435\\u0442\\u0440\\u043e\\u0437\\u0430\\u0432\\u043e\\u0434\\u0441\\u043a\", \"marker\": {\"color\": \"#a52c60\"}, \"name\": \"city=\\u041f\\u0435\\u0442\\u0440\\u043e\\u0437\\u0430\\u0432\\u043e\\u0434\\u0441\\u043a\", \"offsetgroup\": \"city=\\u041f\\u0435\\u0442\\u0440\\u043e\\u0437\\u0430\\u0432\\u043e\\u0434\\u0441\\u043a\", \"orientation\": \"v\", \"showlegend\": true, \"textposition\": \"auto\", \"type\": \"bar\", \"x\": [\"\\u041f\\u0435\\u0442\\u0440\\u043e\\u0437\\u0430\\u0432\\u043e\\u0434\\u0441\\u043a\"], \"xaxis\": \"x\", \"y\": [5.870967741935484], \"yaxis\": \"y\"}, {\"alignmentgroup\": \"True\", \"hoverlabel\": {\"namelength\": 0}, \"hovertemplate\": \"city=%{x}<br>average_flights=%{y}\", \"legendgroup\": \"city=\\u0410\\u0440\\u0445\\u0430\\u043d\\u0433\\u0435\\u043b\\u044c\\u0441\\u043a\", \"marker\": {\"color\": \"#781c6d\"}, \"name\": \"city=\\u0410\\u0440\\u0445\\u0430\\u043d\\u0433\\u0435\\u043b\\u044c\\u0441\\u043a\", \"offsetgroup\": \"city=\\u0410\\u0440\\u0445\\u0430\\u043d\\u0433\\u0435\\u043b\\u044c\\u0441\\u043a\", \"orientation\": \"v\", \"showlegend\": true, \"textposition\": \"auto\", \"type\": \"bar\", \"x\": [\"\\u0410\\u0440\\u0445\\u0430\\u043d\\u0433\\u0435\\u043b\\u044c\\u0441\\u043a\"], \"xaxis\": \"x\", \"y\": [5.354838709677419], \"yaxis\": \"y\"}, {\"alignmentgroup\": \"True\", \"hoverlabel\": {\"namelength\": 0}, \"hovertemplate\": \"city=%{x}<br>average_flights=%{y}\", \"legendgroup\": \"city=\\u0412\\u043e\\u043b\\u0433\\u043e\\u0433\\u0440\\u0430\\u0434\", \"marker\": {\"color\": \"#4a0c6b\"}, \"name\": \"city=\\u0412\\u043e\\u043b\\u0433\\u043e\\u0433\\u0440\\u0430\\u0434\", \"offsetgroup\": \"city=\\u0412\\u043e\\u043b\\u0433\\u043e\\u0433\\u0440\\u0430\\u0434\", \"orientation\": \"v\", \"showlegend\": true, \"textposition\": \"auto\", \"type\": \"bar\", \"x\": [\"\\u0412\\u043e\\u043b\\u0433\\u043e\\u0433\\u0440\\u0430\\u0434\"], \"xaxis\": \"x\", \"y\": [5.129032258064516], \"yaxis\": \"y\"}, {\"alignmentgroup\": \"True\", \"hoverlabel\": {\"namelength\": 0}, \"hovertemplate\": \"city=%{x}<br>average_flights=%{y}\", \"legendgroup\": \"city=\\u041e\\u0440\\u0435\\u043d\\u0431\\u0443\\u0440\\u0433\", \"marker\": {\"color\": \"#1b0c41\"}, \"name\": \"city=\\u041e\\u0440\\u0435\\u043d\\u0431\\u0443\\u0440\\u0433\", \"offsetgroup\": \"city=\\u041e\\u0440\\u0435\\u043d\\u0431\\u0443\\u0440\\u0433\", \"orientation\": \"v\", \"showlegend\": true, \"textposition\": \"auto\", \"type\": \"bar\", \"x\": [\"\\u041e\\u0440\\u0435\\u043d\\u0431\\u0443\\u0440\\u0433\"], \"xaxis\": \"x\", \"y\": [5.0], \"yaxis\": \"y\"}, {\"alignmentgroup\": \"True\", \"hoverlabel\": {\"namelength\": 0}, \"hovertemplate\": \"city=%{x}<br>average_flights=%{y}\", \"legendgroup\": \"city=\\u0427\\u0435\\u0431\\u043e\\u043a\\u0441\\u0430\\u0440\\u044b\", \"marker\": {\"color\": \"#000004\"}, \"name\": \"city=\\u0427\\u0435\\u0431\\u043e\\u043a\\u0441\\u0430\\u0440\\u044b\", \"offsetgroup\": \"city=\\u0427\\u0435\\u0431\\u043e\\u043a\\u0441\\u0430\\u0440\\u044b\", \"orientation\": \"v\", \"showlegend\": true, \"textposition\": \"auto\", \"type\": \"bar\", \"x\": [\"\\u0427\\u0435\\u0431\\u043e\\u043a\\u0441\\u0430\\u0440\\u044b\"], \"xaxis\": \"x\", \"y\": [5.0], \"yaxis\": \"y\"}, {\"alignmentgroup\": \"True\", \"hoverlabel\": {\"namelength\": 0}, \"hovertemplate\": \"city=%{x}<br>average_flights=%{y}\", \"legendgroup\": \"city=\\u042d\\u043b\\u0438\\u0441\\u0442\\u0430\", \"marker\": {\"color\": \"#fcffa4\"}, \"name\": \"city=\\u042d\\u043b\\u0438\\u0441\\u0442\\u0430\", \"offsetgroup\": \"city=\\u042d\\u043b\\u0438\\u0441\\u0442\\u0430\", \"orientation\": \"v\", \"showlegend\": true, \"textposition\": \"auto\", \"type\": \"bar\", \"x\": [\"\\u042d\\u043b\\u0438\\u0441\\u0442\\u0430\"], \"xaxis\": \"x\", \"y\": [4.870967741935484], \"yaxis\": \"y\"}, {\"alignmentgroup\": \"True\", \"hoverlabel\": {\"namelength\": 0}, \"hovertemplate\": \"city=%{x}<br>average_flights=%{y}\", \"legendgroup\": \"city=\\u0412\\u043e\\u0440\\u043a\\u0443\\u0442\\u0430\", \"marker\": {\"color\": \"#f7d13d\"}, \"name\": \"city=\\u0412\\u043e\\u0440\\u043a\\u0443\\u0442\\u0430\", \"offsetgroup\": \"city=\\u0412\\u043e\\u0440\\u043a\\u0443\\u0442\\u0430\", \"orientation\": \"v\", \"showlegend\": true, \"textposition\": \"auto\", \"type\": \"bar\", \"x\": [\"\\u0412\\u043e\\u0440\\u043a\\u0443\\u0442\\u0430\"], \"xaxis\": \"x\", \"y\": [4.580645161290322], \"yaxis\": \"y\"}, {\"alignmentgroup\": \"True\", \"hoverlabel\": {\"namelength\": 0}, \"hovertemplate\": \"city=%{x}<br>average_flights=%{y}\", \"legendgroup\": \"city=\\u0419\\u043e\\u0448\\u043a\\u0430\\u0440-\\u041e\\u043b\\u0430\", \"marker\": {\"color\": \"#fb9b06\"}, \"name\": \"city=\\u0419\\u043e\\u0448\\u043a\\u0430\\u0440-\\u041e\\u043b\\u0430\", \"offsetgroup\": \"city=\\u0419\\u043e\\u0448\\u043a\\u0430\\u0440-\\u041e\\u043b\\u0430\", \"orientation\": \"v\", \"showlegend\": true, \"textposition\": \"auto\", \"type\": \"bar\", \"x\": [\"\\u0419\\u043e\\u0448\\u043a\\u0430\\u0440-\\u041e\\u043b\\u0430\"], \"xaxis\": \"x\", \"y\": [4.290322580645161], \"yaxis\": \"y\"}, {\"alignmentgroup\": \"True\", \"hoverlabel\": {\"namelength\": 0}, \"hovertemplate\": \"city=%{x}<br>average_flights=%{y}\", \"legendgroup\": \"city=\\u042e\\u0436\\u043d\\u043e-\\u0421\\u0430\\u0445\\u0430\\u043b\\u0438\\u043d\\u0441\\u043a\", \"marker\": {\"color\": \"#ed6925\"}, \"name\": \"city=\\u042e\\u0436\\u043d\\u043e-\\u0421\\u0430\\u0445\\u0430\\u043b\\u0438\\u043d\\u0441\\u043a\", \"offsetgroup\": \"city=\\u042e\\u0436\\u043d\\u043e-\\u0421\\u0430\\u0445\\u0430\\u043b\\u0438\\u043d\\u0441\\u043a\", \"orientation\": \"v\", \"showlegend\": true, \"textposition\": \"auto\", \"type\": \"bar\", \"x\": [\"\\u042e\\u0436\\u043d\\u043e-\\u0421\\u0430\\u0445\\u0430\\u043b\\u0438\\u043d\\u0441\\u043a\"], \"xaxis\": \"x\", \"y\": [4.290322580645161], \"yaxis\": \"y\"}, {\"alignmentgroup\": \"True\", \"hoverlabel\": {\"namelength\": 0}, \"hovertemplate\": \"city=%{x}<br>average_flights=%{y}\", \"legendgroup\": \"city=\\u0422\\u043e\\u043c\\u0441\\u043a\", \"marker\": {\"color\": \"#cf4446\"}, \"name\": \"city=\\u0422\\u043e\\u043c\\u0441\\u043a\", \"offsetgroup\": \"city=\\u0422\\u043e\\u043c\\u0441\\u043a\", \"orientation\": \"v\", \"showlegend\": true, \"textposition\": \"auto\", \"type\": \"bar\", \"x\": [\"\\u0422\\u043e\\u043c\\u0441\\u043a\"], \"xaxis\": \"x\", \"y\": [4.193548387096774], \"yaxis\": \"y\"}, {\"alignmentgroup\": \"True\", \"hoverlabel\": {\"namelength\": 0}, \"hovertemplate\": \"city=%{x}<br>average_flights=%{y}\", \"legendgroup\": \"city=\\u0421\\u044b\\u043a\\u0442\\u044b\\u0432\\u043a\\u0430\\u0440\", \"marker\": {\"color\": \"#a52c60\"}, \"name\": \"city=\\u0421\\u044b\\u043a\\u0442\\u044b\\u0432\\u043a\\u0430\\u0440\", \"offsetgroup\": \"city=\\u0421\\u044b\\u043a\\u0442\\u044b\\u0432\\u043a\\u0430\\u0440\", \"orientation\": \"v\", \"showlegend\": true, \"textposition\": \"auto\", \"type\": \"bar\", \"x\": [\"\\u0421\\u044b\\u043a\\u0442\\u044b\\u0432\\u043a\\u0430\\u0440\"], \"xaxis\": \"x\", \"y\": [4.129032258064516], \"yaxis\": \"y\"}, {\"alignmentgroup\": \"True\", \"hoverlabel\": {\"namelength\": 0}, \"hovertemplate\": \"city=%{x}<br>average_flights=%{y}\", \"legendgroup\": \"city=\\u041f\\u0435\\u043d\\u0437\\u0430\", \"marker\": {\"color\": \"#781c6d\"}, \"name\": \"city=\\u041f\\u0435\\u043d\\u0437\\u0430\", \"offsetgroup\": \"city=\\u041f\\u0435\\u043d\\u0437\\u0430\", \"orientation\": \"v\", \"showlegend\": true, \"textposition\": \"auto\", \"type\": \"bar\", \"x\": [\"\\u041f\\u0435\\u043d\\u0437\\u0430\"], \"xaxis\": \"x\", \"y\": [4.0], \"yaxis\": \"y\"}, {\"alignmentgroup\": \"True\", \"hoverlabel\": {\"namelength\": 0}, \"hovertemplate\": \"city=%{x}<br>average_flights=%{y}\", \"legendgroup\": \"city=\\u0421\\u0430\\u0440\\u0430\\u0442\\u043e\\u0432\", \"marker\": {\"color\": \"#4a0c6b\"}, \"name\": \"city=\\u0421\\u0430\\u0440\\u0430\\u0442\\u043e\\u0432\", \"offsetgroup\": \"city=\\u0421\\u0430\\u0440\\u0430\\u0442\\u043e\\u0432\", \"orientation\": \"v\", \"showlegend\": true, \"textposition\": \"auto\", \"type\": \"bar\", \"x\": [\"\\u0421\\u0430\\u0440\\u0430\\u0442\\u043e\\u0432\"], \"xaxis\": \"x\", \"y\": [4.0], \"yaxis\": \"y\"}, {\"alignmentgroup\": \"True\", \"hoverlabel\": {\"namelength\": 0}, \"hovertemplate\": \"city=%{x}<br>average_flights=%{y}\", \"legendgroup\": \"city=\\u041c\\u0430\\u0433\\u043d\\u0438\\u0442\\u043e\\u0433\\u043e\\u0440\\u0441\\u043a\", \"marker\": {\"color\": \"#1b0c41\"}, \"name\": \"city=\\u041c\\u0430\\u0433\\u043d\\u0438\\u0442\\u043e\\u0433\\u043e\\u0440\\u0441\\u043a\", \"offsetgroup\": \"city=\\u041c\\u0430\\u0433\\u043d\\u0438\\u0442\\u043e\\u0433\\u043e\\u0440\\u0441\\u043a\", \"orientation\": \"v\", \"showlegend\": true, \"textposition\": \"auto\", \"type\": \"bar\", \"x\": [\"\\u041c\\u0430\\u0433\\u043d\\u0438\\u0442\\u043e\\u0433\\u043e\\u0440\\u0441\\u043a\"], \"xaxis\": \"x\", \"y\": [4.0], \"yaxis\": \"y\"}, {\"alignmentgroup\": \"True\", \"hoverlabel\": {\"namelength\": 0}, \"hovertemplate\": \"city=%{x}<br>average_flights=%{y}\", \"legendgroup\": \"city=\\u0422\\u0430\\u043c\\u0431\\u043e\\u0432\", \"marker\": {\"color\": \"#000004\"}, \"name\": \"city=\\u0422\\u0430\\u043c\\u0431\\u043e\\u0432\", \"offsetgroup\": \"city=\\u0422\\u0430\\u043c\\u0431\\u043e\\u0432\", \"orientation\": \"v\", \"showlegend\": true, \"textposition\": \"auto\", \"type\": \"bar\", \"x\": [\"\\u0422\\u0430\\u043c\\u0431\\u043e\\u0432\"], \"xaxis\": \"x\", \"y\": [4.0], \"yaxis\": \"y\"}, {\"alignmentgroup\": \"True\", \"hoverlabel\": {\"namelength\": 0}, \"hovertemplate\": \"city=%{x}<br>average_flights=%{y}\", \"legendgroup\": \"city=\\u041a\\u0440\\u0430\\u0441\\u043d\\u043e\\u0434\\u0430\\u0440\", \"marker\": {\"color\": \"#fcffa4\"}, \"name\": \"city=\\u041a\\u0440\\u0430\\u0441\\u043d\\u043e\\u0434\\u0430\\u0440\", \"offsetgroup\": \"city=\\u041a\\u0440\\u0430\\u0441\\u043d\\u043e\\u0434\\u0430\\u0440\", \"orientation\": \"v\", \"showlegend\": true, \"textposition\": \"auto\", \"type\": \"bar\", \"x\": [\"\\u041a\\u0440\\u0430\\u0441\\u043d\\u043e\\u0434\\u0430\\u0440\"], \"xaxis\": \"x\", \"y\": [3.903225806451613], \"yaxis\": \"y\"}, {\"alignmentgroup\": \"True\", \"hoverlabel\": {\"namelength\": 0}, \"hovertemplate\": \"city=%{x}<br>average_flights=%{y}\", \"legendgroup\": \"city=\\u0410\\u0431\\u0430\\u043a\\u0430\\u043d\", \"marker\": {\"color\": \"#f7d13d\"}, \"name\": \"city=\\u0410\\u0431\\u0430\\u043a\\u0430\\u043d\", \"offsetgroup\": \"city=\\u0410\\u0431\\u0430\\u043a\\u0430\\u043d\", \"orientation\": \"v\", \"showlegend\": true, \"textposition\": \"auto\", \"type\": \"bar\", \"x\": [\"\\u0410\\u0431\\u0430\\u043a\\u0430\\u043d\"], \"xaxis\": \"x\", \"y\": [3.870967741935484], \"yaxis\": \"y\"}, {\"alignmentgroup\": \"True\", \"hoverlabel\": {\"namelength\": 0}, \"hovertemplate\": \"city=%{x}<br>average_flights=%{y}\", \"legendgroup\": \"city=\\u041d\\u0438\\u0436\\u043d\\u0435\\u043a\\u0430\\u043c\\u0441\\u043a\", \"marker\": {\"color\": \"#fb9b06\"}, \"name\": \"city=\\u041d\\u0438\\u0436\\u043d\\u0435\\u043a\\u0430\\u043c\\u0441\\u043a\", \"offsetgroup\": \"city=\\u041d\\u0438\\u0436\\u043d\\u0435\\u043a\\u0430\\u043c\\u0441\\u043a\", \"orientation\": \"v\", \"showlegend\": true, \"textposition\": \"auto\", \"type\": \"bar\", \"x\": [\"\\u041d\\u0438\\u0436\\u043d\\u0435\\u043a\\u0430\\u043c\\u0441\\u043a\"], \"xaxis\": \"x\", \"y\": [3.741935483870968], \"yaxis\": \"y\"}, {\"alignmentgroup\": \"True\", \"hoverlabel\": {\"namelength\": 0}, \"hovertemplate\": \"city=%{x}<br>average_flights=%{y}\", \"legendgroup\": \"city=\\u041a\\u0443\\u0440\\u0433\\u0430\\u043d\", \"marker\": {\"color\": \"#ed6925\"}, \"name\": \"city=\\u041a\\u0443\\u0440\\u0433\\u0430\\u043d\", \"offsetgroup\": \"city=\\u041a\\u0443\\u0440\\u0433\\u0430\\u043d\", \"orientation\": \"v\", \"showlegend\": true, \"textposition\": \"auto\", \"type\": \"bar\", \"x\": [\"\\u041a\\u0443\\u0440\\u0433\\u0430\\u043d\"], \"xaxis\": \"x\", \"y\": [3.419354838709677], \"yaxis\": \"y\"}, {\"alignmentgroup\": \"True\", \"hoverlabel\": {\"namelength\": 0}, \"hovertemplate\": \"city=%{x}<br>average_flights=%{y}\", \"legendgroup\": \"city=\\u041c\\u0438\\u043d\\u0435\\u0440\\u0430\\u043b\\u044c\\u043d\\u044b\\u0435 \\u0412\\u043e\\u0434\\u044b\", \"marker\": {\"color\": \"#cf4446\"}, \"name\": \"city=\\u041c\\u0438\\u043d\\u0435\\u0440\\u0430\\u043b\\u044c\\u043d\\u044b\\u0435 \\u0412\\u043e\\u0434\\u044b\", \"offsetgroup\": \"city=\\u041c\\u0438\\u043d\\u0435\\u0440\\u0430\\u043b\\u044c\\u043d\\u044b\\u0435 \\u0412\\u043e\\u0434\\u044b\", \"orientation\": \"v\", \"showlegend\": true, \"textposition\": \"auto\", \"type\": \"bar\", \"x\": [\"\\u041c\\u0438\\u043d\\u0435\\u0440\\u0430\\u043b\\u044c\\u043d\\u044b\\u0435 \\u0412\\u043e\\u0434\\u044b\"], \"xaxis\": \"x\", \"y\": [3.419354838709677], \"yaxis\": \"y\"}, {\"alignmentgroup\": \"True\", \"hoverlabel\": {\"namelength\": 0}, \"hovertemplate\": \"city=%{x}<br>average_flights=%{y}\", \"legendgroup\": \"city=\\u041e\\u043c\\u0441\\u043a\", \"marker\": {\"color\": \"#a52c60\"}, \"name\": \"city=\\u041e\\u043c\\u0441\\u043a\", \"offsetgroup\": \"city=\\u041e\\u043c\\u0441\\u043a\", \"orientation\": \"v\", \"showlegend\": true, \"textposition\": \"auto\", \"type\": \"bar\", \"x\": [\"\\u041e\\u043c\\u0441\\u043a\"], \"xaxis\": \"x\", \"y\": [3.290322580645161], \"yaxis\": \"y\"}, {\"alignmentgroup\": \"True\", \"hoverlabel\": {\"namelength\": 0}, \"hovertemplate\": \"city=%{x}<br>average_flights=%{y}\", \"legendgroup\": \"city=\\u041c\\u0430\\u0445\\u0430\\u0447\\u043a\\u0430\\u043b\\u0430\", \"marker\": {\"color\": \"#781c6d\"}, \"name\": \"city=\\u041c\\u0430\\u0445\\u0430\\u0447\\u043a\\u0430\\u043b\\u0430\", \"offsetgroup\": \"city=\\u041c\\u0430\\u0445\\u0430\\u0447\\u043a\\u0430\\u043b\\u0430\", \"orientation\": \"v\", \"showlegend\": true, \"textposition\": \"auto\", \"type\": \"bar\", \"x\": [\"\\u041c\\u0430\\u0445\\u0430\\u0447\\u043a\\u0430\\u043b\\u0430\"], \"xaxis\": \"x\", \"y\": [3.290322580645161], \"yaxis\": \"y\"}, {\"alignmentgroup\": \"True\", \"hoverlabel\": {\"namelength\": 0}, \"hovertemplate\": \"city=%{x}<br>average_flights=%{y}\", \"legendgroup\": \"city=\\u041a\\u043e\\u0433\\u0430\\u043b\\u044b\\u043c\", \"marker\": {\"color\": \"#4a0c6b\"}, \"name\": \"city=\\u041a\\u043e\\u0433\\u0430\\u043b\\u044b\\u043c\", \"offsetgroup\": \"city=\\u041a\\u043e\\u0433\\u0430\\u043b\\u044b\\u043c\", \"orientation\": \"v\", \"showlegend\": true, \"textposition\": \"auto\", \"type\": \"bar\", \"x\": [\"\\u041a\\u043e\\u0433\\u0430\\u043b\\u044b\\u043c\"], \"xaxis\": \"x\", \"y\": [3.161290322580645], \"yaxis\": \"y\"}, {\"alignmentgroup\": \"True\", \"hoverlabel\": {\"namelength\": 0}, \"hovertemplate\": \"city=%{x}<br>average_flights=%{y}\", \"legendgroup\": \"city=\\u041d\\u0438\\u0436\\u043d\\u0435\\u0432\\u0430\\u0440\\u0442\\u043e\\u0432\\u0441\\u043a\", \"marker\": {\"color\": \"#1b0c41\"}, \"name\": \"city=\\u041d\\u0438\\u0436\\u043d\\u0435\\u0432\\u0430\\u0440\\u0442\\u043e\\u0432\\u0441\\u043a\", \"offsetgroup\": \"city=\\u041d\\u0438\\u0436\\u043d\\u0435\\u0432\\u0430\\u0440\\u0442\\u043e\\u0432\\u0441\\u043a\", \"orientation\": \"v\", \"showlegend\": true, \"textposition\": \"auto\", \"type\": \"bar\", \"x\": [\"\\u041d\\u0438\\u0436\\u043d\\u0435\\u0432\\u0430\\u0440\\u0442\\u043e\\u0432\\u0441\\u043a\"], \"xaxis\": \"x\", \"y\": [3.129032258064516], \"yaxis\": \"y\"}, {\"alignmentgroup\": \"True\", \"hoverlabel\": {\"namelength\": 0}, \"hovertemplate\": \"city=%{x}<br>average_flights=%{y}\", \"legendgroup\": \"city=\\u0412\\u043b\\u0430\\u0434\\u0438\\u0432\\u043e\\u0441\\u0442\\u043e\\u043a\", \"marker\": {\"color\": \"#000004\"}, \"name\": \"city=\\u0412\\u043b\\u0430\\u0434\\u0438\\u0432\\u043e\\u0441\\u0442\\u043e\\u043a\", \"offsetgroup\": \"city=\\u0412\\u043b\\u0430\\u0434\\u0438\\u0432\\u043e\\u0441\\u0442\\u043e\\u043a\", \"orientation\": \"v\", \"showlegend\": true, \"textposition\": \"auto\", \"type\": \"bar\", \"x\": [\"\\u0412\\u043b\\u0430\\u0434\\u0438\\u0432\\u043e\\u0441\\u0442\\u043e\\u043a\"], \"xaxis\": \"x\", \"y\": [3.0], \"yaxis\": \"y\"}, {\"alignmentgroup\": \"True\", \"hoverlabel\": {\"namelength\": 0}, \"hovertemplate\": \"city=%{x}<br>average_flights=%{y}\", \"legendgroup\": \"city=\\u0421\\u0430\\u043c\\u0430\\u0440\\u0430\", \"marker\": {\"color\": \"#fcffa4\"}, \"name\": \"city=\\u0421\\u0430\\u043c\\u0430\\u0440\\u0430\", \"offsetgroup\": \"city=\\u0421\\u0430\\u043c\\u0430\\u0440\\u0430\", \"orientation\": \"v\", \"showlegend\": true, \"textposition\": \"auto\", \"type\": \"bar\", \"x\": [\"\\u0421\\u0430\\u043c\\u0430\\u0440\\u0430\"], \"xaxis\": \"x\", \"y\": [3.0], \"yaxis\": \"y\"}, {\"alignmentgroup\": \"True\", \"hoverlabel\": {\"namelength\": 0}, \"hovertemplate\": \"city=%{x}<br>average_flights=%{y}\", \"legendgroup\": \"city=\\u041d\\u0430\\u043b\\u044c\\u0447\\u0438\\u043a\", \"marker\": {\"color\": \"#f7d13d\"}, \"name\": \"city=\\u041d\\u0430\\u043b\\u044c\\u0447\\u0438\\u043a\", \"offsetgroup\": \"city=\\u041d\\u0430\\u043b\\u044c\\u0447\\u0438\\u043a\", \"orientation\": \"v\", \"showlegend\": true, \"textposition\": \"auto\", \"type\": \"bar\", \"x\": [\"\\u041d\\u0430\\u043b\\u044c\\u0447\\u0438\\u043a\"], \"xaxis\": \"x\", \"y\": [3.0], \"yaxis\": \"y\"}, {\"alignmentgroup\": \"True\", \"hoverlabel\": {\"namelength\": 0}, \"hovertemplate\": \"city=%{x}<br>average_flights=%{y}\", \"legendgroup\": \"city=\\u0423\\u0445\\u0442\\u0430\", \"marker\": {\"color\": \"#fb9b06\"}, \"name\": \"city=\\u0423\\u0445\\u0442\\u0430\", \"offsetgroup\": \"city=\\u0423\\u0445\\u0442\\u0430\", \"orientation\": \"v\", \"showlegend\": true, \"textposition\": \"auto\", \"type\": \"bar\", \"x\": [\"\\u0423\\u0445\\u0442\\u0430\"], \"xaxis\": \"x\", \"y\": [3.0], \"yaxis\": \"y\"}, {\"alignmentgroup\": \"True\", \"hoverlabel\": {\"namelength\": 0}, \"hovertemplate\": \"city=%{x}<br>average_flights=%{y}\", \"legendgroup\": \"city=\\u0423\\u0434\\u0430\\u0447\\u043d\\u044b\\u0439\", \"marker\": {\"color\": \"#ed6925\"}, \"name\": \"city=\\u0423\\u0434\\u0430\\u0447\\u043d\\u044b\\u0439\", \"offsetgroup\": \"city=\\u0423\\u0434\\u0430\\u0447\\u043d\\u044b\\u0439\", \"orientation\": \"v\", \"showlegend\": true, \"textposition\": \"auto\", \"type\": \"bar\", \"x\": [\"\\u0423\\u0434\\u0430\\u0447\\u043d\\u044b\\u0439\"], \"xaxis\": \"x\", \"y\": [3.0], \"yaxis\": \"y\"}, {\"alignmentgroup\": \"True\", \"hoverlabel\": {\"namelength\": 0}, \"hovertemplate\": \"city=%{x}<br>average_flights=%{y}\", \"legendgroup\": \"city=\\u0411\\u0443\\u0433\\u0443\\u043b\\u044c\\u043c\\u0430\", \"marker\": {\"color\": \"#cf4446\"}, \"name\": \"city=\\u0411\\u0443\\u0433\\u0443\\u043b\\u044c\\u043c\\u0430\", \"offsetgroup\": \"city=\\u0411\\u0443\\u0433\\u0443\\u043b\\u044c\\u043c\\u0430\", \"orientation\": \"v\", \"showlegend\": true, \"textposition\": \"auto\", \"type\": \"bar\", \"x\": [\"\\u0411\\u0443\\u0433\\u0443\\u043b\\u044c\\u043c\\u0430\"], \"xaxis\": \"x\", \"y\": [3.0], \"yaxis\": \"y\"}, {\"alignmentgroup\": \"True\", \"hoverlabel\": {\"namelength\": 0}, \"hovertemplate\": \"city=%{x}<br>average_flights=%{y}\", \"legendgroup\": \"city=\\u041d\\u043e\\u044f\\u0431\\u0440\\u044c\\u0441\\u043a\", \"marker\": {\"color\": \"#a52c60\"}, \"name\": \"city=\\u041d\\u043e\\u044f\\u0431\\u0440\\u044c\\u0441\\u043a\", \"offsetgroup\": \"city=\\u041d\\u043e\\u044f\\u0431\\u0440\\u044c\\u0441\\u043a\", \"orientation\": \"v\", \"showlegend\": true, \"textposition\": \"auto\", \"type\": \"bar\", \"x\": [\"\\u041d\\u043e\\u044f\\u0431\\u0440\\u044c\\u0441\\u043a\"], \"xaxis\": \"x\", \"y\": [3.0], \"yaxis\": \"y\"}, {\"alignmentgroup\": \"True\", \"hoverlabel\": {\"namelength\": 0}, \"hovertemplate\": \"city=%{x}<br>average_flights=%{y}\", \"legendgroup\": \"city=\\u0423\\u0441\\u0442\\u044c-\\u0418\\u043b\\u0438\\u043c\\u0441\\u043a\", \"marker\": {\"color\": \"#781c6d\"}, \"name\": \"city=\\u0423\\u0441\\u0442\\u044c-\\u0418\\u043b\\u0438\\u043c\\u0441\\u043a\", \"offsetgroup\": \"city=\\u0423\\u0441\\u0442\\u044c-\\u0418\\u043b\\u0438\\u043c\\u0441\\u043a\", \"orientation\": \"v\", \"showlegend\": true, \"textposition\": \"auto\", \"type\": \"bar\", \"x\": [\"\\u0423\\u0441\\u0442\\u044c-\\u0418\\u043b\\u0438\\u043c\\u0441\\u043a\"], \"xaxis\": \"x\", \"y\": [2.870967741935484], \"yaxis\": \"y\"}, {\"alignmentgroup\": \"True\", \"hoverlabel\": {\"namelength\": 0}, \"hovertemplate\": \"city=%{x}<br>average_flights=%{y}\", \"legendgroup\": \"city=\\u042f\\u043a\\u0443\\u0442\\u0441\\u043a\", \"marker\": {\"color\": \"#4a0c6b\"}, \"name\": \"city=\\u042f\\u043a\\u0443\\u0442\\u0441\\u043a\", \"offsetgroup\": \"city=\\u042f\\u043a\\u0443\\u0442\\u0441\\u043a\", \"orientation\": \"v\", \"showlegend\": true, \"textposition\": \"auto\", \"type\": \"bar\", \"x\": [\"\\u042f\\u043a\\u0443\\u0442\\u0441\\u043a\"], \"xaxis\": \"x\", \"y\": [2.741935483870968], \"yaxis\": \"y\"}, {\"alignmentgroup\": \"True\", \"hoverlabel\": {\"namelength\": 0}, \"hovertemplate\": \"city=%{x}<br>average_flights=%{y}\", \"legendgroup\": \"city=\\u0411\\u0430\\u0440\\u043d\\u0430\\u0443\\u043b\", \"marker\": {\"color\": \"#1b0c41\"}, \"name\": \"city=\\u0411\\u0430\\u0440\\u043d\\u0430\\u0443\\u043b\", \"offsetgroup\": \"city=\\u0411\\u0430\\u0440\\u043d\\u0430\\u0443\\u043b\", \"orientation\": \"v\", \"showlegend\": true, \"textposition\": \"auto\", \"type\": \"bar\", \"x\": [\"\\u0411\\u0430\\u0440\\u043d\\u0430\\u0443\\u043b\"], \"xaxis\": \"x\", \"y\": [2.612903225806452], \"yaxis\": \"y\"}, {\"alignmentgroup\": \"True\", \"hoverlabel\": {\"namelength\": 0}, \"hovertemplate\": \"city=%{x}<br>average_flights=%{y}\", \"legendgroup\": \"city=\\u041d\\u0430\\u0440\\u044c\\u044f\\u043d-\\u041c\\u0430\\u0440\", \"marker\": {\"color\": \"#000004\"}, \"name\": \"city=\\u041d\\u0430\\u0440\\u044c\\u044f\\u043d-\\u041c\\u0430\\u0440\", \"offsetgroup\": \"city=\\u041d\\u0430\\u0440\\u044c\\u044f\\u043d-\\u041c\\u0430\\u0440\", \"orientation\": \"v\", \"showlegend\": true, \"textposition\": \"auto\", \"type\": \"bar\", \"x\": [\"\\u041d\\u0430\\u0440\\u044c\\u044f\\u043d-\\u041c\\u0430\\u0440\"], \"xaxis\": \"x\", \"y\": [2.612903225806452], \"yaxis\": \"y\"}, {\"alignmentgroup\": \"True\", \"hoverlabel\": {\"namelength\": 0}, \"hovertemplate\": \"city=%{x}<br>average_flights=%{y}\", \"legendgroup\": \"city=\\u0413\\u0435\\u043b\\u0435\\u043d\\u0434\\u0436\\u0438\\u043a\", \"marker\": {\"color\": \"#fcffa4\"}, \"name\": \"city=\\u0413\\u0435\\u043b\\u0435\\u043d\\u0434\\u0436\\u0438\\u043a\", \"offsetgroup\": \"city=\\u0413\\u0435\\u043b\\u0435\\u043d\\u0434\\u0436\\u0438\\u043a\", \"orientation\": \"v\", \"showlegend\": true, \"textposition\": \"auto\", \"type\": \"bar\", \"x\": [\"\\u0413\\u0435\\u043b\\u0435\\u043d\\u0434\\u0436\\u0438\\u043a\"], \"xaxis\": \"x\", \"y\": [2.590909090909091], \"yaxis\": \"y\"}, {\"alignmentgroup\": \"True\", \"hoverlabel\": {\"namelength\": 0}, \"hovertemplate\": \"city=%{x}<br>average_flights=%{y}\", \"legendgroup\": \"city=\\u041a\\u0430\\u043b\\u0438\\u043d\\u0438\\u043d\\u0433\\u0440\\u0430\\u0434\", \"marker\": {\"color\": \"#f7d13d\"}, \"name\": \"city=\\u041a\\u0430\\u043b\\u0438\\u043d\\u0438\\u043d\\u0433\\u0440\\u0430\\u0434\", \"offsetgroup\": \"city=\\u041a\\u0430\\u043b\\u0438\\u043d\\u0438\\u043d\\u0433\\u0440\\u0430\\u0434\", \"orientation\": \"v\", \"showlegend\": true, \"textposition\": \"auto\", \"type\": \"bar\", \"x\": [\"\\u041a\\u0430\\u043b\\u0438\\u043d\\u0438\\u043d\\u0433\\u0440\\u0430\\u0434\"], \"xaxis\": \"x\", \"y\": [2.5806451612903225], \"yaxis\": \"y\"}, {\"alignmentgroup\": \"True\", \"hoverlabel\": {\"namelength\": 0}, \"hovertemplate\": \"city=%{x}<br>average_flights=%{y}\", \"legendgroup\": \"city=\\u041d\\u0435\\u0440\\u044e\\u043d\\u0433\\u0440\\u0438\", \"marker\": {\"color\": \"#fb9b06\"}, \"name\": \"city=\\u041d\\u0435\\u0440\\u044e\\u043d\\u0433\\u0440\\u0438\", \"offsetgroup\": \"city=\\u041d\\u0435\\u0440\\u044e\\u043d\\u0433\\u0440\\u0438\", \"orientation\": \"v\", \"showlegend\": true, \"textposition\": \"auto\", \"type\": \"bar\", \"x\": [\"\\u041d\\u0435\\u0440\\u044e\\u043d\\u0433\\u0440\\u0438\"], \"xaxis\": \"x\", \"y\": [2.5806451612903225], \"yaxis\": \"y\"}, {\"alignmentgroup\": \"True\", \"hoverlabel\": {\"namelength\": 0}, \"hovertemplate\": \"city=%{x}<br>average_flights=%{y}\", \"legendgroup\": \"city=\\u0410\\u0441\\u0442\\u0440\\u0430\\u0445\\u0430\\u043d\\u044c\", \"marker\": {\"color\": \"#ed6925\"}, \"name\": \"city=\\u0410\\u0441\\u0442\\u0440\\u0430\\u0445\\u0430\\u043d\\u044c\", \"offsetgroup\": \"city=\\u0410\\u0441\\u0442\\u0440\\u0430\\u0445\\u0430\\u043d\\u044c\", \"orientation\": \"v\", \"showlegend\": true, \"textposition\": \"auto\", \"type\": \"bar\", \"x\": [\"\\u0410\\u0441\\u0442\\u0440\\u0430\\u0445\\u0430\\u043d\\u044c\"], \"xaxis\": \"x\", \"y\": [2.4516129032258065], \"yaxis\": \"y\"}, {\"alignmentgroup\": \"True\", \"hoverlabel\": {\"namelength\": 0}, \"hovertemplate\": \"city=%{x}<br>average_flights=%{y}\", \"legendgroup\": \"city=\\u041a\\u0443\\u0440\\u0441\\u043a\", \"marker\": {\"color\": \"#cf4446\"}, \"name\": \"city=\\u041a\\u0443\\u0440\\u0441\\u043a\", \"offsetgroup\": \"city=\\u041a\\u0443\\u0440\\u0441\\u043a\", \"orientation\": \"v\", \"showlegend\": true, \"textposition\": \"auto\", \"type\": \"bar\", \"x\": [\"\\u041a\\u0443\\u0440\\u0441\\u043a\"], \"xaxis\": \"x\", \"y\": [2.290322580645161], \"yaxis\": \"y\"}, {\"alignmentgroup\": \"True\", \"hoverlabel\": {\"namelength\": 0}, \"hovertemplate\": \"city=%{x}<br>average_flights=%{y}\", \"legendgroup\": \"city=\\u041d\\u043e\\u0440\\u0438\\u043b\\u044c\\u0441\\u043a\", \"marker\": {\"color\": \"#a52c60\"}, \"name\": \"city=\\u041d\\u043e\\u0440\\u0438\\u043b\\u044c\\u0441\\u043a\", \"offsetgroup\": \"city=\\u041d\\u043e\\u0440\\u0438\\u043b\\u044c\\u0441\\u043a\", \"orientation\": \"v\", \"showlegend\": true, \"textposition\": \"auto\", \"type\": \"bar\", \"x\": [\"\\u041d\\u043e\\u0440\\u0438\\u043b\\u044c\\u0441\\u043a\"], \"xaxis\": \"x\", \"y\": [2.290322580645161], \"yaxis\": \"y\"}, {\"alignmentgroup\": \"True\", \"hoverlabel\": {\"namelength\": 0}, \"hovertemplate\": \"city=%{x}<br>average_flights=%{y}\", \"legendgroup\": \"city=\\u041d\\u0430\\u0434\\u044b\\u043c\", \"marker\": {\"color\": \"#781c6d\"}, \"name\": \"city=\\u041d\\u0430\\u0434\\u044b\\u043c\", \"offsetgroup\": \"city=\\u041d\\u0430\\u0434\\u044b\\u043c\", \"orientation\": \"v\", \"showlegend\": true, \"textposition\": \"auto\", \"type\": \"bar\", \"x\": [\"\\u041d\\u0430\\u0434\\u044b\\u043c\"], \"xaxis\": \"x\", \"y\": [2.290322580645161], \"yaxis\": \"y\"}, {\"alignmentgroup\": \"True\", \"hoverlabel\": {\"namelength\": 0}, \"hovertemplate\": \"city=%{x}<br>average_flights=%{y}\", \"legendgroup\": \"city=\\u0410\\u043d\\u0430\\u043f\\u0430\", \"marker\": {\"color\": \"#4a0c6b\"}, \"name\": \"city=\\u0410\\u043d\\u0430\\u043f\\u0430\", \"offsetgroup\": \"city=\\u0410\\u043d\\u0430\\u043f\\u0430\", \"orientation\": \"v\", \"showlegend\": true, \"textposition\": \"auto\", \"type\": \"bar\", \"x\": [\"\\u0410\\u043d\\u0430\\u043f\\u0430\"], \"xaxis\": \"x\", \"y\": [2.161290322580645], \"yaxis\": \"y\"}, {\"alignmentgroup\": \"True\", \"hoverlabel\": {\"namelength\": 0}, \"hovertemplate\": \"city=%{x}<br>average_flights=%{y}\", \"legendgroup\": \"city=\\u0427\\u0435\\u0440\\u0435\\u043f\\u043e\\u0432\\u0435\\u0446\", \"marker\": {\"color\": \"#1b0c41\"}, \"name\": \"city=\\u0427\\u0435\\u0440\\u0435\\u043f\\u043e\\u0432\\u0435\\u0446\", \"offsetgroup\": \"city=\\u0427\\u0435\\u0440\\u0435\\u043f\\u043e\\u0432\\u0435\\u0446\", \"orientation\": \"v\", \"showlegend\": true, \"textposition\": \"auto\", \"type\": \"bar\", \"x\": [\"\\u0427\\u0435\\u0440\\u0435\\u043f\\u043e\\u0432\\u0435\\u0446\"], \"xaxis\": \"x\", \"y\": [2.161290322580645], \"yaxis\": \"y\"}, {\"alignmentgroup\": \"True\", \"hoverlabel\": {\"namelength\": 0}, \"hovertemplate\": \"city=%{x}<br>average_flights=%{y}\", \"legendgroup\": \"city=\\u041a\\u0430\\u043b\\u0443\\u0433\\u0430\", \"marker\": {\"color\": \"#000004\"}, \"name\": \"city=\\u041a\\u0430\\u043b\\u0443\\u0433\\u0430\", \"offsetgroup\": \"city=\\u041a\\u0430\\u043b\\u0443\\u0433\\u0430\", \"orientation\": \"v\", \"showlegend\": true, \"textposition\": \"auto\", \"type\": \"bar\", \"x\": [\"\\u041a\\u0430\\u043b\\u0443\\u0433\\u0430\"], \"xaxis\": \"x\", \"y\": [2.032258064516129], \"yaxis\": \"y\"}, {\"alignmentgroup\": \"True\", \"hoverlabel\": {\"namelength\": 0}, \"hovertemplate\": \"city=%{x}<br>average_flights=%{y}\", \"legendgroup\": \"city=\\u0412\\u043b\\u0430\\u0434\\u0438\\u043a\\u0430\\u0432\\u043a\\u0430\\u0437\", \"marker\": {\"color\": \"#fcffa4\"}, \"name\": \"city=\\u0412\\u043b\\u0430\\u0434\\u0438\\u043a\\u0430\\u0432\\u043a\\u0430\\u0437\", \"offsetgroup\": \"city=\\u0412\\u043b\\u0430\\u0434\\u0438\\u043a\\u0430\\u0432\\u043a\\u0430\\u0437\", \"orientation\": \"v\", \"showlegend\": true, \"textposition\": \"auto\", \"type\": \"bar\", \"x\": [\"\\u0412\\u043b\\u0430\\u0434\\u0438\\u043a\\u0430\\u0432\\u043a\\u0430\\u0437\"], \"xaxis\": \"x\", \"y\": [2.0], \"yaxis\": \"y\"}, {\"alignmentgroup\": \"True\", \"hoverlabel\": {\"namelength\": 0}, \"hovertemplate\": \"city=%{x}<br>average_flights=%{y}\", \"legendgroup\": \"city=\\u0411\\u0435\\u043b\\u043e\\u044f\\u0440\\u0441\\u043a\\u0438\\u0439\", \"marker\": {\"color\": \"#f7d13d\"}, \"name\": \"city=\\u0411\\u0435\\u043b\\u043e\\u044f\\u0440\\u0441\\u043a\\u0438\\u0439\", \"offsetgroup\": \"city=\\u0411\\u0435\\u043b\\u043e\\u044f\\u0440\\u0441\\u043a\\u0438\\u0439\", \"orientation\": \"v\", \"showlegend\": true, \"textposition\": \"auto\", \"type\": \"bar\", \"x\": [\"\\u0411\\u0435\\u043b\\u043e\\u044f\\u0440\\u0441\\u043a\\u0438\\u0439\"], \"xaxis\": \"x\", \"y\": [2.0], \"yaxis\": \"y\"}, {\"alignmentgroup\": \"True\", \"hoverlabel\": {\"namelength\": 0}, \"hovertemplate\": \"city=%{x}<br>average_flights=%{y}\", \"legendgroup\": \"city=\\u0412\\u043e\\u0440\\u043e\\u043d\\u0435\\u0436\", \"marker\": {\"color\": \"#fb9b06\"}, \"name\": \"city=\\u0412\\u043e\\u0440\\u043e\\u043d\\u0435\\u0436\", \"offsetgroup\": \"city=\\u0412\\u043e\\u0440\\u043e\\u043d\\u0435\\u0436\", \"orientation\": \"v\", \"showlegend\": true, \"textposition\": \"auto\", \"type\": \"bar\", \"x\": [\"\\u0412\\u043e\\u0440\\u043e\\u043d\\u0435\\u0436\"], \"xaxis\": \"x\", \"y\": [2.0], \"yaxis\": \"y\"}, {\"alignmentgroup\": \"True\", \"hoverlabel\": {\"namelength\": 0}, \"hovertemplate\": \"city=%{x}<br>average_flights=%{y}\", \"legendgroup\": \"city=\\u0421\\u0442\\u0430\\u0432\\u0440\\u043e\\u043f\\u043e\\u043b\\u044c\", \"marker\": {\"color\": \"#ed6925\"}, \"name\": \"city=\\u0421\\u0442\\u0430\\u0432\\u0440\\u043e\\u043f\\u043e\\u043b\\u044c\", \"offsetgroup\": \"city=\\u0421\\u0442\\u0430\\u0432\\u0440\\u043e\\u043f\\u043e\\u043b\\u044c\", \"orientation\": \"v\", \"showlegend\": true, \"textposition\": \"auto\", \"type\": \"bar\", \"x\": [\"\\u0421\\u0442\\u0430\\u0432\\u0440\\u043e\\u043f\\u043e\\u043b\\u044c\"], \"xaxis\": \"x\", \"y\": [2.0], \"yaxis\": \"y\"}, {\"alignmentgroup\": \"True\", \"hoverlabel\": {\"namelength\": 0}, \"hovertemplate\": \"city=%{x}<br>average_flights=%{y}\", \"legendgroup\": \"city=\\u0421\\u0430\\u0440\\u0430\\u043d\\u0441\\u043a\", \"marker\": {\"color\": \"#cf4446\"}, \"name\": \"city=\\u0421\\u0430\\u0440\\u0430\\u043d\\u0441\\u043a\", \"offsetgroup\": \"city=\\u0421\\u0430\\u0440\\u0430\\u043d\\u0441\\u043a\", \"orientation\": \"v\", \"showlegend\": true, \"textposition\": \"auto\", \"type\": \"bar\", \"x\": [\"\\u0421\\u0430\\u0440\\u0430\\u043d\\u0441\\u043a\"], \"xaxis\": \"x\", \"y\": [2.0], \"yaxis\": \"y\"}, {\"alignmentgroup\": \"True\", \"hoverlabel\": {\"namelength\": 0}, \"hovertemplate\": \"city=%{x}<br>average_flights=%{y}\", \"legendgroup\": \"city=\\u0421\\u0430\\u043b\\u0435\\u0445\\u0430\\u0440\\u0434\", \"marker\": {\"color\": \"#a52c60\"}, \"name\": \"city=\\u0421\\u0430\\u043b\\u0435\\u0445\\u0430\\u0440\\u0434\", \"offsetgroup\": \"city=\\u0421\\u0430\\u043b\\u0435\\u0445\\u0430\\u0440\\u0434\", \"orientation\": \"v\", \"showlegend\": true, \"textposition\": \"auto\", \"type\": \"bar\", \"x\": [\"\\u0421\\u0430\\u043b\\u0435\\u0445\\u0430\\u0440\\u0434\"], \"xaxis\": \"x\", \"y\": [2.0], \"yaxis\": \"y\"}, {\"alignmentgroup\": \"True\", \"hoverlabel\": {\"namelength\": 0}, \"hovertemplate\": \"city=%{x}<br>average_flights=%{y}\", \"legendgroup\": \"city=\\u0423\\u0440\\u0430\\u0439\", \"marker\": {\"color\": \"#781c6d\"}, \"name\": \"city=\\u0423\\u0440\\u0430\\u0439\", \"offsetgroup\": \"city=\\u0423\\u0440\\u0430\\u0439\", \"orientation\": \"v\", \"showlegend\": true, \"textposition\": \"auto\", \"type\": \"bar\", \"x\": [\"\\u0423\\u0440\\u0430\\u0439\"], \"xaxis\": \"x\", \"y\": [2.0], \"yaxis\": \"y\"}, {\"alignmentgroup\": \"True\", \"hoverlabel\": {\"namelength\": 0}, \"hovertemplate\": \"city=%{x}<br>average_flights=%{y}\", \"legendgroup\": \"city=\\u041c\\u0443\\u0440\\u043c\\u0430\\u043d\\u0441\\u043a\", \"marker\": {\"color\": \"#4a0c6b\"}, \"name\": \"city=\\u041c\\u0443\\u0440\\u043c\\u0430\\u043d\\u0441\\u043a\", \"offsetgroup\": \"city=\\u041c\\u0443\\u0440\\u043c\\u0430\\u043d\\u0441\\u043a\", \"orientation\": \"v\", \"showlegend\": true, \"textposition\": \"auto\", \"type\": \"bar\", \"x\": [\"\\u041c\\u0443\\u0440\\u043c\\u0430\\u043d\\u0441\\u043a\"], \"xaxis\": \"x\", \"y\": [2.0], \"yaxis\": \"y\"}, {\"alignmentgroup\": \"True\", \"hoverlabel\": {\"namelength\": 0}, \"hovertemplate\": \"city=%{x}<br>average_flights=%{y}\", \"legendgroup\": \"city=\\u041a\\u0435\\u043c\\u0435\\u0440\\u043e\\u0432\\u043e\", \"marker\": {\"color\": \"#1b0c41\"}, \"name\": \"city=\\u041a\\u0435\\u043c\\u0435\\u0440\\u043e\\u0432\\u043e\", \"offsetgroup\": \"city=\\u041a\\u0435\\u043c\\u0435\\u0440\\u043e\\u0432\\u043e\", \"orientation\": \"v\", \"showlegend\": true, \"textposition\": \"auto\", \"type\": \"bar\", \"x\": [\"\\u041a\\u0435\\u043c\\u0435\\u0440\\u043e\\u0432\\u043e\"], \"xaxis\": \"x\", \"y\": [2.0], \"yaxis\": \"y\"}, {\"alignmentgroup\": \"True\", \"hoverlabel\": {\"namelength\": 0}, \"hovertemplate\": \"city=%{x}<br>average_flights=%{y}\", \"legendgroup\": \"city=\\u0423\\u043b\\u0430\\u043d-\\u0423\\u0434\\u044d\", \"marker\": {\"color\": \"#000004\"}, \"name\": \"city=\\u0423\\u043b\\u0430\\u043d-\\u0423\\u0434\\u044d\", \"offsetgroup\": \"city=\\u0423\\u043b\\u0430\\u043d-\\u0423\\u0434\\u044d\", \"orientation\": \"v\", \"showlegend\": true, \"textposition\": \"auto\", \"type\": \"bar\", \"x\": [\"\\u0423\\u043b\\u0430\\u043d-\\u0423\\u0434\\u044d\"], \"xaxis\": \"x\", \"y\": [1.608695652173913], \"yaxis\": \"y\"}, {\"alignmentgroup\": \"True\", \"hoverlabel\": {\"namelength\": 0}, \"hovertemplate\": \"city=%{x}<br>average_flights=%{y}\", \"legendgroup\": \"city=\\u041e\\u0440\\u0441\\u043a\", \"marker\": {\"color\": \"#fcffa4\"}, \"name\": \"city=\\u041e\\u0440\\u0441\\u043a\", \"offsetgroup\": \"city=\\u041e\\u0440\\u0441\\u043a\", \"orientation\": \"v\", \"showlegend\": true, \"textposition\": \"auto\", \"type\": \"bar\", \"x\": [\"\\u041e\\u0440\\u0441\\u043a\"], \"xaxis\": \"x\", \"y\": [1.5909090909090908], \"yaxis\": \"y\"}, {\"alignmentgroup\": \"True\", \"hoverlabel\": {\"namelength\": 0}, \"hovertemplate\": \"city=%{x}<br>average_flights=%{y}\", \"legendgroup\": \"city=\\u0427\\u0438\\u0442\\u0430\", \"marker\": {\"color\": \"#f7d13d\"}, \"name\": \"city=\\u0427\\u0438\\u0442\\u0430\", \"offsetgroup\": \"city=\\u0427\\u0438\\u0442\\u0430\", \"orientation\": \"v\", \"showlegend\": true, \"textposition\": \"auto\", \"type\": \"bar\", \"x\": [\"\\u0427\\u0438\\u0442\\u0430\"], \"xaxis\": \"x\", \"y\": [1.5806451612903225], \"yaxis\": \"y\"}, {\"alignmentgroup\": \"True\", \"hoverlabel\": {\"namelength\": 0}, \"hovertemplate\": \"city=%{x}<br>average_flights=%{y}\", \"legendgroup\": \"city=\\u041f\\u0441\\u043a\\u043e\\u0432\", \"marker\": {\"color\": \"#fb9b06\"}, \"name\": \"city=\\u041f\\u0441\\u043a\\u043e\\u0432\", \"offsetgroup\": \"city=\\u041f\\u0441\\u043a\\u043e\\u0432\", \"orientation\": \"v\", \"showlegend\": true, \"textposition\": \"auto\", \"type\": \"bar\", \"x\": [\"\\u041f\\u0441\\u043a\\u043e\\u0432\"], \"xaxis\": \"x\", \"y\": [1.5483870967741935], \"yaxis\": \"y\"}, {\"alignmentgroup\": \"True\", \"hoverlabel\": {\"namelength\": 0}, \"hovertemplate\": \"city=%{x}<br>average_flights=%{y}\", \"legendgroup\": \"city=\\u0413\\u043e\\u0440\\u043d\\u043e-\\u0410\\u043b\\u0442\\u0430\\u0439\\u0441\\u043a\", \"marker\": {\"color\": \"#ed6925\"}, \"name\": \"city=\\u0413\\u043e\\u0440\\u043d\\u043e-\\u0410\\u043b\\u0442\\u0430\\u0439\\u0441\\u043a\", \"offsetgroup\": \"city=\\u0413\\u043e\\u0440\\u043d\\u043e-\\u0410\\u043b\\u0442\\u0430\\u0439\\u0441\\u043a\", \"orientation\": \"v\", \"showlegend\": true, \"textposition\": \"auto\", \"type\": \"bar\", \"x\": [\"\\u0413\\u043e\\u0440\\u043d\\u043e-\\u0410\\u043b\\u0442\\u0430\\u0439\\u0441\\u043a\"], \"xaxis\": \"x\", \"y\": [1.3870967741935485], \"yaxis\": \"y\"}, {\"alignmentgroup\": \"True\", \"hoverlabel\": {\"namelength\": 0}, \"hovertemplate\": \"city=%{x}<br>average_flights=%{y}\", \"legendgroup\": \"city=\\u041c\\u0430\\u0433\\u0430\\u0434\\u0430\\u043d\", \"marker\": {\"color\": \"#cf4446\"}, \"name\": \"city=\\u041c\\u0430\\u0433\\u0430\\u0434\\u0430\\u043d\", \"offsetgroup\": \"city=\\u041c\\u0430\\u0433\\u0430\\u0434\\u0430\\u043d\", \"orientation\": \"v\", \"showlegend\": true, \"textposition\": \"auto\", \"type\": \"bar\", \"x\": [\"\\u041c\\u0430\\u0433\\u0430\\u0434\\u0430\\u043d\"], \"xaxis\": \"x\", \"y\": [1.3571428571428572], \"yaxis\": \"y\"}, {\"alignmentgroup\": \"True\", \"hoverlabel\": {\"namelength\": 0}, \"hovertemplate\": \"city=%{x}<br>average_flights=%{y}\", \"legendgroup\": \"city=\\u042f\\u0440\\u043e\\u0441\\u043b\\u0430\\u0432\\u043b\\u044c\", \"marker\": {\"color\": \"#a52c60\"}, \"name\": \"city=\\u042f\\u0440\\u043e\\u0441\\u043b\\u0430\\u0432\\u043b\\u044c\", \"offsetgroup\": \"city=\\u042f\\u0440\\u043e\\u0441\\u043b\\u0430\\u0432\\u043b\\u044c\", \"orientation\": \"v\", \"showlegend\": true, \"textposition\": \"auto\", \"type\": \"bar\", \"x\": [\"\\u042f\\u0440\\u043e\\u0441\\u043b\\u0430\\u0432\\u043b\\u044c\"], \"xaxis\": \"x\", \"y\": [1.3225806451612905], \"yaxis\": \"y\"}, {\"alignmentgroup\": \"True\", \"hoverlabel\": {\"namelength\": 0}, \"hovertemplate\": \"city=%{x}<br>average_flights=%{y}\", \"legendgroup\": \"city=\\u041b\\u0438\\u043f\\u0435\\u0446\\u043a\", \"marker\": {\"color\": \"#781c6d\"}, \"name\": \"city=\\u041b\\u0438\\u043f\\u0435\\u0446\\u043a\", \"offsetgroup\": \"city=\\u041b\\u0438\\u043f\\u0435\\u0446\\u043a\", \"orientation\": \"v\", \"showlegend\": true, \"textposition\": \"auto\", \"type\": \"bar\", \"x\": [\"\\u041b\\u0438\\u043f\\u0435\\u0446\\u043a\"], \"xaxis\": \"x\", \"y\": [1.2941176470588236], \"yaxis\": \"y\"}, {\"alignmentgroup\": \"True\", \"hoverlabel\": {\"namelength\": 0}, \"hovertemplate\": \"city=%{x}<br>average_flights=%{y}\", \"legendgroup\": \"city=\\u041a\\u044b\\u0437\\u044b\\u043b\", \"marker\": {\"color\": \"#4a0c6b\"}, \"name\": \"city=\\u041a\\u044b\\u0437\\u044b\\u043b\", \"offsetgroup\": \"city=\\u041a\\u044b\\u0437\\u044b\\u043b\", \"orientation\": \"v\", \"showlegend\": true, \"textposition\": \"auto\", \"type\": \"bar\", \"x\": [\"\\u041a\\u044b\\u0437\\u044b\\u043b\"], \"xaxis\": \"x\", \"y\": [1.277777777777778], \"yaxis\": \"y\"}, {\"alignmentgroup\": \"True\", \"hoverlabel\": {\"namelength\": 0}, \"hovertemplate\": \"city=%{x}<br>average_flights=%{y}\", \"legendgroup\": \"city=\\u0413\\u0440\\u043e\\u0437\\u043d\\u044b\\u0439\", \"marker\": {\"color\": \"#1b0c41\"}, \"name\": \"city=\\u0413\\u0440\\u043e\\u0437\\u043d\\u044b\\u0439\", \"offsetgroup\": \"city=\\u0413\\u0440\\u043e\\u0437\\u043d\\u044b\\u0439\", \"orientation\": \"v\", \"showlegend\": true, \"textposition\": \"auto\", \"type\": \"bar\", \"x\": [\"\\u0413\\u0440\\u043e\\u0437\\u043d\\u044b\\u0439\"], \"xaxis\": \"x\", \"y\": [1.129032258064516], \"yaxis\": \"y\"}, {\"alignmentgroup\": \"True\", \"hoverlabel\": {\"namelength\": 0}, \"hovertemplate\": \"city=%{x}<br>average_flights=%{y}\", \"legendgroup\": \"city=\\u0423\\u0441\\u0438\\u043d\\u0441\\u043a\", \"marker\": {\"color\": \"#000004\"}, \"name\": \"city=\\u0423\\u0441\\u0438\\u043d\\u0441\\u043a\", \"offsetgroup\": \"city=\\u0423\\u0441\\u0438\\u043d\\u0441\\u043a\", \"orientation\": \"v\", \"showlegend\": true, \"textposition\": \"auto\", \"type\": \"bar\", \"x\": [\"\\u0423\\u0441\\u0438\\u043d\\u0441\\u043a\"], \"xaxis\": \"x\", \"y\": [1.0], \"yaxis\": \"y\"}, {\"alignmentgroup\": \"True\", \"hoverlabel\": {\"namelength\": 0}, \"hovertemplate\": \"city=%{x}<br>average_flights=%{y}\", \"legendgroup\": \"city=\\u0423\\u0441\\u0442\\u044c-\\u041a\\u0443\\u0442\", \"marker\": {\"color\": \"#fcffa4\"}, \"name\": \"city=\\u0423\\u0441\\u0442\\u044c-\\u041a\\u0443\\u0442\", \"offsetgroup\": \"city=\\u0423\\u0441\\u0442\\u044c-\\u041a\\u0443\\u0442\", \"orientation\": \"v\", \"showlegend\": true, \"textposition\": \"auto\", \"type\": \"bar\", \"x\": [\"\\u0423\\u0441\\u0442\\u044c-\\u041a\\u0443\\u0442\"], \"xaxis\": \"x\", \"y\": [1.0], \"yaxis\": \"y\"}, {\"alignmentgroup\": \"True\", \"hoverlabel\": {\"namelength\": 0}, \"hovertemplate\": \"city=%{x}<br>average_flights=%{y}\", \"legendgroup\": \"city=\\u0421\\u0442\\u0440\\u0435\\u0436\\u0435\\u0432\\u043e\\u0439\", \"marker\": {\"color\": \"#f7d13d\"}, \"name\": \"city=\\u0421\\u0442\\u0440\\u0435\\u0436\\u0435\\u0432\\u043e\\u0439\", \"offsetgroup\": \"city=\\u0421\\u0442\\u0440\\u0435\\u0436\\u0435\\u0432\\u043e\\u0439\", \"orientation\": \"v\", \"showlegend\": true, \"textposition\": \"auto\", \"type\": \"bar\", \"x\": [\"\\u0421\\u0442\\u0440\\u0435\\u0436\\u0435\\u0432\\u043e\\u0439\"], \"xaxis\": \"x\", \"y\": [1.0], \"yaxis\": \"y\"}, {\"alignmentgroup\": \"True\", \"hoverlabel\": {\"namelength\": 0}, \"hovertemplate\": \"city=%{x}<br>average_flights=%{y}\", \"legendgroup\": \"city=\\u0410\\u043d\\u0430\\u0434\\u044b\\u0440\\u044c\", \"marker\": {\"color\": \"#fb9b06\"}, \"name\": \"city=\\u0410\\u043d\\u0430\\u0434\\u044b\\u0440\\u044c\", \"offsetgroup\": \"city=\\u0410\\u043d\\u0430\\u0434\\u044b\\u0440\\u044c\", \"orientation\": \"v\", \"showlegend\": true, \"textposition\": \"auto\", \"type\": \"bar\", \"x\": [\"\\u0410\\u043d\\u0430\\u0434\\u044b\\u0440\\u044c\"], \"xaxis\": \"x\", \"y\": [1.0], \"yaxis\": \"y\"}, {\"alignmentgroup\": \"True\", \"hoverlabel\": {\"namelength\": 0}, \"hovertemplate\": \"city=%{x}<br>average_flights=%{y}\", \"legendgroup\": \"city=\\u0411\\u0440\\u0430\\u0442\\u0441\\u043a\", \"marker\": {\"color\": \"#ed6925\"}, \"name\": \"city=\\u0411\\u0440\\u0430\\u0442\\u0441\\u043a\", \"offsetgroup\": \"city=\\u0411\\u0440\\u0430\\u0442\\u0441\\u043a\", \"orientation\": \"v\", \"showlegend\": true, \"textposition\": \"auto\", \"type\": \"bar\", \"x\": [\"\\u0411\\u0440\\u0430\\u0442\\u0441\\u043a\"], \"xaxis\": \"x\", \"y\": [1.0], \"yaxis\": \"y\"}, {\"alignmentgroup\": \"True\", \"hoverlabel\": {\"namelength\": 0}, \"hovertemplate\": \"city=%{x}<br>average_flights=%{y}\", \"legendgroup\": \"city=\\u0411\\u043b\\u0430\\u0433\\u043e\\u0432\\u0435\\u0449\\u0435\\u043d\\u0441\\u043a\", \"marker\": {\"color\": \"#cf4446\"}, \"name\": \"city=\\u0411\\u043b\\u0430\\u0433\\u043e\\u0432\\u0435\\u0449\\u0435\\u043d\\u0441\\u043a\", \"offsetgroup\": \"city=\\u0411\\u043b\\u0430\\u0433\\u043e\\u0432\\u0435\\u0449\\u0435\\u043d\\u0441\\u043a\", \"orientation\": \"v\", \"showlegend\": true, \"textposition\": \"auto\", \"type\": \"bar\", \"x\": [\"\\u0411\\u043b\\u0430\\u0433\\u043e\\u0432\\u0435\\u0449\\u0435\\u043d\\u0441\\u043a\"], \"xaxis\": \"x\", \"y\": [1.0], \"yaxis\": \"y\"}, {\"alignmentgroup\": \"True\", \"hoverlabel\": {\"namelength\": 0}, \"hovertemplate\": \"city=%{x}<br>average_flights=%{y}\", \"legendgroup\": \"city=\\u0418\\u0432\\u0430\\u043d\\u043e\\u0432\\u043e\", \"marker\": {\"color\": \"#a52c60\"}, \"name\": \"city=\\u0418\\u0432\\u0430\\u043d\\u043e\\u0432\\u043e\", \"offsetgroup\": \"city=\\u0418\\u0432\\u0430\\u043d\\u043e\\u0432\\u043e\", \"orientation\": \"v\", \"showlegend\": true, \"textposition\": \"auto\", \"type\": \"bar\", \"x\": [\"\\u0418\\u0432\\u0430\\u043d\\u043e\\u0432\\u043e\"], \"xaxis\": \"x\", \"y\": [1.0], \"yaxis\": \"y\"}, {\"alignmentgroup\": \"True\", \"hoverlabel\": {\"namelength\": 0}, \"hovertemplate\": \"city=%{x}<br>average_flights=%{y}\", \"legendgroup\": \"city=\\u0418\\u0436\\u0435\\u0432\\u0441\\u043a\", \"marker\": {\"color\": \"#781c6d\"}, \"name\": \"city=\\u0418\\u0436\\u0435\\u0432\\u0441\\u043a\", \"offsetgroup\": \"city=\\u0418\\u0436\\u0435\\u0432\\u0441\\u043a\", \"orientation\": \"v\", \"showlegend\": true, \"textposition\": \"auto\", \"type\": \"bar\", \"x\": [\"\\u0418\\u0436\\u0435\\u0432\\u0441\\u043a\"], \"xaxis\": \"x\", \"y\": [1.0], \"yaxis\": \"y\"}, {\"alignmentgroup\": \"True\", \"hoverlabel\": {\"namelength\": 0}, \"hovertemplate\": \"city=%{x}<br>average_flights=%{y}\", \"legendgroup\": \"city=\\u041f\\u0435\\u0442\\u0440\\u043e\\u043f\\u0430\\u0432\\u043b\\u043e\\u0432\\u0441\\u043a-\\u041a\\u0430\\u043c\\u0447\\u0430\\u0442\\u0441\\u043a\\u0438\\u0439\", \"marker\": {\"color\": \"#4a0c6b\"}, \"name\": \"city=\\u041f\\u0435\\u0442\\u0440\\u043e\\u043f\\u0430\\u0432\\u043b\\u043e\\u0432\\u0441\\u043a-\\u041a\\u0430\\u043c\\u0447\\u0430\\u0442\\u0441\\u043a\\u0438\\u0439\", \"offsetgroup\": \"city=\\u041f\\u0435\\u0442\\u0440\\u043e\\u043f\\u0430\\u0432\\u043b\\u043e\\u0432\\u0441\\u043a-\\u041a\\u0430\\u043c\\u0447\\u0430\\u0442\\u0441\\u043a\\u0438\\u0439\", \"orientation\": \"v\", \"showlegend\": true, \"textposition\": \"auto\", \"type\": \"bar\", \"x\": [\"\\u041f\\u0435\\u0442\\u0440\\u043e\\u043f\\u0430\\u0432\\u043b\\u043e\\u0432\\u0441\\u043a-\\u041a\\u0430\\u043c\\u0447\\u0430\\u0442\\u0441\\u043a\\u0438\\u0439\"], \"xaxis\": \"x\", \"y\": [1.0], \"yaxis\": \"y\"}, {\"alignmentgroup\": \"True\", \"hoverlabel\": {\"namelength\": 0}, \"hovertemplate\": \"city=%{x}<br>average_flights=%{y}\", \"legendgroup\": \"city=\\u041a\\u043e\\u043c\\u0441\\u043e\\u043c\\u043e\\u043b\\u044c\\u0441\\u043a-\\u043d\\u0430-\\u0410\\u043c\\u0443\\u0440\\u0435\", \"marker\": {\"color\": \"#1b0c41\"}, \"name\": \"city=\\u041a\\u043e\\u043c\\u0441\\u043e\\u043c\\u043e\\u043b\\u044c\\u0441\\u043a-\\u043d\\u0430-\\u0410\\u043c\\u0443\\u0440\\u0435\", \"offsetgroup\": \"city=\\u041a\\u043e\\u043c\\u0441\\u043e\\u043c\\u043e\\u043b\\u044c\\u0441\\u043a-\\u043d\\u0430-\\u0410\\u043c\\u0443\\u0440\\u0435\", \"orientation\": \"v\", \"showlegend\": true, \"textposition\": \"auto\", \"type\": \"bar\", \"x\": [\"\\u041a\\u043e\\u043c\\u0441\\u043e\\u043c\\u043e\\u043b\\u044c\\u0441\\u043a-\\u043d\\u0430-\\u0410\\u043c\\u0443\\u0440\\u0435\"], \"xaxis\": \"x\", \"y\": [1.0], \"yaxis\": \"y\"}, {\"alignmentgroup\": \"True\", \"hoverlabel\": {\"namelength\": 0}, \"hovertemplate\": \"city=%{x}<br>average_flights=%{y}\", \"legendgroup\": \"city=\\u041d\\u044f\\u0433\\u0430\\u043d\\u044c\", \"marker\": {\"color\": \"#000004\"}, \"name\": \"city=\\u041d\\u044f\\u0433\\u0430\\u043d\\u044c\", \"offsetgroup\": \"city=\\u041d\\u044f\\u0433\\u0430\\u043d\\u044c\", \"orientation\": \"v\", \"showlegend\": true, \"textposition\": \"auto\", \"type\": \"bar\", \"x\": [\"\\u041d\\u044f\\u0433\\u0430\\u043d\\u044c\"], \"xaxis\": \"x\", \"y\": [1.0], \"yaxis\": \"y\"}, {\"alignmentgroup\": \"True\", \"hoverlabel\": {\"namelength\": 0}, \"hovertemplate\": \"city=%{x}<br>average_flights=%{y}\", \"legendgroup\": \"city=\\u041d\\u0435\\u0444\\u0442\\u0435\\u044e\\u0433\\u0430\\u043d\\u0441\\u043a\", \"marker\": {\"color\": \"#fcffa4\"}, \"name\": \"city=\\u041d\\u0435\\u0444\\u0442\\u0435\\u044e\\u0433\\u0430\\u043d\\u0441\\u043a\", \"offsetgroup\": \"city=\\u041d\\u0435\\u0444\\u0442\\u0435\\u044e\\u0433\\u0430\\u043d\\u0441\\u043a\", \"orientation\": \"v\", \"showlegend\": true, \"textposition\": \"auto\", \"type\": \"bar\", \"x\": [\"\\u041d\\u0435\\u0444\\u0442\\u0435\\u044e\\u0433\\u0430\\u043d\\u0441\\u043a\"], \"xaxis\": \"x\", \"y\": [1.0], \"yaxis\": \"y\"}],\n",
              "                        {\"barmode\": \"relative\", \"legend\": {\"tracegroupgap\": 0}, \"template\": {\"data\": {\"bar\": [{\"error_x\": {\"color\": \"#2a3f5f\"}, \"error_y\": {\"color\": \"#2a3f5f\"}, \"marker\": {\"line\": {\"color\": \"#E5ECF6\", \"width\": 0.5}}, \"type\": \"bar\"}], \"barpolar\": [{\"marker\": {\"line\": {\"color\": \"#E5ECF6\", \"width\": 0.5}}, \"type\": \"barpolar\"}], \"carpet\": [{\"aaxis\": {\"endlinecolor\": \"#2a3f5f\", \"gridcolor\": \"white\", \"linecolor\": \"white\", \"minorgridcolor\": \"white\", \"startlinecolor\": \"#2a3f5f\"}, \"baxis\": {\"endlinecolor\": \"#2a3f5f\", \"gridcolor\": \"white\", \"linecolor\": \"white\", \"minorgridcolor\": \"white\", \"startlinecolor\": \"#2a3f5f\"}, \"type\": \"carpet\"}], \"choropleth\": [{\"colorbar\": {\"outlinewidth\": 0, \"ticks\": \"\"}, \"type\": \"choropleth\"}], \"contour\": [{\"colorbar\": {\"outlinewidth\": 0, \"ticks\": \"\"}, \"colorscale\": [[0.0, \"#0d0887\"], [0.1111111111111111, \"#46039f\"], [0.2222222222222222, \"#7201a8\"], [0.3333333333333333, \"#9c179e\"], [0.4444444444444444, \"#bd3786\"], [0.5555555555555556, \"#d8576b\"], [0.6666666666666666, \"#ed7953\"], [0.7777777777777778, \"#fb9f3a\"], [0.8888888888888888, \"#fdca26\"], [1.0, \"#f0f921\"]], \"type\": \"contour\"}], \"contourcarpet\": [{\"colorbar\": {\"outlinewidth\": 0, \"ticks\": \"\"}, \"type\": \"contourcarpet\"}], \"heatmap\": [{\"colorbar\": {\"outlinewidth\": 0, \"ticks\": \"\"}, \"colorscale\": [[0.0, \"#0d0887\"], [0.1111111111111111, \"#46039f\"], [0.2222222222222222, \"#7201a8\"], [0.3333333333333333, \"#9c179e\"], [0.4444444444444444, \"#bd3786\"], [0.5555555555555556, \"#d8576b\"], [0.6666666666666666, \"#ed7953\"], [0.7777777777777778, \"#fb9f3a\"], [0.8888888888888888, \"#fdca26\"], [1.0, \"#f0f921\"]], \"type\": \"heatmap\"}], \"heatmapgl\": [{\"colorbar\": {\"outlinewidth\": 0, \"ticks\": \"\"}, \"colorscale\": [[0.0, \"#0d0887\"], [0.1111111111111111, \"#46039f\"], [0.2222222222222222, \"#7201a8\"], [0.3333333333333333, \"#9c179e\"], [0.4444444444444444, \"#bd3786\"], [0.5555555555555556, \"#d8576b\"], [0.6666666666666666, \"#ed7953\"], [0.7777777777777778, \"#fb9f3a\"], [0.8888888888888888, \"#fdca26\"], [1.0, \"#f0f921\"]], \"type\": \"heatmapgl\"}], \"histogram\": [{\"marker\": {\"colorbar\": {\"outlinewidth\": 0, \"ticks\": \"\"}}, \"type\": \"histogram\"}], \"histogram2d\": [{\"colorbar\": {\"outlinewidth\": 0, \"ticks\": \"\"}, \"colorscale\": [[0.0, \"#0d0887\"], [0.1111111111111111, \"#46039f\"], [0.2222222222222222, \"#7201a8\"], [0.3333333333333333, \"#9c179e\"], [0.4444444444444444, \"#bd3786\"], [0.5555555555555556, \"#d8576b\"], [0.6666666666666666, \"#ed7953\"], [0.7777777777777778, \"#fb9f3a\"], [0.8888888888888888, \"#fdca26\"], [1.0, \"#f0f921\"]], \"type\": \"histogram2d\"}], \"histogram2dcontour\": [{\"colorbar\": {\"outlinewidth\": 0, \"ticks\": \"\"}, \"colorscale\": [[0.0, \"#0d0887\"], [0.1111111111111111, \"#46039f\"], [0.2222222222222222, \"#7201a8\"], [0.3333333333333333, \"#9c179e\"], [0.4444444444444444, \"#bd3786\"], [0.5555555555555556, \"#d8576b\"], [0.6666666666666666, \"#ed7953\"], [0.7777777777777778, \"#fb9f3a\"], [0.8888888888888888, \"#fdca26\"], [1.0, \"#f0f921\"]], \"type\": \"histogram2dcontour\"}], \"mesh3d\": [{\"colorbar\": {\"outlinewidth\": 0, \"ticks\": \"\"}, \"type\": \"mesh3d\"}], \"parcoords\": [{\"line\": {\"colorbar\": {\"outlinewidth\": 0, \"ticks\": \"\"}}, \"type\": \"parcoords\"}], \"pie\": [{\"automargin\": true, \"type\": \"pie\"}], \"scatter\": [{\"marker\": {\"colorbar\": {\"outlinewidth\": 0, \"ticks\": \"\"}}, \"type\": \"scatter\"}], \"scatter3d\": [{\"line\": {\"colorbar\": {\"outlinewidth\": 0, \"ticks\": \"\"}}, \"marker\": {\"colorbar\": {\"outlinewidth\": 0, \"ticks\": \"\"}}, \"type\": \"scatter3d\"}], \"scattercarpet\": [{\"marker\": {\"colorbar\": {\"outlinewidth\": 0, \"ticks\": \"\"}}, \"type\": \"scattercarpet\"}], \"scattergeo\": [{\"marker\": {\"colorbar\": {\"outlinewidth\": 0, \"ticks\": \"\"}}, \"type\": \"scattergeo\"}], \"scattergl\": [{\"marker\": {\"colorbar\": {\"outlinewidth\": 0, \"ticks\": \"\"}}, \"type\": \"scattergl\"}], \"scattermapbox\": [{\"marker\": {\"colorbar\": {\"outlinewidth\": 0, \"ticks\": \"\"}}, \"type\": \"scattermapbox\"}], \"scatterpolar\": [{\"marker\": {\"colorbar\": {\"outlinewidth\": 0, \"ticks\": \"\"}}, \"type\": \"scatterpolar\"}], \"scatterpolargl\": [{\"marker\": {\"colorbar\": {\"outlinewidth\": 0, \"ticks\": \"\"}}, \"type\": \"scatterpolargl\"}], \"scatterternary\": [{\"marker\": {\"colorbar\": {\"outlinewidth\": 0, \"ticks\": \"\"}}, \"type\": \"scatterternary\"}], \"surface\": [{\"colorbar\": {\"outlinewidth\": 0, \"ticks\": \"\"}, \"colorscale\": [[0.0, \"#0d0887\"], [0.1111111111111111, \"#46039f\"], [0.2222222222222222, \"#7201a8\"], [0.3333333333333333, \"#9c179e\"], [0.4444444444444444, \"#bd3786\"], [0.5555555555555556, \"#d8576b\"], [0.6666666666666666, \"#ed7953\"], [0.7777777777777778, \"#fb9f3a\"], [0.8888888888888888, \"#fdca26\"], [1.0, \"#f0f921\"]], \"type\": \"surface\"}], \"table\": [{\"cells\": {\"fill\": {\"color\": \"#EBF0F8\"}, \"line\": {\"color\": \"white\"}}, \"header\": {\"fill\": {\"color\": \"#C8D4E3\"}, \"line\": {\"color\": \"white\"}}, \"type\": \"table\"}]}, \"layout\": {\"annotationdefaults\": {\"arrowcolor\": \"#2a3f5f\", \"arrowhead\": 0, \"arrowwidth\": 1}, \"coloraxis\": {\"colorbar\": {\"outlinewidth\": 0, \"ticks\": \"\"}}, \"colorscale\": {\"diverging\": [[0, \"#8e0152\"], [0.1, \"#c51b7d\"], [0.2, \"#de77ae\"], [0.3, \"#f1b6da\"], [0.4, \"#fde0ef\"], [0.5, \"#f7f7f7\"], [0.6, \"#e6f5d0\"], [0.7, \"#b8e186\"], [0.8, \"#7fbc41\"], [0.9, \"#4d9221\"], [1, \"#276419\"]], \"sequential\": [[0.0, \"#0d0887\"], [0.1111111111111111, \"#46039f\"], [0.2222222222222222, \"#7201a8\"], [0.3333333333333333, \"#9c179e\"], [0.4444444444444444, \"#bd3786\"], [0.5555555555555556, \"#d8576b\"], [0.6666666666666666, \"#ed7953\"], [0.7777777777777778, \"#fb9f3a\"], [0.8888888888888888, \"#fdca26\"], [1.0, \"#f0f921\"]], \"sequentialminus\": [[0.0, \"#0d0887\"], [0.1111111111111111, \"#46039f\"], [0.2222222222222222, \"#7201a8\"], [0.3333333333333333, \"#9c179e\"], [0.4444444444444444, \"#bd3786\"], [0.5555555555555556, \"#d8576b\"], [0.6666666666666666, \"#ed7953\"], [0.7777777777777778, \"#fb9f3a\"], [0.8888888888888888, \"#fdca26\"], [1.0, \"#f0f921\"]]}, \"colorway\": [\"#636efa\", \"#EF553B\", \"#00cc96\", \"#ab63fa\", \"#FFA15A\", \"#19d3f3\", \"#FF6692\", \"#B6E880\", \"#FF97FF\", \"#FECB52\"], \"font\": {\"color\": \"#2a3f5f\"}, \"geo\": {\"bgcolor\": \"white\", \"lakecolor\": \"white\", \"landcolor\": \"#E5ECF6\", \"showlakes\": true, \"showland\": true, \"subunitcolor\": \"white\"}, \"hoverlabel\": {\"align\": \"left\"}, \"hovermode\": \"closest\", \"mapbox\": {\"style\": \"light\"}, \"paper_bgcolor\": \"white\", \"plot_bgcolor\": \"#E5ECF6\", \"polar\": {\"angularaxis\": {\"gridcolor\": \"white\", \"linecolor\": \"white\", \"ticks\": \"\"}, \"bgcolor\": \"#E5ECF6\", \"radialaxis\": {\"gridcolor\": \"white\", \"linecolor\": \"white\", \"ticks\": \"\"}}, \"scene\": {\"xaxis\": {\"backgroundcolor\": \"#E5ECF6\", \"gridcolor\": \"white\", \"gridwidth\": 2, \"linecolor\": \"white\", \"showbackground\": true, \"ticks\": \"\", \"zerolinecolor\": \"white\"}, \"yaxis\": {\"backgroundcolor\": \"#E5ECF6\", \"gridcolor\": \"white\", \"gridwidth\": 2, \"linecolor\": \"white\", \"showbackground\": true, \"ticks\": \"\", \"zerolinecolor\": \"white\"}, \"zaxis\": {\"backgroundcolor\": \"#E5ECF6\", \"gridcolor\": \"white\", \"gridwidth\": 2, \"linecolor\": \"white\", \"showbackground\": true, \"ticks\": \"\", \"zerolinecolor\": \"white\"}}, \"shapedefaults\": {\"line\": {\"color\": \"#2a3f5f\"}}, \"ternary\": {\"aaxis\": {\"gridcolor\": \"white\", \"linecolor\": \"white\", \"ticks\": \"\"}, \"baxis\": {\"gridcolor\": \"white\", \"linecolor\": \"white\", \"ticks\": \"\"}, \"bgcolor\": \"#E5ECF6\", \"caxis\": {\"gridcolor\": \"white\", \"linecolor\": \"white\", \"ticks\": \"\"}}, \"title\": {\"x\": 0.05}, \"xaxis\": {\"automargin\": true, \"gridcolor\": \"white\", \"linecolor\": \"white\", \"ticks\": \"\", \"title\": {\"standoff\": 15}, \"zerolinecolor\": \"white\", \"zerolinewidth\": 2}, \"yaxis\": {\"automargin\": true, \"gridcolor\": \"white\", \"linecolor\": \"white\", \"ticks\": \"\", \"title\": {\"standoff\": 15}, \"zerolinecolor\": \"white\", \"zerolinewidth\": 2}}}, \"title\": {\"text\": \"\\u0413\\u0440\\u0430\\u0444\\u0438\\u043a \\u043f\\u043e\\u043f\\u0443\\u043b\\u044f\\u0440\\u043d\\u043e\\u0441\\u0442\\u0438 \\u0440\\u0430\\u0437\\u043b\\u0438\\u0447\\u043d\\u044b\\u0445 \\u043f\\u0443\\u043d\\u043a\\u0442\\u043e\\u0432 \\u043d\\u0430\\u0437\\u043d\\u0430\\u0447\\u0435\\u043d\\u0438\\u044f\"}, \"xaxis\": {\"anchor\": \"y\", \"categoryarray\": [\"\\u041c\\u043e\\u0441\\u043a\\u0432\\u0430\", \"\\u0421\\u0430\\u043d\\u043a\\u0442-\\u041f\\u0435\\u0442\\u0435\\u0440\\u0431\\u0443\\u0440\\u0433\", \"\\u041d\\u043e\\u0432\\u043e\\u0441\\u0438\\u0431\\u0438\\u0440\\u0441\\u043a\", \"\\u041a\\u0440\\u0430\\u0441\\u043d\\u043e\\u044f\\u0440\\u0441\\u043a\", \"\\u0415\\u043a\\u0430\\u0442\\u0435\\u0440\\u0438\\u043d\\u0431\\u0443\\u0440\\u0433\", \"\\u0420\\u043e\\u0441\\u0442\\u043e\\u0432-\\u043d\\u0430-\\u0414\\u043e\\u043d\\u0443\", \"\\u041f\\u0435\\u0440\\u043c\\u044c\", \"\\u0411\\u0440\\u044f\\u043d\\u0441\\u043a\", \"\\u0421\\u043e\\u0447\\u0438\", \"\\u0423\\u043b\\u044c\\u044f\\u043d\\u043e\\u0432\\u0441\\u043a\", \"\\u0421\\u043e\\u0432\\u0435\\u0442\\u0441\\u043a\\u0438\\u0439\", \"\\u0421\\u0443\\u0440\\u0433\\u0443\\u0442\", \"\\u0425\\u0430\\u043d\\u0442\\u044b-\\u041c\\u0430\\u043d\\u0441\\u0438\\u0439\\u0441\\u043a\", \"\\u041d\\u043e\\u0432\\u044b\\u0439 \\u0423\\u0440\\u0435\\u043d\\u0433\\u043e\\u0439\", \"\\u041a\\u0430\\u0437\\u0430\\u043d\\u044c\", \"\\u0422\\u044e\\u043c\\u0435\\u043d\\u044c\", \"\\u0427\\u0435\\u043b\\u044f\\u0431\\u0438\\u043d\\u0441\\u043a\", \"\\u0425\\u0430\\u0431\\u0430\\u0440\\u043e\\u0432\\u0441\\u043a\", \"\\u0423\\u0444\\u0430\", \"\\u041c\\u0438\\u0440\\u043d\\u044b\\u0439\", \"\\u041d\\u043e\\u0432\\u043e\\u043a\\u0443\\u0437\\u043d\\u0435\\u0446\\u043a\", \"\\u0418\\u0440\\u043a\\u0443\\u0442\\u0441\\u043a\", \"\\u0411\\u0435\\u043b\\u0433\\u043e\\u0440\\u043e\\u0434\", \"\\u041a\\u0438\\u0440\\u043e\\u0432\", \"\\u041d\\u0438\\u0436\\u043d\\u0438\\u0439 \\u041d\\u043e\\u0432\\u0433\\u043e\\u0440\\u043e\\u0434\", \"\\u041f\\u0435\\u0442\\u0440\\u043e\\u0437\\u0430\\u0432\\u043e\\u0434\\u0441\\u043a\", \"\\u0410\\u0440\\u0445\\u0430\\u043d\\u0433\\u0435\\u043b\\u044c\\u0441\\u043a\", \"\\u0412\\u043e\\u043b\\u0433\\u043e\\u0433\\u0440\\u0430\\u0434\", \"\\u041e\\u0440\\u0435\\u043d\\u0431\\u0443\\u0440\\u0433\", \"\\u0427\\u0435\\u0431\\u043e\\u043a\\u0441\\u0430\\u0440\\u044b\", \"\\u042d\\u043b\\u0438\\u0441\\u0442\\u0430\", \"\\u0412\\u043e\\u0440\\u043a\\u0443\\u0442\\u0430\", \"\\u0419\\u043e\\u0448\\u043a\\u0430\\u0440-\\u041e\\u043b\\u0430\", \"\\u042e\\u0436\\u043d\\u043e-\\u0421\\u0430\\u0445\\u0430\\u043b\\u0438\\u043d\\u0441\\u043a\", \"\\u0422\\u043e\\u043c\\u0441\\u043a\", \"\\u0421\\u044b\\u043a\\u0442\\u044b\\u0432\\u043a\\u0430\\u0440\", \"\\u041f\\u0435\\u043d\\u0437\\u0430\", \"\\u0421\\u0430\\u0440\\u0430\\u0442\\u043e\\u0432\", \"\\u041c\\u0430\\u0433\\u043d\\u0438\\u0442\\u043e\\u0433\\u043e\\u0440\\u0441\\u043a\", \"\\u0422\\u0430\\u043c\\u0431\\u043e\\u0432\", \"\\u041a\\u0440\\u0430\\u0441\\u043d\\u043e\\u0434\\u0430\\u0440\", \"\\u0410\\u0431\\u0430\\u043a\\u0430\\u043d\", \"\\u041d\\u0438\\u0436\\u043d\\u0435\\u043a\\u0430\\u043c\\u0441\\u043a\", \"\\u041a\\u0443\\u0440\\u0433\\u0430\\u043d\", \"\\u041c\\u0438\\u043d\\u0435\\u0440\\u0430\\u043b\\u044c\\u043d\\u044b\\u0435 \\u0412\\u043e\\u0434\\u044b\", \"\\u041e\\u043c\\u0441\\u043a\", \"\\u041c\\u0430\\u0445\\u0430\\u0447\\u043a\\u0430\\u043b\\u0430\", \"\\u041a\\u043e\\u0433\\u0430\\u043b\\u044b\\u043c\", \"\\u041d\\u0438\\u0436\\u043d\\u0435\\u0432\\u0430\\u0440\\u0442\\u043e\\u0432\\u0441\\u043a\", \"\\u0412\\u043b\\u0430\\u0434\\u0438\\u0432\\u043e\\u0441\\u0442\\u043e\\u043a\", \"\\u0421\\u0430\\u043c\\u0430\\u0440\\u0430\", \"\\u041d\\u0430\\u043b\\u044c\\u0447\\u0438\\u043a\", \"\\u0423\\u0445\\u0442\\u0430\", \"\\u0423\\u0434\\u0430\\u0447\\u043d\\u044b\\u0439\", \"\\u0411\\u0443\\u0433\\u0443\\u043b\\u044c\\u043c\\u0430\", \"\\u041d\\u043e\\u044f\\u0431\\u0440\\u044c\\u0441\\u043a\", \"\\u0423\\u0441\\u0442\\u044c-\\u0418\\u043b\\u0438\\u043c\\u0441\\u043a\", \"\\u042f\\u043a\\u0443\\u0442\\u0441\\u043a\", \"\\u0411\\u0430\\u0440\\u043d\\u0430\\u0443\\u043b\", \"\\u041d\\u0430\\u0440\\u044c\\u044f\\u043d-\\u041c\\u0430\\u0440\", \"\\u0413\\u0435\\u043b\\u0435\\u043d\\u0434\\u0436\\u0438\\u043a\", \"\\u041a\\u0430\\u043b\\u0438\\u043d\\u0438\\u043d\\u0433\\u0440\\u0430\\u0434\", \"\\u041d\\u0435\\u0440\\u044e\\u043d\\u0433\\u0440\\u0438\", \"\\u0410\\u0441\\u0442\\u0440\\u0430\\u0445\\u0430\\u043d\\u044c\", \"\\u041a\\u0443\\u0440\\u0441\\u043a\", \"\\u041d\\u043e\\u0440\\u0438\\u043b\\u044c\\u0441\\u043a\", \"\\u041d\\u0430\\u0434\\u044b\\u043c\", \"\\u0410\\u043d\\u0430\\u043f\\u0430\", \"\\u0427\\u0435\\u0440\\u0435\\u043f\\u043e\\u0432\\u0435\\u0446\", \"\\u041a\\u0430\\u043b\\u0443\\u0433\\u0430\", \"\\u0412\\u043b\\u0430\\u0434\\u0438\\u043a\\u0430\\u0432\\u043a\\u0430\\u0437\", \"\\u0411\\u0435\\u043b\\u043e\\u044f\\u0440\\u0441\\u043a\\u0438\\u0439\", \"\\u0412\\u043e\\u0440\\u043e\\u043d\\u0435\\u0436\", \"\\u0421\\u0442\\u0430\\u0432\\u0440\\u043e\\u043f\\u043e\\u043b\\u044c\", \"\\u0421\\u0430\\u0440\\u0430\\u043d\\u0441\\u043a\", \"\\u0421\\u0430\\u043b\\u0435\\u0445\\u0430\\u0440\\u0434\", \"\\u0423\\u0440\\u0430\\u0439\", \"\\u041c\\u0443\\u0440\\u043c\\u0430\\u043d\\u0441\\u043a\", \"\\u041a\\u0435\\u043c\\u0435\\u0440\\u043e\\u0432\\u043e\", \"\\u0423\\u043b\\u0430\\u043d-\\u0423\\u0434\\u044d\", \"\\u041e\\u0440\\u0441\\u043a\", \"\\u0427\\u0438\\u0442\\u0430\", \"\\u041f\\u0441\\u043a\\u043e\\u0432\", \"\\u0413\\u043e\\u0440\\u043d\\u043e-\\u0410\\u043b\\u0442\\u0430\\u0439\\u0441\\u043a\", \"\\u041c\\u0430\\u0433\\u0430\\u0434\\u0430\\u043d\", \"\\u042f\\u0440\\u043e\\u0441\\u043b\\u0430\\u0432\\u043b\\u044c\", \"\\u041b\\u0438\\u043f\\u0435\\u0446\\u043a\", \"\\u041a\\u044b\\u0437\\u044b\\u043b\", \"\\u0413\\u0440\\u043e\\u0437\\u043d\\u044b\\u0439\", \"\\u0423\\u0441\\u0438\\u043d\\u0441\\u043a\", \"\\u0423\\u0441\\u0442\\u044c-\\u041a\\u0443\\u0442\", \"\\u0421\\u0442\\u0440\\u0435\\u0436\\u0435\\u0432\\u043e\\u0439\", \"\\u0410\\u043d\\u0430\\u0434\\u044b\\u0440\\u044c\", \"\\u0411\\u0440\\u0430\\u0442\\u0441\\u043a\", \"\\u0411\\u043b\\u0430\\u0433\\u043e\\u0432\\u0435\\u0449\\u0435\\u043d\\u0441\\u043a\", \"\\u0418\\u0432\\u0430\\u043d\\u043e\\u0432\\u043e\", \"\\u0418\\u0436\\u0435\\u0432\\u0441\\u043a\", \"\\u041f\\u0435\\u0442\\u0440\\u043e\\u043f\\u0430\\u0432\\u043b\\u043e\\u0432\\u0441\\u043a-\\u041a\\u0430\\u043c\\u0447\\u0430\\u0442\\u0441\\u043a\\u0438\\u0439\", \"\\u041a\\u043e\\u043c\\u0441\\u043e\\u043c\\u043e\\u043b\\u044c\\u0441\\u043a-\\u043d\\u0430-\\u0410\\u043c\\u0443\\u0440\\u0435\", \"\\u041d\\u044f\\u0433\\u0430\\u043d\\u044c\", \"\\u041d\\u0435\\u0444\\u0442\\u0435\\u044e\\u0433\\u0430\\u043d\\u0441\\u043a\"], \"categoryorder\": \"array\", \"domain\": [0.0, 1.0], \"title\": {\"text\": \"city\"}}, \"yaxis\": {\"anchor\": \"x\", \"domain\": [0.0, 1.0], \"title\": {\"text\": \"average_flights\"}}},\n",
              "                        {\"responsive\": true}\n",
              "                    ).then(function(){\n",
              "                            \n",
              "var gd = document.getElementById('44108ed7-e33c-4d38-acaf-13196463dc18');\n",
              "var x = new MutationObserver(function (mutations, observer) {{\n",
              "        var display = window.getComputedStyle(gd).display;\n",
              "        if (!display || display === 'none') {{\n",
              "            console.log([gd, 'removed!']);\n",
              "            Plotly.purge(gd);\n",
              "            observer.disconnect();\n",
              "        }}\n",
              "}});\n",
              "\n",
              "// Listen for the removal of the full notebook cells\n",
              "var notebookContainer = gd.closest('#notebook-container');\n",
              "if (notebookContainer) {{\n",
              "    x.observe(notebookContainer, {childList: true});\n",
              "}}\n",
              "\n",
              "// Listen for the clearing of the current output cell\n",
              "var outputEl = gd.closest('.output');\n",
              "if (outputEl) {{\n",
              "    x.observe(outputEl, {childList: true});\n",
              "}}\n",
              "\n",
              "                        })\n",
              "                };\n",
              "                \n",
              "            </script>\n",
              "        </div>\n",
              "</body>\n",
              "</html>"
            ]
          },
          "metadata": {
            "tags": []
          }
        }
      ]
    },
    {
      "cell_type": "markdown",
      "metadata": {
        "id": "zd_0i9I55P4K"
      },
      "source": [
        "Интересно, что Казань значительно отстоит от Екатеринбурга (7,7 против 11,3), хотя города сопоставимы по размерам и численности. Вероятно это связано с географическим положением, из западной части РФ до Екб быстрее добираться на самолёте. Пермь, занимающая промежуточное географическое положение между вышеназванными городами, имеет показатель 10,1. Однако Ульяновск, находящийся почти на одной долготе с Казанью, имеет показатель 9,58, следовательно имеются и иные факторы влияния, не связанные с географическим положением."
      ]
    },
    {
      "cell_type": "markdown",
      "metadata": {
        "id": "6d082XqvIhkQ"
      },
      "source": [
        "![1.png](data:image/png;base64,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)"
      ]
    },
    {
      "cell_type": "markdown",
      "metadata": {
        "id": "Ahc0F_9zIri8"
      },
      "source": [
        "Самыми популярными пунктами назначения являются Москва и Санкт-Петербург (какая неожиданность:)."
      ]
    },
    {
      "cell_type": "code",
      "metadata": {
        "colab": {
          "base_uri": "https://localhost:8080/",
          "height": 105
        },
        "id": "ZDEym9Re5_ke",
        "outputId": "1a9a3918-bcd2-4e14-ab2e-cceb0036a99c"
      },
      "source": [
        "# Home region.\n",
        "cities[(cities['city'] == 'Сыктывкар') |\n",
        "       (cities['city'] == 'Ухта')]"
      ],
      "execution_count": null,
      "outputs": [
        {
          "output_type": "execute_result",
          "data": {
            "text/html": [
              "<div>\n",
              "<style scoped>\n",
              "    .dataframe tbody tr th:only-of-type {\n",
              "        vertical-align: middle;\n",
              "    }\n",
              "\n",
              "    .dataframe tbody tr th {\n",
              "        vertical-align: top;\n",
              "    }\n",
              "\n",
              "    .dataframe thead th {\n",
              "        text-align: right;\n",
              "    }\n",
              "</style>\n",
              "<table border=\"1\" class=\"dataframe\">\n",
              "  <thead>\n",
              "    <tr style=\"text-align: right;\">\n",
              "      <th></th>\n",
              "      <th>city</th>\n",
              "      <th>average_flights</th>\n",
              "    </tr>\n",
              "  </thead>\n",
              "  <tbody>\n",
              "    <tr>\n",
              "      <th>78</th>\n",
              "      <td>Сыктывкар</td>\n",
              "      <td>4.129032</td>\n",
              "    </tr>\n",
              "    <tr>\n",
              "      <th>90</th>\n",
              "      <td>Ухта</td>\n",
              "      <td>3.000000</td>\n",
              "    </tr>\n",
              "  </tbody>\n",
              "</table>\n",
              "</div>"
            ],
            "text/plain": [
              "         city  average_flights\n",
              "78  Сыктывкар         4.129032\n",
              "90       Ухта         3.000000"
            ]
          },
          "metadata": {
            "tags": []
          },
          "execution_count": 31
        }
      ]
    },
    {
      "cell_type": "markdown",
      "metadata": {
        "id": "9KvjBj-ZVww6"
      },
      "source": [
        "### **1.4.3 Festivales**"
      ]
    },
    {
      "cell_type": "code",
      "metadata": {
        "colab": {
          "base_uri": "https://localhost:8080/",
          "height": 335
        },
        "id": "IRvvsboDV9Ba",
        "outputId": "58f12227-cc27-44c2-9530-457a88a787b3"
      },
      "source": [
        "festivales"
      ],
      "execution_count": null,
      "outputs": [
        {
          "output_type": "execute_result",
          "data": {
            "text/html": [
              "<div>\n",
              "<style scoped>\n",
              "    .dataframe tbody tr th:only-of-type {\n",
              "        vertical-align: middle;\n",
              "    }\n",
              "\n",
              "    .dataframe tbody tr th {\n",
              "        vertical-align: top;\n",
              "    }\n",
              "\n",
              "    .dataframe thead th {\n",
              "        text-align: right;\n",
              "    }\n",
              "</style>\n",
              "<table border=\"1\" class=\"dataframe\">\n",
              "  <thead>\n",
              "    <tr style=\"text-align: right;\">\n",
              "      <th></th>\n",
              "      <th>week_number</th>\n",
              "      <th>ticket_amount</th>\n",
              "      <th>festival_week</th>\n",
              "      <th>festival_name</th>\n",
              "    </tr>\n",
              "  </thead>\n",
              "  <tbody>\n",
              "    <tr>\n",
              "      <th>0</th>\n",
              "      <td>30</td>\n",
              "      <td>43568</td>\n",
              "      <td>30.0</td>\n",
              "      <td>Park Live</td>\n",
              "    </tr>\n",
              "    <tr>\n",
              "      <th>1</th>\n",
              "      <td>31</td>\n",
              "      <td>51034</td>\n",
              "      <td>31.0</td>\n",
              "      <td>Пикник Афиши</td>\n",
              "    </tr>\n",
              "    <tr>\n",
              "      <th>2</th>\n",
              "      <td>32</td>\n",
              "      <td>51675</td>\n",
              "      <td>NaN</td>\n",
              "      <td>NaN</td>\n",
              "    </tr>\n",
              "    <tr>\n",
              "      <th>3</th>\n",
              "      <td>33</td>\n",
              "      <td>51378</td>\n",
              "      <td>NaN</td>\n",
              "      <td>NaN</td>\n",
              "    </tr>\n",
              "    <tr>\n",
              "      <th>4</th>\n",
              "      <td>34</td>\n",
              "      <td>51492</td>\n",
              "      <td>NaN</td>\n",
              "      <td>NaN</td>\n",
              "    </tr>\n",
              "    <tr>\n",
              "      <th>5</th>\n",
              "      <td>35</td>\n",
              "      <td>51360</td>\n",
              "      <td>NaN</td>\n",
              "      <td>NaN</td>\n",
              "    </tr>\n",
              "    <tr>\n",
              "      <th>6</th>\n",
              "      <td>36</td>\n",
              "      <td>51386</td>\n",
              "      <td>36.0</td>\n",
              "      <td>Видфест</td>\n",
              "    </tr>\n",
              "    <tr>\n",
              "      <th>7</th>\n",
              "      <td>37</td>\n",
              "      <td>51670</td>\n",
              "      <td>NaN</td>\n",
              "      <td>NaN</td>\n",
              "    </tr>\n",
              "    <tr>\n",
              "      <th>8</th>\n",
              "      <td>38</td>\n",
              "      <td>51518</td>\n",
              "      <td>NaN</td>\n",
              "      <td>NaN</td>\n",
              "    </tr>\n",
              "    <tr>\n",
              "      <th>9</th>\n",
              "      <td>39</td>\n",
              "      <td>51623</td>\n",
              "      <td>NaN</td>\n",
              "      <td>NaN</td>\n",
              "    </tr>\n",
              "  </tbody>\n",
              "</table>\n",
              "</div>"
            ],
            "text/plain": [
              "   week_number  ticket_amount  festival_week festival_name\n",
              "0           30          43568           30.0     Park Live\n",
              "1           31          51034           31.0  Пикник Афиши\n",
              "2           32          51675            NaN           NaN\n",
              "3           33          51378            NaN           NaN\n",
              "4           34          51492            NaN           NaN\n",
              "5           35          51360            NaN           NaN\n",
              "6           36          51386           36.0       Видфест\n",
              "7           37          51670            NaN           NaN\n",
              "8           38          51518            NaN           NaN\n",
              "9           39          51623            NaN           NaN"
            ]
          },
          "metadata": {
            "tags": []
          },
          "execution_count": 32
        }
      ]
    },
    {
      "cell_type": "markdown",
      "metadata": {
        "id": "xrB-lSivXtrX"
      },
      "source": [
        "Предлагается заменить пропуски:\n",
        "- festival_week: 0;\n",
        "- festival_name: '-'."
      ]
    },
    {
      "cell_type": "code",
      "metadata": {
        "colab": {
          "base_uri": "https://localhost:8080/",
          "height": 335
        },
        "id": "X583AgO5YEwt",
        "outputId": "e0d92e13-385a-47b6-b160-3ba2dbe7e69d"
      },
      "source": [
        "# Filling nans.\n",
        "festivales['festival_week'] = festivales['festival_week'].fillna(0)\n",
        "festivales['festival_name'] = festivales['festival_name'].fillna('-')\n",
        "festivales"
      ],
      "execution_count": null,
      "outputs": [
        {
          "output_type": "execute_result",
          "data": {
            "text/html": [
              "<div>\n",
              "<style scoped>\n",
              "    .dataframe tbody tr th:only-of-type {\n",
              "        vertical-align: middle;\n",
              "    }\n",
              "\n",
              "    .dataframe tbody tr th {\n",
              "        vertical-align: top;\n",
              "    }\n",
              "\n",
              "    .dataframe thead th {\n",
              "        text-align: right;\n",
              "    }\n",
              "</style>\n",
              "<table border=\"1\" class=\"dataframe\">\n",
              "  <thead>\n",
              "    <tr style=\"text-align: right;\">\n",
              "      <th></th>\n",
              "      <th>week_number</th>\n",
              "      <th>ticket_amount</th>\n",
              "      <th>festival_week</th>\n",
              "      <th>festival_name</th>\n",
              "    </tr>\n",
              "  </thead>\n",
              "  <tbody>\n",
              "    <tr>\n",
              "      <th>0</th>\n",
              "      <td>30</td>\n",
              "      <td>43568</td>\n",
              "      <td>30.0</td>\n",
              "      <td>Park Live</td>\n",
              "    </tr>\n",
              "    <tr>\n",
              "      <th>1</th>\n",
              "      <td>31</td>\n",
              "      <td>51034</td>\n",
              "      <td>31.0</td>\n",
              "      <td>Пикник Афиши</td>\n",
              "    </tr>\n",
              "    <tr>\n",
              "      <th>2</th>\n",
              "      <td>32</td>\n",
              "      <td>51675</td>\n",
              "      <td>0.0</td>\n",
              "      <td>-</td>\n",
              "    </tr>\n",
              "    <tr>\n",
              "      <th>3</th>\n",
              "      <td>33</td>\n",
              "      <td>51378</td>\n",
              "      <td>0.0</td>\n",
              "      <td>-</td>\n",
              "    </tr>\n",
              "    <tr>\n",
              "      <th>4</th>\n",
              "      <td>34</td>\n",
              "      <td>51492</td>\n",
              "      <td>0.0</td>\n",
              "      <td>-</td>\n",
              "    </tr>\n",
              "    <tr>\n",
              "      <th>5</th>\n",
              "      <td>35</td>\n",
              "      <td>51360</td>\n",
              "      <td>0.0</td>\n",
              "      <td>-</td>\n",
              "    </tr>\n",
              "    <tr>\n",
              "      <th>6</th>\n",
              "      <td>36</td>\n",
              "      <td>51386</td>\n",
              "      <td>36.0</td>\n",
              "      <td>Видфест</td>\n",
              "    </tr>\n",
              "    <tr>\n",
              "      <th>7</th>\n",
              "      <td>37</td>\n",
              "      <td>51670</td>\n",
              "      <td>0.0</td>\n",
              "      <td>-</td>\n",
              "    </tr>\n",
              "    <tr>\n",
              "      <th>8</th>\n",
              "      <td>38</td>\n",
              "      <td>51518</td>\n",
              "      <td>0.0</td>\n",
              "      <td>-</td>\n",
              "    </tr>\n",
              "    <tr>\n",
              "      <th>9</th>\n",
              "      <td>39</td>\n",
              "      <td>51623</td>\n",
              "      <td>0.0</td>\n",
              "      <td>-</td>\n",
              "    </tr>\n",
              "  </tbody>\n",
              "</table>\n",
              "</div>"
            ],
            "text/plain": [
              "   week_number  ticket_amount  festival_week festival_name\n",
              "0           30          43568           30.0     Park Live\n",
              "1           31          51034           31.0  Пикник Афиши\n",
              "2           32          51675            0.0             -\n",
              "3           33          51378            0.0             -\n",
              "4           34          51492            0.0             -\n",
              "5           35          51360            0.0             -\n",
              "6           36          51386           36.0       Видфест\n",
              "7           37          51670            0.0             -\n",
              "8           38          51518            0.0             -\n",
              "9           39          51623            0.0             -"
            ]
          },
          "metadata": {
            "tags": []
          },
          "execution_count": 33
        }
      ]
    },
    {
      "cell_type": "code",
      "metadata": {
        "colab": {
          "base_uri": "https://localhost:8080/",
          "height": 335
        },
        "id": "O6AFp7vVYo5z",
        "outputId": "9bc51f87-71fd-474e-825d-548d880aac17"
      },
      "source": [
        "# Add 'is_fest'.\n",
        "festivales['is_fest'] = festivales['festival_week'].where(festivales['festival_week'] == 0, 1)\n",
        "festivales"
      ],
      "execution_count": null,
      "outputs": [
        {
          "output_type": "execute_result",
          "data": {
            "text/html": [
              "<div>\n",
              "<style scoped>\n",
              "    .dataframe tbody tr th:only-of-type {\n",
              "        vertical-align: middle;\n",
              "    }\n",
              "\n",
              "    .dataframe tbody tr th {\n",
              "        vertical-align: top;\n",
              "    }\n",
              "\n",
              "    .dataframe thead th {\n",
              "        text-align: right;\n",
              "    }\n",
              "</style>\n",
              "<table border=\"1\" class=\"dataframe\">\n",
              "  <thead>\n",
              "    <tr style=\"text-align: right;\">\n",
              "      <th></th>\n",
              "      <th>week_number</th>\n",
              "      <th>ticket_amount</th>\n",
              "      <th>festival_week</th>\n",
              "      <th>festival_name</th>\n",
              "      <th>is_fest</th>\n",
              "    </tr>\n",
              "  </thead>\n",
              "  <tbody>\n",
              "    <tr>\n",
              "      <th>0</th>\n",
              "      <td>30</td>\n",
              "      <td>43568</td>\n",
              "      <td>30.0</td>\n",
              "      <td>Park Live</td>\n",
              "      <td>1.0</td>\n",
              "    </tr>\n",
              "    <tr>\n",
              "      <th>1</th>\n",
              "      <td>31</td>\n",
              "      <td>51034</td>\n",
              "      <td>31.0</td>\n",
              "      <td>Пикник Афиши</td>\n",
              "      <td>1.0</td>\n",
              "    </tr>\n",
              "    <tr>\n",
              "      <th>2</th>\n",
              "      <td>32</td>\n",
              "      <td>51675</td>\n",
              "      <td>0.0</td>\n",
              "      <td>-</td>\n",
              "      <td>0.0</td>\n",
              "    </tr>\n",
              "    <tr>\n",
              "      <th>3</th>\n",
              "      <td>33</td>\n",
              "      <td>51378</td>\n",
              "      <td>0.0</td>\n",
              "      <td>-</td>\n",
              "      <td>0.0</td>\n",
              "    </tr>\n",
              "    <tr>\n",
              "      <th>4</th>\n",
              "      <td>34</td>\n",
              "      <td>51492</td>\n",
              "      <td>0.0</td>\n",
              "      <td>-</td>\n",
              "      <td>0.0</td>\n",
              "    </tr>\n",
              "    <tr>\n",
              "      <th>5</th>\n",
              "      <td>35</td>\n",
              "      <td>51360</td>\n",
              "      <td>0.0</td>\n",
              "      <td>-</td>\n",
              "      <td>0.0</td>\n",
              "    </tr>\n",
              "    <tr>\n",
              "      <th>6</th>\n",
              "      <td>36</td>\n",
              "      <td>51386</td>\n",
              "      <td>36.0</td>\n",
              "      <td>Видфест</td>\n",
              "      <td>1.0</td>\n",
              "    </tr>\n",
              "    <tr>\n",
              "      <th>7</th>\n",
              "      <td>37</td>\n",
              "      <td>51670</td>\n",
              "      <td>0.0</td>\n",
              "      <td>-</td>\n",
              "      <td>0.0</td>\n",
              "    </tr>\n",
              "    <tr>\n",
              "      <th>8</th>\n",
              "      <td>38</td>\n",
              "      <td>51518</td>\n",
              "      <td>0.0</td>\n",
              "      <td>-</td>\n",
              "      <td>0.0</td>\n",
              "    </tr>\n",
              "    <tr>\n",
              "      <th>9</th>\n",
              "      <td>39</td>\n",
              "      <td>51623</td>\n",
              "      <td>0.0</td>\n",
              "      <td>-</td>\n",
              "      <td>0.0</td>\n",
              "    </tr>\n",
              "  </tbody>\n",
              "</table>\n",
              "</div>"
            ],
            "text/plain": [
              "   week_number  ticket_amount  festival_week festival_name  is_fest\n",
              "0           30          43568           30.0     Park Live      1.0\n",
              "1           31          51034           31.0  Пикник Афиши      1.0\n",
              "2           32          51675            0.0             -      0.0\n",
              "3           33          51378            0.0             -      0.0\n",
              "4           34          51492            0.0             -      0.0\n",
              "5           35          51360            0.0             -      0.0\n",
              "6           36          51386           36.0       Видфест      1.0\n",
              "7           37          51670            0.0             -      0.0\n",
              "8           38          51518            0.0             -      0.0\n",
              "9           39          51623            0.0             -      0.0"
            ]
          },
          "metadata": {
            "tags": []
          },
          "execution_count": 34
        }
      ]
    },
    {
      "cell_type": "code",
      "metadata": {
        "colab": {
          "base_uri": "https://localhost:8080/",
          "height": 497
        },
        "id": "hqQvc0Z1aLpK",
        "outputId": "9fa7dc42-1df7-4692-f28a-f729c8da5754"
      },
      "source": [
        "# Festivales statistics.\n",
        "float_data_analyzer(festivales, ['ticket_amount'], 100, 2)"
      ],
      "execution_count": null,
      "outputs": [
        {
          "output_type": "stream",
          "text": [
            "count       10.00\n",
            "mean     50670.40\n",
            "std       2502.75\n",
            "min      43568.00\n",
            "25%      51364.50\n",
            "50%      51439.00\n",
            "75%      51596.75\n",
            "max      51675.00\n",
            "Name: ticket_amount, dtype: float64\n"
          ],
          "name": "stdout"
        },
        {
          "output_type": "display_data",
          "data": {
            "image/png": "[encoded data removed]",
            "text/plain": [
              "<Figure size 864x360 with 2 Axes>"
            ]
          },
          "metadata": {
            "tags": [],
            "needs_background": "light"
          }
        }
      ]
    },
    {
      "cell_type": "markdown",
      "metadata": {
        "id": "jCYTQgDbbrBe"
      },
      "source": [
        "В целом количество приобретённых билетов за выбранный отрезок времени находилось в интервале от 50 до 52 тысяч, 43,5 тысяч во время Park Live выглядят аномалией.\n",
        "\n",
        "Поиск [дополнительной информации](https://iz.ru/771978/2018-07-29/gorillaz-obratilis-k-fanatam-posle-sryva-kontcerta-v-moskve) показал, что во время данного мероприятия случилось следующее происшествие: один из хедлайнеров не смог выступить вследствие штормовой погоды. Возможно из-за прогнозов синоптиков кто-то сознательно отказался от полётов в ту неделю, а возможно были задержаны рейсы.\n",
        "\n",
        "Однако разница относительно основной группы видится значительной."
      ]
    },
    {
      "cell_type": "code",
      "metadata": {
        "colab": {
          "base_uri": "https://localhost:8080/",
          "height": 542
        },
        "id": "tNLILZ7S3bLP",
        "outputId": "9eeb10d8-c318-43f6-b07c-0afe90393f25"
      },
      "source": [
        "# TimeSeries of ticket-buying.\n",
        "fig = go.Figure()\n",
        "\n",
        "# Line.\n",
        "fig.add_trace(go.Scatter(x=festivales['week_number'],\n",
        "                         y=festivales['ticket_amount'],\n",
        "                         mode='lines',\n",
        "                         name='Dynamic',\n",
        "                         marker=dict(color='greenyellow')))\n",
        "\n",
        "# Fest-markers.\n",
        "fig.add_trace(go.Scatter(x=festivales[festivales['is_fest'] == 1]['week_number'],\n",
        "                         y=festivales[festivales['is_fest'] == 1]['ticket_amount'],\n",
        "                         mode='markers',\n",
        "                         name='Fest',\n",
        "                         marker=dict(color='orangered')))\n",
        "\n",
        "# Usual-markers.\n",
        "fig.add_trace(go.Scatter(x=festivales[festivales['is_fest'] == 0]['week_number'],\n",
        "                         y=festivales[festivales['is_fest'] == 0]['ticket_amount'],\n",
        "                         mode='markers',\n",
        "                         name='Usual',\n",
        "                         marker=dict(color='indigo')))\n",
        "\n",
        "# Title & axes.\n",
        "fig.update_layout(title=\"Динамика недельных покупок билетов: 23.07.18 — 30.09.18\",\n",
        "                  yaxis_title='ticket_amount',\n",
        "                  xaxis_title='week_number')\n",
        "fig.show()"
      ],
      "execution_count": null,
      "outputs": [
        {
          "output_type": "display_data",
          "data": {
            "text/html": [
              "<html>\n",
              "<head><meta charset=\"utf-8\" /></head>\n",
              "<body>\n",
              "    <div>\n",
              "            <script src=\"https://cdnjs.cloudflare.com/ajax/libs/mathjax/2.7.5/MathJax.js?config=TeX-AMS-MML_SVG\"></script><script type=\"text/javascript\">if (window.MathJax) {MathJax.Hub.Config({SVG: {font: \"STIX-Web\"}});}</script>\n",
              "                <script type=\"text/javascript\">window.PlotlyConfig = {MathJaxConfig: 'local'};</script>\n",
              "        <script src=\"https://cdn.plot.ly/plotly-latest.min.js\"></script>    \n",
              "            <div id=\"957d4e6b-0708-4bb0-b17f-45f45cbeefe2\" class=\"plotly-graph-div\" style=\"height:525px; width:100%;\"></div>\n",
              "            <script type=\"text/javascript\">\n",
              "                \n",
              "                    window.PLOTLYENV=window.PLOTLYENV || {};\n",
              "                    \n",
              "                if (document.getElementById(\"957d4e6b-0708-4bb0-b17f-45f45cbeefe2\")) {\n",
              "                    Plotly.newPlot(\n",
              "                        '957d4e6b-0708-4bb0-b17f-45f45cbeefe2',\n",
              "                        [{\"marker\": {\"color\": \"greenyellow\"}, \"mode\": \"lines\", \"name\": \"Dynamic\", \"type\": \"scatter\", \"x\": [30, 31, 32, 33, 34, 35, 36, 37, 38, 39], \"y\": [43568, 51034, 51675, 51378, 51492, 51360, 51386, 51670, 51518, 51623]}, {\"marker\": {\"color\": \"orangered\"}, \"mode\": \"markers\", \"name\": \"Fest\", \"type\": \"scatter\", \"x\": [30, 31, 36], \"y\": [43568, 51034, 51386]}, {\"marker\": {\"color\": \"indigo\"}, \"mode\": \"markers\", \"name\": \"Usual\", \"type\": \"scatter\", \"x\": [32, 33, 34, 35, 37, 38, 39], \"y\": [51675, 51378, 51492, 51360, 51670, 51518, 51623]}],\n",
              "                        {\"template\": {\"data\": {\"bar\": [{\"error_x\": {\"color\": \"#2a3f5f\"}, \"error_y\": {\"color\": \"#2a3f5f\"}, \"marker\": {\"line\": {\"color\": \"#E5ECF6\", \"width\": 0.5}}, \"type\": \"bar\"}], \"barpolar\": [{\"marker\": {\"line\": {\"color\": \"#E5ECF6\", \"width\": 0.5}}, \"type\": \"barpolar\"}], \"carpet\": [{\"aaxis\": {\"endlinecolor\": \"#2a3f5f\", \"gridcolor\": \"white\", \"linecolor\": \"white\", \"minorgridcolor\": \"white\", \"startlinecolor\": \"#2a3f5f\"}, \"baxis\": {\"endlinecolor\": \"#2a3f5f\", \"gridcolor\": \"white\", \"linecolor\": \"white\", \"minorgridcolor\": \"white\", \"startlinecolor\": \"#2a3f5f\"}, \"type\": \"carpet\"}], \"choropleth\": [{\"colorbar\": {\"outlinewidth\": 0, \"ticks\": \"\"}, \"type\": \"choropleth\"}], \"contour\": [{\"colorbar\": {\"outlinewidth\": 0, \"ticks\": \"\"}, \"colorscale\": [[0.0, \"#0d0887\"], [0.1111111111111111, \"#46039f\"], [0.2222222222222222, \"#7201a8\"], [0.3333333333333333, \"#9c179e\"], [0.4444444444444444, \"#bd3786\"], [0.5555555555555556, \"#d8576b\"], [0.6666666666666666, \"#ed7953\"], [0.7777777777777778, \"#fb9f3a\"], [0.8888888888888888, \"#fdca26\"], [1.0, \"#f0f921\"]], \"type\": \"contour\"}], \"contourcarpet\": [{\"colorbar\": {\"outlinewidth\": 0, \"ticks\": \"\"}, \"type\": \"contourcarpet\"}], \"heatmap\": [{\"colorbar\": {\"outlinewidth\": 0, \"ticks\": \"\"}, \"colorscale\": [[0.0, \"#0d0887\"], [0.1111111111111111, \"#46039f\"], [0.2222222222222222, \"#7201a8\"], [0.3333333333333333, \"#9c179e\"], [0.4444444444444444, \"#bd3786\"], [0.5555555555555556, \"#d8576b\"], [0.6666666666666666, \"#ed7953\"], [0.7777777777777778, \"#fb9f3a\"], [0.8888888888888888, \"#fdca26\"], [1.0, \"#f0f921\"]], \"type\": \"heatmap\"}], \"heatmapgl\": [{\"colorbar\": {\"outlinewidth\": 0, \"ticks\": \"\"}, \"colorscale\": [[0.0, \"#0d0887\"], [0.1111111111111111, \"#46039f\"], [0.2222222222222222, \"#7201a8\"], [0.3333333333333333, \"#9c179e\"], [0.4444444444444444, \"#bd3786\"], [0.5555555555555556, \"#d8576b\"], [0.6666666666666666, \"#ed7953\"], [0.7777777777777778, \"#fb9f3a\"], [0.8888888888888888, \"#fdca26\"], [1.0, \"#f0f921\"]], \"type\": \"heatmapgl\"}], \"histogram\": [{\"marker\": {\"colorbar\": {\"outlinewidth\": 0, \"ticks\": \"\"}}, \"type\": \"histogram\"}], \"histogram2d\": [{\"colorbar\": {\"outlinewidth\": 0, \"ticks\": \"\"}, \"colorscale\": [[0.0, \"#0d0887\"], [0.1111111111111111, \"#46039f\"], [0.2222222222222222, \"#7201a8\"], [0.3333333333333333, \"#9c179e\"], [0.4444444444444444, \"#bd3786\"], [0.5555555555555556, \"#d8576b\"], [0.6666666666666666, \"#ed7953\"], [0.7777777777777778, \"#fb9f3a\"], [0.8888888888888888, \"#fdca26\"], [1.0, \"#f0f921\"]], \"type\": \"histogram2d\"}], \"histogram2dcontour\": [{\"colorbar\": {\"outlinewidth\": 0, \"ticks\": \"\"}, \"colorscale\": [[0.0, \"#0d0887\"], [0.1111111111111111, \"#46039f\"], [0.2222222222222222, \"#7201a8\"], [0.3333333333333333, \"#9c179e\"], [0.4444444444444444, \"#bd3786\"], [0.5555555555555556, \"#d8576b\"], [0.6666666666666666, \"#ed7953\"], [0.7777777777777778, \"#fb9f3a\"], [0.8888888888888888, \"#fdca26\"], [1.0, \"#f0f921\"]], \"type\": \"histogram2dcontour\"}], \"mesh3d\": [{\"colorbar\": {\"outlinewidth\": 0, \"ticks\": \"\"}, \"type\": \"mesh3d\"}], \"parcoords\": [{\"line\": {\"colorbar\": {\"outlinewidth\": 0, \"ticks\": \"\"}}, \"type\": \"parcoords\"}], \"pie\": [{\"automargin\": true, \"type\": \"pie\"}], \"scatter\": [{\"marker\": {\"colorbar\": {\"outlinewidth\": 0, \"ticks\": \"\"}}, \"type\": \"scatter\"}], \"scatter3d\": [{\"line\": {\"colorbar\": {\"outlinewidth\": 0, \"ticks\": \"\"}}, \"marker\": {\"colorbar\": {\"outlinewidth\": 0, \"ticks\": \"\"}}, \"type\": \"scatter3d\"}], \"scattercarpet\": [{\"marker\": {\"colorbar\": {\"outlinewidth\": 0, \"ticks\": \"\"}}, \"type\": \"scattercarpet\"}], \"scattergeo\": [{\"marker\": {\"colorbar\": {\"outlinewidth\": 0, \"ticks\": \"\"}}, \"type\": \"scattergeo\"}], \"scattergl\": [{\"marker\": {\"colorbar\": {\"outlinewidth\": 0, \"ticks\": \"\"}}, \"type\": \"scattergl\"}], \"scattermapbox\": [{\"marker\": {\"colorbar\": {\"outlinewidth\": 0, \"ticks\": \"\"}}, \"type\": \"scattermapbox\"}], \"scatterpolar\": [{\"marker\": {\"colorbar\": {\"outlinewidth\": 0, \"ticks\": \"\"}}, \"type\": \"scatterpolar\"}], \"scatterpolargl\": [{\"marker\": {\"colorbar\": {\"outlinewidth\": 0, \"ticks\": \"\"}}, \"type\": \"scatterpolargl\"}], \"scatterternary\": [{\"marker\": {\"colorbar\": {\"outlinewidth\": 0, \"ticks\": \"\"}}, \"type\": \"scatterternary\"}], \"surface\": [{\"colorbar\": {\"outlinewidth\": 0, \"ticks\": \"\"}, \"colorscale\": [[0.0, \"#0d0887\"], [0.1111111111111111, \"#46039f\"], [0.2222222222222222, \"#7201a8\"], [0.3333333333333333, \"#9c179e\"], [0.4444444444444444, \"#bd3786\"], [0.5555555555555556, \"#d8576b\"], [0.6666666666666666, \"#ed7953\"], [0.7777777777777778, \"#fb9f3a\"], [0.8888888888888888, \"#fdca26\"], [1.0, \"#f0f921\"]], \"type\": \"surface\"}], \"table\": [{\"cells\": {\"fill\": {\"color\": \"#EBF0F8\"}, \"line\": {\"color\": \"white\"}}, \"header\": {\"fill\": {\"color\": \"#C8D4E3\"}, \"line\": {\"color\": \"white\"}}, \"type\": \"table\"}]}, \"layout\": {\"annotationdefaults\": {\"arrowcolor\": \"#2a3f5f\", \"arrowhead\": 0, \"arrowwidth\": 1}, \"coloraxis\": {\"colorbar\": {\"outlinewidth\": 0, \"ticks\": \"\"}}, \"colorscale\": {\"diverging\": [[0, \"#8e0152\"], [0.1, \"#c51b7d\"], [0.2, \"#de77ae\"], [0.3, \"#f1b6da\"], [0.4, \"#fde0ef\"], [0.5, \"#f7f7f7\"], [0.6, \"#e6f5d0\"], [0.7, \"#b8e186\"], [0.8, \"#7fbc41\"], [0.9, \"#4d9221\"], [1, \"#276419\"]], \"sequential\": [[0.0, \"#0d0887\"], [0.1111111111111111, \"#46039f\"], [0.2222222222222222, \"#7201a8\"], [0.3333333333333333, \"#9c179e\"], [0.4444444444444444, \"#bd3786\"], [0.5555555555555556, \"#d8576b\"], [0.6666666666666666, \"#ed7953\"], [0.7777777777777778, \"#fb9f3a\"], [0.8888888888888888, \"#fdca26\"], [1.0, \"#f0f921\"]], \"sequentialminus\": [[0.0, \"#0d0887\"], [0.1111111111111111, \"#46039f\"], [0.2222222222222222, \"#7201a8\"], [0.3333333333333333, \"#9c179e\"], [0.4444444444444444, \"#bd3786\"], [0.5555555555555556, \"#d8576b\"], [0.6666666666666666, \"#ed7953\"], [0.7777777777777778, \"#fb9f3a\"], [0.8888888888888888, \"#fdca26\"], [1.0, \"#f0f921\"]]}, \"colorway\": [\"#636efa\", \"#EF553B\", \"#00cc96\", \"#ab63fa\", \"#FFA15A\", \"#19d3f3\", \"#FF6692\", \"#B6E880\", \"#FF97FF\", \"#FECB52\"], \"font\": {\"color\": \"#2a3f5f\"}, \"geo\": {\"bgcolor\": \"white\", \"lakecolor\": \"white\", \"landcolor\": \"#E5ECF6\", \"showlakes\": true, \"showland\": true, \"subunitcolor\": \"white\"}, \"hoverlabel\": {\"align\": \"left\"}, \"hovermode\": \"closest\", \"mapbox\": {\"style\": \"light\"}, \"paper_bgcolor\": \"white\", \"plot_bgcolor\": \"#E5ECF6\", \"polar\": {\"angularaxis\": {\"gridcolor\": \"white\", \"linecolor\": \"white\", \"ticks\": \"\"}, \"bgcolor\": \"#E5ECF6\", \"radialaxis\": {\"gridcolor\": \"white\", \"linecolor\": \"white\", \"ticks\": \"\"}}, \"scene\": {\"xaxis\": {\"backgroundcolor\": \"#E5ECF6\", \"gridcolor\": \"white\", \"gridwidth\": 2, \"linecolor\": \"white\", \"showbackground\": true, \"ticks\": \"\", \"zerolinecolor\": \"white\"}, \"yaxis\": {\"backgroundcolor\": \"#E5ECF6\", \"gridcolor\": \"white\", \"gridwidth\": 2, \"linecolor\": \"white\", \"showbackground\": true, \"ticks\": \"\", \"zerolinecolor\": \"white\"}, \"zaxis\": {\"backgroundcolor\": \"#E5ECF6\", \"gridcolor\": \"white\", \"gridwidth\": 2, \"linecolor\": \"white\", \"showbackground\": true, \"ticks\": \"\", \"zerolinecolor\": \"white\"}}, \"shapedefaults\": {\"line\": {\"color\": \"#2a3f5f\"}}, \"ternary\": {\"aaxis\": {\"gridcolor\": \"white\", \"linecolor\": \"white\", \"ticks\": \"\"}, \"baxis\": {\"gridcolor\": \"white\", \"linecolor\": \"white\", \"ticks\": \"\"}, \"bgcolor\": \"#E5ECF6\", \"caxis\": {\"gridcolor\": \"white\", \"linecolor\": \"white\", \"ticks\": \"\"}}, \"title\": {\"x\": 0.05}, \"xaxis\": {\"automargin\": true, \"gridcolor\": \"white\", \"linecolor\": \"white\", \"ticks\": \"\", \"title\": {\"standoff\": 15}, \"zerolinecolor\": \"white\", \"zerolinewidth\": 2}, \"yaxis\": {\"automargin\": true, \"gridcolor\": \"white\", \"linecolor\": \"white\", \"ticks\": \"\", \"title\": {\"standoff\": 15}, \"zerolinecolor\": \"white\", \"zerolinewidth\": 2}}}, \"title\": {\"text\": \"\\u0414\\u0438\\u043d\\u0430\\u043c\\u0438\\u043a\\u0430 \\u043d\\u0435\\u0434\\u0435\\u043b\\u044c\\u043d\\u044b\\u0445 \\u043f\\u043e\\u043a\\u0443\\u043f\\u043e\\u043a \\u0431\\u0438\\u043b\\u0435\\u0442\\u043e\\u0432: 23.07.18 \\u2014 30.09.18\"}, \"xaxis\": {\"title\": {\"text\": \"week_number\"}}, \"yaxis\": {\"title\": {\"text\": \"ticket_amount\"}}},\n",
              "                        {\"responsive\": true}\n",
              "                    ).then(function(){\n",
              "                            \n",
              "var gd = document.getElementById('957d4e6b-0708-4bb0-b17f-45f45cbeefe2');\n",
              "var x = new MutationObserver(function (mutations, observer) {{\n",
              "        var display = window.getComputedStyle(gd).display;\n",
              "        if (!display || display === 'none') {{\n",
              "            console.log([gd, 'removed!']);\n",
              "            Plotly.purge(gd);\n",
              "            observer.disconnect();\n",
              "        }}\n",
              "}});\n",
              "\n",
              "// Listen for the removal of the full notebook cells\n",
              "var notebookContainer = gd.closest('#notebook-container');\n",
              "if (notebookContainer) {{\n",
              "    x.observe(notebookContainer, {childList: true});\n",
              "}}\n",
              "\n",
              "// Listen for the clearing of the current output cell\n",
              "var outputEl = gd.closest('.output');\n",
              "if (outputEl) {{\n",
              "    x.observe(outputEl, {childList: true});\n",
              "}}\n",
              "\n",
              "                        })\n",
              "                };\n",
              "                \n",
              "            </script>\n",
              "        </div>\n",
              "</body>\n",
              "</html>"
            ]
          },
          "metadata": {
            "tags": []
          }
        }
      ]
    },
    {
      "cell_type": "markdown",
      "metadata": {
        "id": "-iMPkB9xEW6B"
      },
      "source": [
        "Как видно из графика, первая точка, соответствующая фестивалю Park Live, значительно отстоит от остальных. Точка соответствующая Видфесту ничем не отличается от соседних (кроме цвета), что говорит о том, что это событие слабо связано с покупками билетов."
      ]
    },
    {
      "cell_type": "markdown",
      "metadata": {
        "id": "SPk8dJfaJG4S"
      },
      "source": [
        "## **Вывод по этапу**"
      ]
    },
    {
      "cell_type": "markdown",
      "metadata": {
        "id": "16S3EVJYJLO2"
      },
      "source": [
        "После анализа имеющихся данных получены следующие выводы:\n",
        "- Большая часть рейсов, по данным заказчика, приходится на небольшие самолёты;\n",
        "- Большая часть пассажиров доставляется с помощью Superjet, Boeing 767 и Bombardier CRJ-200;\n",
        "- Самыми популярными пунктами назначения являются Москва и Санкт-Петербург;\n",
        "- Количество билетов проданное во время проведения фестиваля Park Live сильно отличается от продаж за другие недели;\n",
        "- Количество билетов проданное во время проведения фестиваля Park Live е сильно отличается от продаж за соседние недели.\n",
        "\n",
        "Также стоит отметить, что данных для анализа немного (10 объектов: 3 фестивальных недели и 7 обычных), это определяет методику проверки гипотез.\n"
      ]
    },
    {
      "cell_type": "markdown",
      "metadata": {
        "id": "RV6V3bKCmkX-"
      },
      "source": [
        "# **2. Проверка гипотезы**"
      ]
    },
    {
      "cell_type": "markdown",
      "metadata": {
        "id": "ujGux6V80vYk"
      },
      "source": [
        "Требуется проверить гипотезу:\n",
        "- «Средний спрос на билеты во время фестивалей не отличается от среднего спроса на билеты в обычное время»."
      ]
    },
    {
      "cell_type": "markdown",
      "metadata": {
        "id": "MvVogKXB7WZN"
      },
      "source": [
        "## **2.1 Теоретические обоснования**"
      ]
    },
    {
      "cell_type": "markdown",
      "metadata": {
        "id": "jJRm5COX7bZq"
      },
      "source": [
        "Проверить гипотезу о равенстве средних значений двух выборок можно с помощью теста Стьюдента.\n",
        "\n",
        "Тест Стьюдента предполагает, что выборки имеют нормальное распределение. Для независимых выборок также требуется условие [равенства дисперсий](https://ru.wikipedia.org/wiki/T-%D0%BA%D1%80%D0%B8%D1%82%D0%B5%D1%80%D0%B8%D0%B9_%D0%A1%D1%82%D1%8C%D1%8E%D0%B4%D0%B5%D0%BD%D1%82%D0%B0#%D0%A2%D1%80%D0%B5%D0%B1%D0%BE%D0%B2%D0%B0%D0%BD%D0%B8%D1%8F_%D0%BA_%D0%B4%D0%B0%D0%BD%D0%BD%D1%8B%D0%BC).\n",
        "\n",
        "Дисперсии генеральных выборок неизвестны, доступны только выборочные дисперсии.\n",
        "\n",
        "Таким образом требуется оценить распределения выборок, а также их дисперсии.\n",
        "\n",
        "Для оценки нормальности распределения предлагается использовать тест Шапиро-Уилка. Критическим уровнем значимости для теста на нормальность предлагается взять значение alpha = 0.05.\n",
        "- **$H_0$**: Распределение похоже на нормальное, не удалось отвергнуть нулевую гипотезу;\n",
        "- **$H_1$**: Распределение не похоже на нормальное, нулевую гипотезу стоит отвергнуть."
      ]
    },
    {
      "cell_type": "code",
      "metadata": {
        "id": "Nlgb_uDqiWRG"
      },
      "source": [
        "# Distribution test for normality.\n",
        "def shapiro_test(data):\n",
        "    alpha = 0.05\n",
        "    stat, p = st.shapiro(data)\n",
        "    print('p-value:', p)\n",
        "    if p > alpha:\n",
        "        print('Распределение похоже на нормальное, не удалось отвергнуть нулевую гипотезу')\n",
        "    else:\n",
        "        print('Распределение не похоже на нормальное, нулевую гипотезу стоит отвергнуть')"
      ],
      "execution_count": null,
      "outputs": []
    },
    {
      "cell_type": "code",
      "metadata": {
        "id": "riJQ2FzDjBzO"
      },
      "source": [
        "# Split festivales.\n",
        "fest_set = festivales[festivales['is_fest'] == 1]\n",
        "usual_set = festivales[festivales['is_fest'] == 0]"
      ],
      "execution_count": null,
      "outputs": []
    },
    {
      "cell_type": "code",
      "metadata": {
        "colab": {
          "base_uri": "https://localhost:8080/",
          "height": 133
        },
        "id": "jphYhTZQjUAS",
        "outputId": "7ecea7a1-6cc0-417a-e2a4-4a93e43c6f05"
      },
      "source": [
        "fest_set"
      ],
      "execution_count": null,
      "outputs": [
        {
          "output_type": "execute_result",
          "data": {
            "text/html": [
              "<div>\n",
              "<style scoped>\n",
              "    .dataframe tbody tr th:only-of-type {\n",
              "        vertical-align: middle;\n",
              "    }\n",
              "\n",
              "    .dataframe tbody tr th {\n",
              "        vertical-align: top;\n",
              "    }\n",
              "\n",
              "    .dataframe thead th {\n",
              "        text-align: right;\n",
              "    }\n",
              "</style>\n",
              "<table border=\"1\" class=\"dataframe\">\n",
              "  <thead>\n",
              "    <tr style=\"text-align: right;\">\n",
              "      <th></th>\n",
              "      <th>week_number</th>\n",
              "      <th>ticket_amount</th>\n",
              "      <th>festival_week</th>\n",
              "      <th>festival_name</th>\n",
              "      <th>is_fest</th>\n",
              "    </tr>\n",
              "  </thead>\n",
              "  <tbody>\n",
              "    <tr>\n",
              "      <th>0</th>\n",
              "      <td>30</td>\n",
              "      <td>43568</td>\n",
              "      <td>30.0</td>\n",
              "      <td>Park Live</td>\n",
              "      <td>1.0</td>\n",
              "    </tr>\n",
              "    <tr>\n",
              "      <th>1</th>\n",
              "      <td>31</td>\n",
              "      <td>51034</td>\n",
              "      <td>31.0</td>\n",
              "      <td>Пикник Афиши</td>\n",
              "      <td>1.0</td>\n",
              "    </tr>\n",
              "    <tr>\n",
              "      <th>6</th>\n",
              "      <td>36</td>\n",
              "      <td>51386</td>\n",
              "      <td>36.0</td>\n",
              "      <td>Видфест</td>\n",
              "      <td>1.0</td>\n",
              "    </tr>\n",
              "  </tbody>\n",
              "</table>\n",
              "</div>"
            ],
            "text/plain": [
              "   week_number  ticket_amount  festival_week festival_name  is_fest\n",
              "0           30          43568           30.0     Park Live      1.0\n",
              "1           31          51034           31.0  Пикник Афиши      1.0\n",
              "6           36          51386           36.0       Видфест      1.0"
            ]
          },
          "metadata": {
            "tags": []
          },
          "execution_count": 39
        }
      ]
    },
    {
      "cell_type": "code",
      "metadata": {
        "colab": {
          "base_uri": "https://localhost:8080/",
          "height": 248
        },
        "id": "qLRcFxJZjVFD",
        "outputId": "e2f2ea7e-0974-416c-d949-2852ab8d959c"
      },
      "source": [
        "usual_set"
      ],
      "execution_count": null,
      "outputs": [
        {
          "output_type": "execute_result",
          "data": {
            "text/html": [
              "<div>\n",
              "<style scoped>\n",
              "    .dataframe tbody tr th:only-of-type {\n",
              "        vertical-align: middle;\n",
              "    }\n",
              "\n",
              "    .dataframe tbody tr th {\n",
              "        vertical-align: top;\n",
              "    }\n",
              "\n",
              "    .dataframe thead th {\n",
              "        text-align: right;\n",
              "    }\n",
              "</style>\n",
              "<table border=\"1\" class=\"dataframe\">\n",
              "  <thead>\n",
              "    <tr style=\"text-align: right;\">\n",
              "      <th></th>\n",
              "      <th>week_number</th>\n",
              "      <th>ticket_amount</th>\n",
              "      <th>festival_week</th>\n",
              "      <th>festival_name</th>\n",
              "      <th>is_fest</th>\n",
              "    </tr>\n",
              "  </thead>\n",
              "  <tbody>\n",
              "    <tr>\n",
              "      <th>2</th>\n",
              "      <td>32</td>\n",
              "      <td>51675</td>\n",
              "      <td>0.0</td>\n",
              "      <td>-</td>\n",
              "      <td>0.0</td>\n",
              "    </tr>\n",
              "    <tr>\n",
              "      <th>3</th>\n",
              "      <td>33</td>\n",
              "      <td>51378</td>\n",
              "      <td>0.0</td>\n",
              "      <td>-</td>\n",
              "      <td>0.0</td>\n",
              "    </tr>\n",
              "    <tr>\n",
              "      <th>4</th>\n",
              "      <td>34</td>\n",
              "      <td>51492</td>\n",
              "      <td>0.0</td>\n",
              "      <td>-</td>\n",
              "      <td>0.0</td>\n",
              "    </tr>\n",
              "    <tr>\n",
              "      <th>5</th>\n",
              "      <td>35</td>\n",
              "      <td>51360</td>\n",
              "      <td>0.0</td>\n",
              "      <td>-</td>\n",
              "      <td>0.0</td>\n",
              "    </tr>\n",
              "    <tr>\n",
              "      <th>7</th>\n",
              "      <td>37</td>\n",
              "      <td>51670</td>\n",
              "      <td>0.0</td>\n",
              "      <td>-</td>\n",
              "      <td>0.0</td>\n",
              "    </tr>\n",
              "    <tr>\n",
              "      <th>8</th>\n",
              "      <td>38</td>\n",
              "      <td>51518</td>\n",
              "      <td>0.0</td>\n",
              "      <td>-</td>\n",
              "      <td>0.0</td>\n",
              "    </tr>\n",
              "    <tr>\n",
              "      <th>9</th>\n",
              "      <td>39</td>\n",
              "      <td>51623</td>\n",
              "      <td>0.0</td>\n",
              "      <td>-</td>\n",
              "      <td>0.0</td>\n",
              "    </tr>\n",
              "  </tbody>\n",
              "</table>\n",
              "</div>"
            ],
            "text/plain": [
              "   week_number  ticket_amount  festival_week festival_name  is_fest\n",
              "2           32          51675            0.0             -      0.0\n",
              "3           33          51378            0.0             -      0.0\n",
              "4           34          51492            0.0             -      0.0\n",
              "5           35          51360            0.0             -      0.0\n",
              "7           37          51670            0.0             -      0.0\n",
              "8           38          51518            0.0             -      0.0\n",
              "9           39          51623            0.0             -      0.0"
            ]
          },
          "metadata": {
            "tags": []
          },
          "execution_count": 40
        }
      ]
    },
    {
      "cell_type": "code",
      "metadata": {
        "colab": {
          "base_uri": "https://localhost:8080/",
          "height": 366
        },
        "id": "lKgEKvg_mjqw",
        "outputId": "4f928a06-42f0-4d15-b870-d3ca3f9e2b18"
      },
      "source": [
        "# Distributions.\n",
        "fig, ax = plt.subplots(nrows=1, ncols=3, figsize=(18, 5))\n",
        "\n",
        "# Fest.\n",
        "sns.distplot(fest_set['ticket_amount'], ax=ax[0], color='indigo', label='Fest')\n",
        "ax[0].set_title('Распределение купленных билетов \\n за фестивальные недели')\n",
        "ax[0].grid()\n",
        "ax[0].legend()\n",
        "\n",
        "# Usual.\n",
        "sns.distplot(usual_set['ticket_amount'], ax=ax[1], label='Usual')\n",
        "ax[1].set_title('Распределение купленных билетов \\n за обычные недели')\n",
        "ax[1].grid()\n",
        "ax[1].legend()\n",
        "\n",
        "# Common.\n",
        "sns.distplot(fest_set['ticket_amount'], ax=ax[2], color='indigo', label='Fest')\n",
        "sns.distplot(usual_set['ticket_amount'], ax=ax[2], label='Usual')\n",
        "ax[2].set_title('Распределения купленных билетов \\n за обычные и фестивальные недели')\n",
        "ax[2].grid()\n",
        "ax[2].legend()\n",
        "\n",
        "plt.show()"
      ],
      "execution_count": null,
      "outputs": [
        {
          "output_type": "display_data",
          "data": {
            "image/png": "[encoded data removed]",
            "text/plain": [
              "<Figure size 1296x360 with 3 Axes>"
            ]
          },
          "metadata": {
            "tags": [],
            "needs_background": "light"
          }
        }
      ]
    },
    {
      "cell_type": "code",
      "metadata": {
        "colab": {
          "base_uri": "https://localhost:8080/"
        },
        "id": "_WmruYX-kKDA",
        "outputId": "ea208d44-b465-4133-fedf-1ba6c67b38db"
      },
      "source": [
        "shapiro_test(fest_set['ticket_amount'])"
      ],
      "execution_count": null,
      "outputs": [
        {
          "output_type": "stream",
          "text": [
            "p-value: 0.07614270597696304\n",
            "Распределение похоже на нормальное, не удалось отвергнуть нулевую гипотезу\n"
          ],
          "name": "stdout"
        }
      ]
    },
    {
      "cell_type": "code",
      "metadata": {
        "colab": {
          "base_uri": "https://localhost:8080/"
        },
        "id": "I9ncqJ7nkt8_",
        "outputId": "bd762317-a741-4f87-8d00-2c9557cedf83"
      },
      "source": [
        "shapiro_test(usual_set['ticket_amount'])"
      ],
      "execution_count": null,
      "outputs": [
        {
          "output_type": "stream",
          "text": [
            "p-value: 0.29630061984062195\n",
            "Распределение похоже на нормальное, не удалось отвергнуть нулевую гипотезу\n"
          ],
          "name": "stdout"
        }
      ]
    },
    {
      "cell_type": "markdown",
      "metadata": {
        "id": "mSxnNvQ-tpLu"
      },
      "source": [
        "Тесты показали, что обе выборки могут иметь нормальное распределение. Однако малое количество данных не позволяет однозначно довериться данному результату."
      ]
    },
    {
      "cell_type": "code",
      "metadata": {
        "colab": {
          "base_uri": "https://localhost:8080/"
        },
        "id": "bI4S3KZ1uL2d",
        "outputId": "196410ce-253f-40b7-c84c-10f54c367ac9"
      },
      "source": [
        "for data, name in zip([fest_set['ticket_amount'], usual_set['ticket_amount']], ['Fest', 'Usual']):\n",
        "    print(name)\n",
        "    print(round(data.var(ddof=1), 3))\n",
        "    print(data.describe().round(3))\n",
        "    print()\n",
        "    print('~~~~~~~~~~~~~~~~~~~~~~~~~~~~~~~~~~~~~~~~~~~')\n",
        "    print()"
      ],
      "execution_count": null,
      "outputs": [
        {
          "output_type": "stream",
          "text": [
            "Fest\n",
            "19497697.333\n",
            "count        3.000\n",
            "mean     48662.667\n",
            "std       4415.620\n",
            "min      43568.000\n",
            "25%      47301.000\n",
            "50%      51034.000\n",
            "75%      51210.000\n",
            "max      51386.000\n",
            "Name: ticket_amount, dtype: float64\n",
            "\n",
            "~~~~~~~~~~~~~~~~~~~~~~~~~~~~~~~~~~~~~~~~~~~\n",
            "\n",
            "Usual\n",
            "17143.476\n",
            "count        7.000\n",
            "mean     51530.857\n",
            "std        130.933\n",
            "min      51360.000\n",
            "25%      51435.000\n",
            "50%      51518.000\n",
            "75%      51646.500\n",
            "max      51675.000\n",
            "Name: ticket_amount, dtype: float64\n",
            "\n",
            "~~~~~~~~~~~~~~~~~~~~~~~~~~~~~~~~~~~~~~~~~~~\n",
            "\n"
          ],
          "name": "stdout"
        }
      ]
    },
    {
      "cell_type": "markdown",
      "metadata": {
        "id": "h8hxGGbmw_Mx"
      },
      "source": [
        "Выборочные дисперсии (и стандартные отклоненения) отличаются на несколько порядков. Исходя из этого, а также из малого количества данных предлагается использовать для проверки гипотезы не тест Стьюдента, а непараметрический тест Уилкоксона-Манна-Уитни."
      ]
    },
    {
      "cell_type": "markdown",
      "metadata": {
        "id": "9T6-DjZ5zcS6"
      },
      "source": [
        "## **2.2 Тестирование**"
      ]
    },
    {
      "cell_type": "markdown",
      "metadata": {
        "id": "lNaAD-ExzljI"
      },
      "source": [
        "Исходя из первоначальной формулировки задания были получены следующие нулевая и альтернативные гипотезы:\n",
        "- **$H_0$**: $\\mu_1 = \\mu_2$;\n",
        "- **$H_1$**: $\\mu_1 \\neq \\mu_2$.\n",
        "\n",
        "где:  \n",
        "$\\mu_1$ - среднее значение спроса на билеты (среднее количество проданных билетов) во время фестивалей,  \n",
        "$\\mu_2$ - среднее значение спроса на билеты (среднее количество проданных билетов) в обычное время.\n",
        "\n",
        "Критическим уровнем значимости для теста на нормальность предлагается взять значение alpha = 0.05."
      ]
    },
    {
      "cell_type": "code",
      "metadata": {
        "id": "H0Kzj93uzkNJ"
      },
      "source": [
        "# Equality test.\n",
        "def U_test(set_1, set_2, alternative):\n",
        "    '''This function make Mann-Whitney equality-test'''\n",
        "\n",
        "    alpha = 0.05\n",
        "    stat, p = st.mannwhitneyu(set_1, set_2, alternative=alternative)\n",
        "    print('p-value:', p)\n",
        "    if p > alpha:\n",
        "        print('Не удалось отвергнуть нулевую гипотезу')\n",
        "    else:\n",
        "        print('Нулевую гипотезу стоит отвергнуть')"
      ],
      "execution_count": null,
      "outputs": []
    },
    {
      "cell_type": "code",
      "metadata": {
        "colab": {
          "base_uri": "https://localhost:8080/"
        },
        "id": "7X1znyc51x4X",
        "outputId": "ecb3c304-a4b2-47d2-f25e-4df24623f2f3"
      },
      "source": [
        "U_test(fest_set['ticket_amount'], usual_set['ticket_amount'], 'two-sided')"
      ],
      "execution_count": null,
      "outputs": [
        {
          "output_type": "stream",
          "text": [
            "p-value: 0.06824748837800128\n",
            "Не удалось отвергнуть нулевую гипотезу\n"
          ],
          "name": "stdout"
        }
      ]
    },
    {
      "cell_type": "markdown",
      "metadata": {
        "id": "-dCHv0mv6igu"
      },
      "source": [
        "Тест показал, что нет оснований отвергать нулевую гипотезу, т.е. **вполне допустимо, что спрос на билеты не зависит от проведения фестивалей.**\n",
        "\n",
        "Однако стоит учитывать, что данных очень мало. Для подобных исследований стоит брать данные за больший промежуток, либо с меньшими интервалами (закупки по дням)."
      ]
    },
    {
      "cell_type": "markdown",
      "metadata": {
        "id": "7IUcu0P67GAE"
      },
      "source": [
        "Для сравнения предлагается всё же провести тест Стьюдента."
      ]
    },
    {
      "cell_type": "code",
      "metadata": {
        "id": "r2rFEkKT4Pxb"
      },
      "source": [
        "# Equality test.\n",
        "def student_test(set_1, set_2, equal_var):\n",
        "    '''This function make Student equality-test'''\n",
        "\n",
        "    alpha = 0.05\n",
        "    stat, p = st.ttest_ind(set_1, set_2, equal_var=equal_var)\n",
        "    print('p-value:', p)\n",
        "    if p > alpha:\n",
        "        print('Не удалось отвергнуть нулевую гипотезу')\n",
        "    else:\n",
        "        print('Нулевую гипотезу стоит отвергнуть')"
      ],
      "execution_count": null,
      "outputs": []
    },
    {
      "cell_type": "code",
      "metadata": {
        "colab": {
          "base_uri": "https://localhost:8080/"
        },
        "id": "1st3hYsy4LXC",
        "outputId": "b5c5a574-9fe5-4778-8d2d-8c37d4bea313"
      },
      "source": [
        "student_test(fest_set['ticket_amount'], usual_set['ticket_amount'], False)"
      ],
      "execution_count": null,
      "outputs": [
        {
          "output_type": "stream",
          "text": [
            "p-value: 0.377432493172683\n",
            "Не удалось отвергнуть нулевую гипотезу\n"
          ],
          "name": "stdout"
        }
      ]
    },
    {
      "cell_type": "markdown",
      "metadata": {
        "id": "jJY1EGFb7MZU"
      },
      "source": [
        "Как и в случае U-теста нулевая гипотеза не была отвергнута. Однако достигнутый уровень значимости получился много большим."
      ]
    },
    {
      "cell_type": "markdown",
      "metadata": {
        "id": "TWKc9IDz7mBH"
      },
      "source": [
        "## **Вывод по этапу**"
      ]
    },
    {
      "cell_type": "markdown",
      "metadata": {
        "id": "AWliMaZK7pGP"
      },
      "source": [
        "Тестирование показало, что средний спрос на билеты во время фестивалей не отличается от среднего спроса на билеты в обычное время."
      ]
    },
    {
      "cell_type": "markdown",
      "metadata": {
        "id": "UL4HG9yi74-s"
      },
      "source": [
        "# **Вывод по проекту**"
      ]
    },
    {
      "cell_type": "markdown",
      "metadata": {
        "id": "DynCu5Od8Ak8"
      },
      "source": [
        "В рамках проекта было проведено исследование данных о воздушных перевозках:\n",
        "- изучены объёмы перевозок с помощью различных моделей самолётов. Самый эффективный — Sukhoi SuperJet-100;\n",
        "- определены наиболее популярные пункты назначения (Москва, Санкт-Петербург);\n",
        "- проверена и признана непротиворечивой гипотеза о том, что фестивали не влияют количество покупаемых билетов."
      ]
    }
  ]
}